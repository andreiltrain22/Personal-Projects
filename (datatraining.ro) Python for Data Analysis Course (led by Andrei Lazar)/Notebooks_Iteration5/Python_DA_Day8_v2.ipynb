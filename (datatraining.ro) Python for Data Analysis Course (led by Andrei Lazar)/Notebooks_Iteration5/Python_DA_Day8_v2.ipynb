{
 "cells": [
  {
   "cell_type": "markdown",
   "id": "3d2684e4",
   "metadata": {},
   "source": [
    "## Statistica descriptiva (continuare)"
   ]
  },
  {
   "cell_type": "code",
   "execution_count": 2,
   "id": "4478ca5b",
   "metadata": {},
   "outputs": [],
   "source": [
    "#Import biblioteci si module\n",
    "import pandas as pd\n",
    "import os\n",
    "\n",
    "#Import fisiere in dataframe\n",
    "path = 'C:\\\\Users\\\\anlazar\\\\Full_Archive\\\\New Files\\\\olist db\\\\'\n",
    "\n",
    "for file in os.listdir(path):\n",
    "    if file.startswith('olist') and file.endswith('.csv') and 'leads' not in file and 'filtered' not in file:\n",
    "        globals()[file.replace('olist_', '').replace('.csv', '').replace('_dataset', '') + '_df'] = pd.read_csv(path+file)\n",
    "        \n",
    "#Conversie tipuri de date        \n",
    "for column in orders_df.columns.values[3:]:\n",
    "    orders_df[column] = pd.to_datetime(orders_df[column])        \n",
    "\n",
    "for column in orders_df.columns.values[:2]:\n",
    "    orders_df[column] = orders_df[column].astype('uint32')\n",
    "    \n",
    "orders_df['order_status'] = orders_df['order_status'].astype('category')"
   ]
  },
  {
   "cell_type": "code",
   "execution_count": 4,
   "id": "14b26511",
   "metadata": {},
   "outputs": [
    {
     "name": "stdout",
     "output_type": "stream",
     "text": [
      "olist_customers_dataset.csv\n",
      "olist_geolocation_dataset.csv\n",
      "olist_orders_dataset.csv\n",
      "olist_order_items_dataset.csv\n",
      "olist_order_payments_dataset.csv\n",
      "olist_order_reviews_dataset.csv\n",
      "olist_products_dataset.csv\n",
      "olist_product_category_name_translation.csv\n",
      "olist_sellers_dataset.csv\n"
     ]
    }
   ],
   "source": [
    "for file in os.listdir(path):\n",
    "    if file.startswith('olist') and file.endswith('.csv') and 'leads' not in file and 'filtered' not in file:\n",
    "        print(file)"
   ]
  },
  {
   "cell_type": "code",
   "execution_count": 5,
   "id": "801d48a5",
   "metadata": {},
   "outputs": [
    {
     "data": {
      "text/plain": [
       "array(['order_id', 'customer_id', 'order_status',\n",
       "       'order_purchase_timestamp', 'order_approved_at',\n",
       "       'order_delivered_carrier_date', 'order_delivered_customer_date',\n",
       "       'order_estimated_delivery_date'], dtype=object)"
      ]
     },
     "execution_count": 5,
     "metadata": {},
     "output_type": "execute_result"
    }
   ],
   "source": [
    "orders_df.columns.values"
   ]
  },
  {
   "cell_type": "code",
   "execution_count": 6,
   "id": "adcf4f5a",
   "metadata": {},
   "outputs": [],
   "source": [
    "#Creare coloane noi\n",
    "orders_df['delivery_days'] = (orders_df['order_delivered_customer_date'] - orders_df['order_purchase_timestamp']).dt.days\n",
    "orders_df['estimated_delivery_days'] = (orders_df['order_estimated_delivery_date'] - orders_df['order_purchase_timestamp']).dt.days\n",
    "orders_df['days_btw_purch_and_approval'] = (orders_df['order_approved_at'] - orders_df['order_purchase_timestamp']).dt.days\n",
    "orders_df['days_btw_approval_and_carrier'] = (orders_df['order_delivered_carrier_date'] - orders_df['order_approved_at']).dt.days\n",
    "orders_df['days_btw_carrier_and_customer'] = (orders_df['order_delivered_customer_date'] - orders_df['order_delivered_carrier_date']).dt.days"
   ]
  },
  {
   "cell_type": "code",
   "execution_count": 9,
   "id": "a15f5894",
   "metadata": {},
   "outputs": [
    {
     "data": {
      "text/html": [
       "<div>\n",
       "<style scoped>\n",
       "    .dataframe tbody tr th:only-of-type {\n",
       "        vertical-align: middle;\n",
       "    }\n",
       "\n",
       "    .dataframe tbody tr th {\n",
       "        vertical-align: top;\n",
       "    }\n",
       "\n",
       "    .dataframe thead th {\n",
       "        text-align: right;\n",
       "    }\n",
       "</style>\n",
       "<table border=\"1\" class=\"dataframe\">\n",
       "  <thead>\n",
       "    <tr style=\"text-align: right;\">\n",
       "      <th></th>\n",
       "      <th>mean_val</th>\n",
       "      <th>median_val</th>\n",
       "      <th>mode_val</th>\n",
       "      <th>max_val</th>\n",
       "      <th>min_val</th>\n",
       "      <th>range_val</th>\n",
       "    </tr>\n",
       "  </thead>\n",
       "  <tbody>\n",
       "    <tr>\n",
       "      <th>delivery_days</th>\n",
       "      <td>12.094511</td>\n",
       "      <td>10.0</td>\n",
       "      <td>7.0</td>\n",
       "      <td>209.0</td>\n",
       "      <td>0.0</td>\n",
       "      <td>209.0</td>\n",
       "    </tr>\n",
       "    <tr>\n",
       "      <th>estimated_delivery_days</th>\n",
       "      <td>23.404350</td>\n",
       "      <td>23.0</td>\n",
       "      <td>21.0</td>\n",
       "      <td>155.0</td>\n",
       "      <td>1.0</td>\n",
       "      <td>154.0</td>\n",
       "    </tr>\n",
       "    <tr>\n",
       "      <th>days_btw_purch_and_approval</th>\n",
       "      <td>0.270555</td>\n",
       "      <td>0.0</td>\n",
       "      <td>0.0</td>\n",
       "      <td>187.0</td>\n",
       "      <td>0.0</td>\n",
       "      <td>187.0</td>\n",
       "    </tr>\n",
       "    <tr>\n",
       "      <th>days_btw_approval_and_carrier</th>\n",
       "      <td>2.302159</td>\n",
       "      <td>1.0</td>\n",
       "      <td>0.0</td>\n",
       "      <td>125.0</td>\n",
       "      <td>-172.0</td>\n",
       "      <td>297.0</td>\n",
       "    </tr>\n",
       "    <tr>\n",
       "      <th>days_btw_carrier_and_customer</th>\n",
       "      <td>8.878953</td>\n",
       "      <td>7.0</td>\n",
       "      <td>6.0</td>\n",
       "      <td>205.0</td>\n",
       "      <td>-17.0</td>\n",
       "      <td>222.0</td>\n",
       "    </tr>\n",
       "  </tbody>\n",
       "</table>\n",
       "</div>"
      ],
      "text/plain": [
       "                                mean_val  median_val  mode_val  max_val  \\\n",
       "delivery_days                  12.094511        10.0       7.0    209.0   \n",
       "estimated_delivery_days        23.404350        23.0      21.0    155.0   \n",
       "days_btw_purch_and_approval     0.270555         0.0       0.0    187.0   \n",
       "days_btw_approval_and_carrier   2.302159         1.0       0.0    125.0   \n",
       "days_btw_carrier_and_customer   8.878953         7.0       6.0    205.0   \n",
       "\n",
       "                               min_val  range_val  \n",
       "delivery_days                      0.0      209.0  \n",
       "estimated_delivery_days            1.0      154.0  \n",
       "days_btw_purch_and_approval        0.0      187.0  \n",
       "days_btw_approval_and_carrier   -172.0      297.0  \n",
       "days_btw_carrier_and_customer    -17.0      222.0  "
      ]
     },
     "execution_count": 9,
     "metadata": {},
     "output_type": "execute_result"
    }
   ],
   "source": [
    "(\n",
    "orders_df\n",
    "    .iloc[:,-5:]\n",
    "    .mean()\n",
    "    .to_frame()\n",
    "    .rename(columns = {0:'mean_val'})\n",
    "    .merge(\n",
    "           right = orders_df\n",
    "                    .iloc[:,-5:]\n",
    "                    .median()\n",
    "                    .to_frame()\n",
    "                    .rename(columns = {0:'median_val'})\n",
    "           , left_index = True \n",
    "           , right_index = True\n",
    "          )\n",
    "    .merge(\n",
    "           right = orders_df\n",
    "                    .iloc[:, -5:]\n",
    "                    .mode()\n",
    "                    .stack()\n",
    "                    .to_frame()\n",
    "                    .droplevel(0)\n",
    "                    .rename(columns = {0:'mode_val'})\n",
    "           , left_index = True\n",
    "           , right_index = True\n",
    "          )\n",
    "# Masuri de dispersie: gama, gama inter-cvartilica, varianta, deviatie standard\n",
    "    .merge(\n",
    "           right = orders_df\n",
    "                    .iloc[:,-5:]\n",
    "                    .max()\n",
    "                    .to_frame()\n",
    "                    .rename(columns = {0:'max_val'})\n",
    "           , left_index = True \n",
    "           , right_index = True\n",
    "          )\n",
    "    .merge(\n",
    "           right = orders_df\n",
    "                    .iloc[:,-5:]\n",
    "                    .min()\n",
    "                    .to_frame()\n",
    "                    .rename(columns = {0:'min_val'})\n",
    "           , left_index = True \n",
    "           , right_index = True\n",
    "          )\n",
    "    .merge( \n",
    "           right = orders_df\n",
    "                    .iloc[:,-5:]\n",
    "                    .max()\n",
    "                    .sub(\n",
    "                         orders_df\n",
    "                            .iloc[:,-5:]\n",
    "                            .min()\n",
    "                            )\n",
    "                    .to_frame()\n",
    "                    .rename(columns = {0:'range_val'})\n",
    "           , left_index = True \n",
    "           , right_index = True\n",
    "          )\n",
    ")"
   ]
  },
  {
   "cell_type": "code",
   "execution_count": 8,
   "id": "18f1afa8",
   "metadata": {},
   "outputs": [
    {
     "data": {
      "text/html": [
       "<div>\n",
       "<style scoped>\n",
       "    .dataframe tbody tr th:only-of-type {\n",
       "        vertical-align: middle;\n",
       "    }\n",
       "\n",
       "    .dataframe tbody tr th {\n",
       "        vertical-align: top;\n",
       "    }\n",
       "\n",
       "    .dataframe thead th {\n",
       "        text-align: right;\n",
       "    }\n",
       "</style>\n",
       "<table border=\"1\" class=\"dataframe\">\n",
       "  <thead>\n",
       "    <tr style=\"text-align: right;\">\n",
       "      <th></th>\n",
       "      <th>mean_val</th>\n",
       "    </tr>\n",
       "  </thead>\n",
       "  <tbody>\n",
       "    <tr>\n",
       "      <th>delivery_days</th>\n",
       "      <td>12.094511</td>\n",
       "    </tr>\n",
       "    <tr>\n",
       "      <th>estimated_delivery_days</th>\n",
       "      <td>23.404350</td>\n",
       "    </tr>\n",
       "    <tr>\n",
       "      <th>days_btw_purch_and_approval</th>\n",
       "      <td>0.270555</td>\n",
       "    </tr>\n",
       "    <tr>\n",
       "      <th>days_btw_approval_and_carrier</th>\n",
       "      <td>2.302159</td>\n",
       "    </tr>\n",
       "    <tr>\n",
       "      <th>days_btw_carrier_and_customer</th>\n",
       "      <td>8.878953</td>\n",
       "    </tr>\n",
       "  </tbody>\n",
       "</table>\n",
       "</div>"
      ],
      "text/plain": [
       "                                mean_val\n",
       "delivery_days                  12.094511\n",
       "estimated_delivery_days        23.404350\n",
       "days_btw_purch_and_approval     0.270555\n",
       "days_btw_approval_and_carrier   2.302159\n",
       "days_btw_carrier_and_customer   8.878953"
      ]
     },
     "execution_count": 8,
     "metadata": {},
     "output_type": "execute_result"
    }
   ],
   "source": [
    "(\n",
    "orders_df\n",
    "    .iloc[:,-5:]\n",
    "    .mean()\n",
    "    .to_frame()\n",
    "    .rename(columns = {0:'mean_val'})\n",
    ")"
   ]
  },
  {
   "cell_type": "code",
   "execution_count": 10,
   "id": "5e4fa13c",
   "metadata": {},
   "outputs": [],
   "source": [
    "#Eliminare anomalii\n",
    "orders_df_w_errors = orders_df.loc[(orders_df['days_btw_approval_and_carrier'] <0) | (orders_df['days_btw_carrier_and_customer'] < 0)]\n",
    "orders_df = orders_df.drop(orders_df[(orders_df['days_btw_approval_and_carrier'] <0) | (orders_df['days_btw_carrier_and_customer'] < 0)].index)"
   ]
  },
  {
   "cell_type": "code",
   "execution_count": 11,
   "id": "ac9addde",
   "metadata": {},
   "outputs": [],
   "source": [
    "orders_df_w_errors['error_log'] = 'days_btw_approval_and_carrier < 0 OR days_between_carrier_and_customer < 0'"
   ]
  },
  {
   "cell_type": "code",
   "execution_count": 12,
   "id": "50369f90",
   "metadata": {
    "scrolled": true
   },
   "outputs": [
    {
     "data": {
      "text/html": [
       "<div>\n",
       "<style scoped>\n",
       "    .dataframe tbody tr th:only-of-type {\n",
       "        vertical-align: middle;\n",
       "    }\n",
       "\n",
       "    .dataframe tbody tr th {\n",
       "        vertical-align: top;\n",
       "    }\n",
       "\n",
       "    .dataframe thead th {\n",
       "        text-align: right;\n",
       "    }\n",
       "</style>\n",
       "<table border=\"1\" class=\"dataframe\">\n",
       "  <thead>\n",
       "    <tr style=\"text-align: right;\">\n",
       "      <th></th>\n",
       "      <th>order_id</th>\n",
       "      <th>customer_id</th>\n",
       "      <th>order_status</th>\n",
       "      <th>order_purchase_timestamp</th>\n",
       "      <th>order_approved_at</th>\n",
       "      <th>order_delivered_carrier_date</th>\n",
       "      <th>order_delivered_customer_date</th>\n",
       "      <th>order_estimated_delivery_date</th>\n",
       "      <th>delivery_days</th>\n",
       "      <th>estimated_delivery_days</th>\n",
       "      <th>days_btw_purch_and_approval</th>\n",
       "      <th>days_btw_approval_and_carrier</th>\n",
       "      <th>days_btw_carrier_and_customer</th>\n",
       "      <th>error_log</th>\n",
       "    </tr>\n",
       "  </thead>\n",
       "  <tbody>\n",
       "    <tr>\n",
       "      <th>181</th>\n",
       "      <td>182</td>\n",
       "      <td>182</td>\n",
       "      <td>delivered</td>\n",
       "      <td>2016-10-07 10:05:00</td>\n",
       "      <td>2016-10-07 11:24:00</td>\n",
       "      <td>2016-10-26 11:43:00</td>\n",
       "      <td>2016-10-20 18:03:00</td>\n",
       "      <td>2016-11-29</td>\n",
       "      <td>13.0</td>\n",
       "      <td>52</td>\n",
       "      <td>0.0</td>\n",
       "      <td>19.0</td>\n",
       "      <td>-6.0</td>\n",
       "      <td>days_btw_approval_and_carrier &lt; 0 OR days_betw...</td>\n",
       "    </tr>\n",
       "    <tr>\n",
       "      <th>185</th>\n",
       "      <td>186</td>\n",
       "      <td>186</td>\n",
       "      <td>delivered</td>\n",
       "      <td>2016-10-07 10:28:00</td>\n",
       "      <td>2016-10-11 04:56:00</td>\n",
       "      <td>2016-10-21 18:02:00</td>\n",
       "      <td>2016-10-20 20:33:00</td>\n",
       "      <td>2016-11-29</td>\n",
       "      <td>13.0</td>\n",
       "      <td>52</td>\n",
       "      <td>3.0</td>\n",
       "      <td>10.0</td>\n",
       "      <td>-1.0</td>\n",
       "      <td>days_btw_approval_and_carrier &lt; 0 OR days_betw...</td>\n",
       "    </tr>\n",
       "    <tr>\n",
       "      <th>205</th>\n",
       "      <td>206</td>\n",
       "      <td>206</td>\n",
       "      <td>delivered</td>\n",
       "      <td>2016-10-07 17:09:00</td>\n",
       "      <td>2016-10-07 17:32:00</td>\n",
       "      <td>2016-10-26 11:42:00</td>\n",
       "      <td>2016-10-20 19:07:00</td>\n",
       "      <td>2016-12-01</td>\n",
       "      <td>13.0</td>\n",
       "      <td>54</td>\n",
       "      <td>0.0</td>\n",
       "      <td>18.0</td>\n",
       "      <td>-6.0</td>\n",
       "      <td>days_btw_approval_and_carrier &lt; 0 OR days_betw...</td>\n",
       "    </tr>\n",
       "    <tr>\n",
       "      <th>241</th>\n",
       "      <td>242</td>\n",
       "      <td>242</td>\n",
       "      <td>delivered</td>\n",
       "      <td>2016-10-08 15:36:00</td>\n",
       "      <td>2016-10-08 18:13:00</td>\n",
       "      <td>2016-10-26 11:41:00</td>\n",
       "      <td>2016-10-25 17:51:00</td>\n",
       "      <td>2016-11-30</td>\n",
       "      <td>17.0</td>\n",
       "      <td>52</td>\n",
       "      <td>0.0</td>\n",
       "      <td>17.0</td>\n",
       "      <td>-1.0</td>\n",
       "      <td>days_btw_approval_and_carrier &lt; 0 OR days_betw...</td>\n",
       "    </tr>\n",
       "    <tr>\n",
       "      <th>914</th>\n",
       "      <td>915</td>\n",
       "      <td>915</td>\n",
       "      <td>delivered</td>\n",
       "      <td>2017-01-27 14:59:00</td>\n",
       "      <td>2017-01-27 15:30:00</td>\n",
       "      <td>2017-02-20 02:32:00</td>\n",
       "      <td>2017-02-15 03:53:00</td>\n",
       "      <td>2017-04-17</td>\n",
       "      <td>18.0</td>\n",
       "      <td>79</td>\n",
       "      <td>0.0</td>\n",
       "      <td>23.0</td>\n",
       "      <td>-5.0</td>\n",
       "      <td>days_btw_approval_and_carrier &lt; 0 OR days_betw...</td>\n",
       "    </tr>\n",
       "    <tr>\n",
       "      <th>...</th>\n",
       "      <td>...</td>\n",
       "      <td>...</td>\n",
       "      <td>...</td>\n",
       "      <td>...</td>\n",
       "      <td>...</td>\n",
       "      <td>...</td>\n",
       "      <td>...</td>\n",
       "      <td>...</td>\n",
       "      <td>...</td>\n",
       "      <td>...</td>\n",
       "      <td>...</td>\n",
       "      <td>...</td>\n",
       "      <td>...</td>\n",
       "      <td>...</td>\n",
       "    </tr>\n",
       "    <tr>\n",
       "      <th>98995</th>\n",
       "      <td>98996</td>\n",
       "      <td>98996</td>\n",
       "      <td>delivered</td>\n",
       "      <td>2018-08-23 15:58:00</td>\n",
       "      <td>2018-08-23 16:10:00</td>\n",
       "      <td>2018-08-23 15:31:00</td>\n",
       "      <td>2018-08-27 18:54:00</td>\n",
       "      <td>2018-08-28</td>\n",
       "      <td>4.0</td>\n",
       "      <td>4</td>\n",
       "      <td>0.0</td>\n",
       "      <td>-1.0</td>\n",
       "      <td>4.0</td>\n",
       "      <td>days_btw_approval_and_carrier &lt; 0 OR days_betw...</td>\n",
       "    </tr>\n",
       "    <tr>\n",
       "      <th>99089</th>\n",
       "      <td>99090</td>\n",
       "      <td>99090</td>\n",
       "      <td>delivered</td>\n",
       "      <td>2018-08-24 13:04:00</td>\n",
       "      <td>2018-08-24 13:24:00</td>\n",
       "      <td>2018-08-24 12:00:00</td>\n",
       "      <td>2018-08-30 19:11:00</td>\n",
       "      <td>2018-10-05</td>\n",
       "      <td>6.0</td>\n",
       "      <td>41</td>\n",
       "      <td>0.0</td>\n",
       "      <td>-1.0</td>\n",
       "      <td>6.0</td>\n",
       "      <td>days_btw_approval_and_carrier &lt; 0 OR days_betw...</td>\n",
       "    </tr>\n",
       "    <tr>\n",
       "      <th>99096</th>\n",
       "      <td>99097</td>\n",
       "      <td>99097</td>\n",
       "      <td>delivered</td>\n",
       "      <td>2018-08-24 14:05:00</td>\n",
       "      <td>2018-08-24 14:24:00</td>\n",
       "      <td>2018-08-24 13:46:00</td>\n",
       "      <td>2018-08-30 20:32:00</td>\n",
       "      <td>2018-09-11</td>\n",
       "      <td>6.0</td>\n",
       "      <td>17</td>\n",
       "      <td>0.0</td>\n",
       "      <td>-1.0</td>\n",
       "      <td>6.0</td>\n",
       "      <td>days_btw_approval_and_carrier &lt; 0 OR days_betw...</td>\n",
       "    </tr>\n",
       "    <tr>\n",
       "      <th>99102</th>\n",
       "      <td>99103</td>\n",
       "      <td>99103</td>\n",
       "      <td>delivered</td>\n",
       "      <td>2018-08-24 14:37:00</td>\n",
       "      <td>2018-08-24 14:50:00</td>\n",
       "      <td>2018-08-24 12:43:00</td>\n",
       "      <td>2018-08-30 20:47:00</td>\n",
       "      <td>2018-09-10</td>\n",
       "      <td>6.0</td>\n",
       "      <td>16</td>\n",
       "      <td>0.0</td>\n",
       "      <td>-1.0</td>\n",
       "      <td>6.0</td>\n",
       "      <td>days_btw_approval_and_carrier &lt; 0 OR days_betw...</td>\n",
       "    </tr>\n",
       "    <tr>\n",
       "      <th>99155</th>\n",
       "      <td>99156</td>\n",
       "      <td>99156</td>\n",
       "      <td>delivered</td>\n",
       "      <td>2018-08-25 09:46:00</td>\n",
       "      <td>2018-08-27 13:15:00</td>\n",
       "      <td>2018-08-27 10:43:00</td>\n",
       "      <td>2018-08-30 22:58:00</td>\n",
       "      <td>2018-09-14</td>\n",
       "      <td>5.0</td>\n",
       "      <td>19</td>\n",
       "      <td>2.0</td>\n",
       "      <td>-1.0</td>\n",
       "      <td>3.0</td>\n",
       "      <td>days_btw_approval_and_carrier &lt; 0 OR days_betw...</td>\n",
       "    </tr>\n",
       "  </tbody>\n",
       "</table>\n",
       "<p>1381 rows × 14 columns</p>\n",
       "</div>"
      ],
      "text/plain": [
       "       order_id  customer_id order_status order_purchase_timestamp  \\\n",
       "181         182          182    delivered      2016-10-07 10:05:00   \n",
       "185         186          186    delivered      2016-10-07 10:28:00   \n",
       "205         206          206    delivered      2016-10-07 17:09:00   \n",
       "241         242          242    delivered      2016-10-08 15:36:00   \n",
       "914         915          915    delivered      2017-01-27 14:59:00   \n",
       "...         ...          ...          ...                      ...   \n",
       "98995     98996        98996    delivered      2018-08-23 15:58:00   \n",
       "99089     99090        99090    delivered      2018-08-24 13:04:00   \n",
       "99096     99097        99097    delivered      2018-08-24 14:05:00   \n",
       "99102     99103        99103    delivered      2018-08-24 14:37:00   \n",
       "99155     99156        99156    delivered      2018-08-25 09:46:00   \n",
       "\n",
       "        order_approved_at order_delivered_carrier_date  \\\n",
       "181   2016-10-07 11:24:00          2016-10-26 11:43:00   \n",
       "185   2016-10-11 04:56:00          2016-10-21 18:02:00   \n",
       "205   2016-10-07 17:32:00          2016-10-26 11:42:00   \n",
       "241   2016-10-08 18:13:00          2016-10-26 11:41:00   \n",
       "914   2017-01-27 15:30:00          2017-02-20 02:32:00   \n",
       "...                   ...                          ...   \n",
       "98995 2018-08-23 16:10:00          2018-08-23 15:31:00   \n",
       "99089 2018-08-24 13:24:00          2018-08-24 12:00:00   \n",
       "99096 2018-08-24 14:24:00          2018-08-24 13:46:00   \n",
       "99102 2018-08-24 14:50:00          2018-08-24 12:43:00   \n",
       "99155 2018-08-27 13:15:00          2018-08-27 10:43:00   \n",
       "\n",
       "      order_delivered_customer_date order_estimated_delivery_date  \\\n",
       "181             2016-10-20 18:03:00                    2016-11-29   \n",
       "185             2016-10-20 20:33:00                    2016-11-29   \n",
       "205             2016-10-20 19:07:00                    2016-12-01   \n",
       "241             2016-10-25 17:51:00                    2016-11-30   \n",
       "914             2017-02-15 03:53:00                    2017-04-17   \n",
       "...                             ...                           ...   \n",
       "98995           2018-08-27 18:54:00                    2018-08-28   \n",
       "99089           2018-08-30 19:11:00                    2018-10-05   \n",
       "99096           2018-08-30 20:32:00                    2018-09-11   \n",
       "99102           2018-08-30 20:47:00                    2018-09-10   \n",
       "99155           2018-08-30 22:58:00                    2018-09-14   \n",
       "\n",
       "       delivery_days  estimated_delivery_days  days_btw_purch_and_approval  \\\n",
       "181             13.0                       52                          0.0   \n",
       "185             13.0                       52                          3.0   \n",
       "205             13.0                       54                          0.0   \n",
       "241             17.0                       52                          0.0   \n",
       "914             18.0                       79                          0.0   \n",
       "...              ...                      ...                          ...   \n",
       "98995            4.0                        4                          0.0   \n",
       "99089            6.0                       41                          0.0   \n",
       "99096            6.0                       17                          0.0   \n",
       "99102            6.0                       16                          0.0   \n",
       "99155            5.0                       19                          2.0   \n",
       "\n",
       "       days_btw_approval_and_carrier  days_btw_carrier_and_customer  \\\n",
       "181                             19.0                           -6.0   \n",
       "185                             10.0                           -1.0   \n",
       "205                             18.0                           -6.0   \n",
       "241                             17.0                           -1.0   \n",
       "914                             23.0                           -5.0   \n",
       "...                              ...                            ...   \n",
       "98995                           -1.0                            4.0   \n",
       "99089                           -1.0                            6.0   \n",
       "99096                           -1.0                            6.0   \n",
       "99102                           -1.0                            6.0   \n",
       "99155                           -1.0                            3.0   \n",
       "\n",
       "                                               error_log  \n",
       "181    days_btw_approval_and_carrier < 0 OR days_betw...  \n",
       "185    days_btw_approval_and_carrier < 0 OR days_betw...  \n",
       "205    days_btw_approval_and_carrier < 0 OR days_betw...  \n",
       "241    days_btw_approval_and_carrier < 0 OR days_betw...  \n",
       "914    days_btw_approval_and_carrier < 0 OR days_betw...  \n",
       "...                                                  ...  \n",
       "98995  days_btw_approval_and_carrier < 0 OR days_betw...  \n",
       "99089  days_btw_approval_and_carrier < 0 OR days_betw...  \n",
       "99096  days_btw_approval_and_carrier < 0 OR days_betw...  \n",
       "99102  days_btw_approval_and_carrier < 0 OR days_betw...  \n",
       "99155  days_btw_approval_and_carrier < 0 OR days_betw...  \n",
       "\n",
       "[1381 rows x 14 columns]"
      ]
     },
     "execution_count": 12,
     "metadata": {},
     "output_type": "execute_result"
    }
   ],
   "source": [
    "orders_df_w_errors"
   ]
  },
  {
   "cell_type": "code",
   "execution_count": 13,
   "id": "c730c23f",
   "metadata": {},
   "outputs": [
    {
     "data": {
      "text/html": [
       "<div>\n",
       "<style scoped>\n",
       "    .dataframe tbody tr th:only-of-type {\n",
       "        vertical-align: middle;\n",
       "    }\n",
       "\n",
       "    .dataframe tbody tr th {\n",
       "        vertical-align: top;\n",
       "    }\n",
       "\n",
       "    .dataframe thead th {\n",
       "        text-align: right;\n",
       "    }\n",
       "</style>\n",
       "<table border=\"1\" class=\"dataframe\">\n",
       "  <thead>\n",
       "    <tr style=\"text-align: right;\">\n",
       "      <th></th>\n",
       "      <th>mean_val</th>\n",
       "      <th>median_val</th>\n",
       "      <th>mode_val</th>\n",
       "      <th>max_val</th>\n",
       "      <th>min_val</th>\n",
       "      <th>range_val</th>\n",
       "    </tr>\n",
       "  </thead>\n",
       "  <tbody>\n",
       "    <tr>\n",
       "      <th>delivery_days</th>\n",
       "      <td>12.154200</td>\n",
       "      <td>10.0</td>\n",
       "      <td>7.0</td>\n",
       "      <td>209.0</td>\n",
       "      <td>0.0</td>\n",
       "      <td>209.0</td>\n",
       "    </tr>\n",
       "    <tr>\n",
       "      <th>estimated_delivery_days</th>\n",
       "      <td>23.414563</td>\n",
       "      <td>23.0</td>\n",
       "      <td>21.0</td>\n",
       "      <td>155.0</td>\n",
       "      <td>1.0</td>\n",
       "      <td>154.0</td>\n",
       "    </tr>\n",
       "    <tr>\n",
       "      <th>days_btw_purch_and_approval</th>\n",
       "      <td>0.247916</td>\n",
       "      <td>0.0</td>\n",
       "      <td>0.0</td>\n",
       "      <td>187.0</td>\n",
       "      <td>0.0</td>\n",
       "      <td>187.0</td>\n",
       "    </tr>\n",
       "    <tr>\n",
       "      <th>days_btw_approval_and_carrier</th>\n",
       "      <td>2.357843</td>\n",
       "      <td>1.0</td>\n",
       "      <td>0.0</td>\n",
       "      <td>125.0</td>\n",
       "      <td>0.0</td>\n",
       "      <td>125.0</td>\n",
       "    </tr>\n",
       "    <tr>\n",
       "      <th>days_btw_carrier_and_customer</th>\n",
       "      <td>8.911065</td>\n",
       "      <td>7.0</td>\n",
       "      <td>6.0</td>\n",
       "      <td>205.0</td>\n",
       "      <td>0.0</td>\n",
       "      <td>205.0</td>\n",
       "    </tr>\n",
       "  </tbody>\n",
       "</table>\n",
       "</div>"
      ],
      "text/plain": [
       "                                mean_val  median_val  mode_val  max_val  \\\n",
       "delivery_days                  12.154200        10.0       7.0    209.0   \n",
       "estimated_delivery_days        23.414563        23.0      21.0    155.0   \n",
       "days_btw_purch_and_approval     0.247916         0.0       0.0    187.0   \n",
       "days_btw_approval_and_carrier   2.357843         1.0       0.0    125.0   \n",
       "days_btw_carrier_and_customer   8.911065         7.0       6.0    205.0   \n",
       "\n",
       "                               min_val  range_val  \n",
       "delivery_days                      0.0      209.0  \n",
       "estimated_delivery_days            1.0      154.0  \n",
       "days_btw_purch_and_approval        0.0      187.0  \n",
       "days_btw_approval_and_carrier      0.0      125.0  \n",
       "days_btw_carrier_and_customer      0.0      205.0  "
      ]
     },
     "execution_count": 13,
     "metadata": {},
     "output_type": "execute_result"
    }
   ],
   "source": [
    "(\n",
    "orders_df\n",
    "    .iloc[:,-5:]\n",
    "    .mean()\n",
    "    .to_frame()\n",
    "    .rename(columns = {0:'mean_val'})\n",
    "    .merge(\n",
    "           right = orders_df\n",
    "                    .iloc[:,-5:]\n",
    "                    .median()\n",
    "                    .to_frame()\n",
    "                    .rename(columns = {0:'median_val'})\n",
    "           , left_index = True \n",
    "           , right_index = True\n",
    "          )\n",
    "    .merge(\n",
    "           right = orders_df\n",
    "                    .iloc[:, -5:]\n",
    "                    .mode()\n",
    "                    .stack()\n",
    "                    .to_frame()\n",
    "                    .droplevel(0)\n",
    "                    .rename(columns = {0:'mode_val'})\n",
    "           , left_index = True\n",
    "           , right_index = True\n",
    "          )\n",
    "# Masuri de dispersie: gama, gama inter-cvartilica, varianta, deviatie standard\n",
    "    .merge(\n",
    "           right = orders_df\n",
    "                    .iloc[:,-5:]\n",
    "                    .max()\n",
    "                    .to_frame()\n",
    "                    .rename(columns = {0:'max_val'})\n",
    "           , left_index = True \n",
    "           , right_index = True\n",
    "          )\n",
    "    .merge(\n",
    "           right = orders_df\n",
    "                    .iloc[:,-5:]\n",
    "                    .min()\n",
    "                    .to_frame()\n",
    "                    .rename(columns = {0:'min_val'})\n",
    "           , left_index = True \n",
    "           , right_index = True\n",
    "          )\n",
    "    .merge( \n",
    "           right = orders_df\n",
    "                    .iloc[:,-5:]\n",
    "                    .max()\n",
    "                    .sub(\n",
    "                         orders_df\n",
    "                            .iloc[:,-5:]\n",
    "                            .min()\n",
    "                            )\n",
    "                    .to_frame()\n",
    "                    .rename(columns = {0:'range_val'})\n",
    "           , left_index = True \n",
    "           , right_index = True\n",
    "          )\n",
    ")"
   ]
  },
  {
   "cell_type": "code",
   "execution_count": null,
   "id": "78e5f0f2",
   "metadata": {},
   "outputs": [],
   "source": [
    "#amplitudine inter-cvartilica\n",
    "#mediana -> implica impartirea setului de date in jumatati\n",
    "#cvartile -> impartire jumatati in jumatate -> Q1, Q2, Q3"
   ]
  },
  {
   "cell_type": "code",
   "execution_count": 19,
   "id": "b88a335a",
   "metadata": {},
   "outputs": [
    {
     "data": {
      "text/html": [
       "<div>\n",
       "<style scoped>\n",
       "    .dataframe tbody tr th:only-of-type {\n",
       "        vertical-align: middle;\n",
       "    }\n",
       "\n",
       "    .dataframe tbody tr th {\n",
       "        vertical-align: top;\n",
       "    }\n",
       "\n",
       "    .dataframe thead th {\n",
       "        text-align: right;\n",
       "    }\n",
       "</style>\n",
       "<table border=\"1\" class=\"dataframe\">\n",
       "  <thead>\n",
       "    <tr style=\"text-align: right;\">\n",
       "      <th></th>\n",
       "      <th>0.25</th>\n",
       "      <th>0.75</th>\n",
       "      <th>iqr</th>\n",
       "    </tr>\n",
       "  </thead>\n",
       "  <tbody>\n",
       "    <tr>\n",
       "      <th>delivery_days</th>\n",
       "      <td>6.0</td>\n",
       "      <td>15.0</td>\n",
       "      <td>9.0</td>\n",
       "    </tr>\n",
       "    <tr>\n",
       "      <th>estimated_delivery_days</th>\n",
       "      <td>18.0</td>\n",
       "      <td>28.0</td>\n",
       "      <td>10.0</td>\n",
       "    </tr>\n",
       "    <tr>\n",
       "      <th>days_btw_purch_and_approval</th>\n",
       "      <td>0.0</td>\n",
       "      <td>0.0</td>\n",
       "      <td>0.0</td>\n",
       "    </tr>\n",
       "    <tr>\n",
       "      <th>days_btw_approval_and_carrier</th>\n",
       "      <td>0.0</td>\n",
       "      <td>3.0</td>\n",
       "      <td>3.0</td>\n",
       "    </tr>\n",
       "    <tr>\n",
       "      <th>days_btw_carrier_and_customer</th>\n",
       "      <td>4.0</td>\n",
       "      <td>12.0</td>\n",
       "      <td>8.0</td>\n",
       "    </tr>\n",
       "  </tbody>\n",
       "</table>\n",
       "</div>"
      ],
      "text/plain": [
       "                               0.25  0.75   iqr\n",
       "delivery_days                   6.0  15.0   9.0\n",
       "estimated_delivery_days        18.0  28.0  10.0\n",
       "days_btw_purch_and_approval     0.0   0.0   0.0\n",
       "days_btw_approval_and_carrier   0.0   3.0   3.0\n",
       "days_btw_carrier_and_customer   4.0  12.0   8.0"
      ]
     },
     "execution_count": 19,
     "metadata": {},
     "output_type": "execute_result"
    }
   ],
   "source": [
    "(\n",
    "orders_df\n",
    "    .iloc[:,-5:]\n",
    "    .quantile([0.25, 0.75])\n",
    "    .stack() #stivuire/de-pivotare\n",
    "    .swaplevel()\n",
    "    .unstack() #de-stivuire/pivotare\n",
    "    .assign(iqr = lambda df: df[0.75] - df[0.25])\n",
    ")"
   ]
  },
  {
   "cell_type": "code",
   "execution_count": 37,
   "id": "66d524f2",
   "metadata": {},
   "outputs": [
    {
     "data": {
      "text/html": [
       "<div>\n",
       "<style scoped>\n",
       "    .dataframe tbody tr th:only-of-type {\n",
       "        vertical-align: middle;\n",
       "    }\n",
       "\n",
       "    .dataframe tbody tr th {\n",
       "        vertical-align: top;\n",
       "    }\n",
       "\n",
       "    .dataframe thead th {\n",
       "        text-align: right;\n",
       "    }\n",
       "</style>\n",
       "<table border=\"1\" class=\"dataframe\">\n",
       "  <thead>\n",
       "    <tr style=\"text-align: right;\">\n",
       "      <th></th>\n",
       "      <th>mean_val</th>\n",
       "      <th>median_val</th>\n",
       "      <th>mode_val</th>\n",
       "      <th>max_val</th>\n",
       "      <th>min_val</th>\n",
       "      <th>range_val</th>\n",
       "      <th>0.25</th>\n",
       "      <th>0.75</th>\n",
       "      <th>iqr</th>\n",
       "      <th>upper_whisker</th>\n",
       "    </tr>\n",
       "  </thead>\n",
       "  <tbody>\n",
       "    <tr>\n",
       "      <th>delivery_days</th>\n",
       "      <td>12.154200</td>\n",
       "      <td>10.0</td>\n",
       "      <td>7.0</td>\n",
       "      <td>209.0</td>\n",
       "      <td>0.0</td>\n",
       "      <td>209.0</td>\n",
       "      <td>6.0</td>\n",
       "      <td>15.0</td>\n",
       "      <td>9.0</td>\n",
       "      <td>28.5</td>\n",
       "    </tr>\n",
       "    <tr>\n",
       "      <th>estimated_delivery_days</th>\n",
       "      <td>23.414563</td>\n",
       "      <td>23.0</td>\n",
       "      <td>21.0</td>\n",
       "      <td>155.0</td>\n",
       "      <td>1.0</td>\n",
       "      <td>154.0</td>\n",
       "      <td>18.0</td>\n",
       "      <td>28.0</td>\n",
       "      <td>10.0</td>\n",
       "      <td>43.0</td>\n",
       "    </tr>\n",
       "    <tr>\n",
       "      <th>days_btw_purch_and_approval</th>\n",
       "      <td>0.247916</td>\n",
       "      <td>0.0</td>\n",
       "      <td>0.0</td>\n",
       "      <td>187.0</td>\n",
       "      <td>0.0</td>\n",
       "      <td>187.0</td>\n",
       "      <td>0.0</td>\n",
       "      <td>0.0</td>\n",
       "      <td>0.0</td>\n",
       "      <td>0.0</td>\n",
       "    </tr>\n",
       "    <tr>\n",
       "      <th>days_btw_approval_and_carrier</th>\n",
       "      <td>2.357843</td>\n",
       "      <td>1.0</td>\n",
       "      <td>0.0</td>\n",
       "      <td>125.0</td>\n",
       "      <td>0.0</td>\n",
       "      <td>125.0</td>\n",
       "      <td>0.0</td>\n",
       "      <td>3.0</td>\n",
       "      <td>3.0</td>\n",
       "      <td>7.5</td>\n",
       "    </tr>\n",
       "    <tr>\n",
       "      <th>days_btw_carrier_and_customer</th>\n",
       "      <td>8.911065</td>\n",
       "      <td>7.0</td>\n",
       "      <td>6.0</td>\n",
       "      <td>205.0</td>\n",
       "      <td>0.0</td>\n",
       "      <td>205.0</td>\n",
       "      <td>4.0</td>\n",
       "      <td>12.0</td>\n",
       "      <td>8.0</td>\n",
       "      <td>24.0</td>\n",
       "    </tr>\n",
       "  </tbody>\n",
       "</table>\n",
       "</div>"
      ],
      "text/plain": [
       "                                mean_val  median_val  mode_val  max_val  \\\n",
       "delivery_days                  12.154200        10.0       7.0    209.0   \n",
       "estimated_delivery_days        23.414563        23.0      21.0    155.0   \n",
       "days_btw_purch_and_approval     0.247916         0.0       0.0    187.0   \n",
       "days_btw_approval_and_carrier   2.357843         1.0       0.0    125.0   \n",
       "days_btw_carrier_and_customer   8.911065         7.0       6.0    205.0   \n",
       "\n",
       "                               min_val  range_val  0.25  0.75   iqr  \\\n",
       "delivery_days                      0.0      209.0   6.0  15.0   9.0   \n",
       "estimated_delivery_days            1.0      154.0  18.0  28.0  10.0   \n",
       "days_btw_purch_and_approval        0.0      187.0   0.0   0.0   0.0   \n",
       "days_btw_approval_and_carrier      0.0      125.0   0.0   3.0   3.0   \n",
       "days_btw_carrier_and_customer      0.0      205.0   4.0  12.0   8.0   \n",
       "\n",
       "                               upper_whisker  \n",
       "delivery_days                           28.5  \n",
       "estimated_delivery_days                 43.0  \n",
       "days_btw_purch_and_approval              0.0  \n",
       "days_btw_approval_and_carrier            7.5  \n",
       "days_btw_carrier_and_customer           24.0  "
      ]
     },
     "execution_count": 37,
     "metadata": {},
     "output_type": "execute_result"
    }
   ],
   "source": [
    "(\n",
    "orders_df\n",
    "    .iloc[:,-5:]\n",
    "    .mean()\n",
    "    .to_frame()\n",
    "    .rename(columns = {0:'mean_val'})\n",
    "    .merge(\n",
    "           right = orders_df\n",
    "                    .iloc[:,-5:]\n",
    "                    .median()\n",
    "                    .to_frame()\n",
    "                    .rename(columns = {0:'median_val'})\n",
    "           , left_index = True \n",
    "           , right_index = True\n",
    "          )\n",
    "    .merge(\n",
    "           right = orders_df\n",
    "                    .iloc[:, -5:]\n",
    "                    .mode()\n",
    "                    .stack()\n",
    "                    .to_frame()\n",
    "                    .droplevel(0)\n",
    "                    .rename(columns = {0:'mode_val'})\n",
    "           , left_index = True\n",
    "           , right_index = True\n",
    "          )\n",
    "# Masuri de dispersie: gama, gama inter-cvartilica, varianta, deviatie standard\n",
    "    .merge(\n",
    "           right = orders_df\n",
    "                    .iloc[:,-5:]\n",
    "                    .max()\n",
    "                    .to_frame()\n",
    "                    .rename(columns = {0:'max_val'})\n",
    "           , left_index = True \n",
    "           , right_index = True\n",
    "          )\n",
    "    .merge(\n",
    "           right = orders_df\n",
    "                    .iloc[:,-5:]\n",
    "                    .min()\n",
    "                    .to_frame()\n",
    "                    .rename(columns = {0:'min_val'})\n",
    "           , left_index = True \n",
    "           , right_index = True\n",
    "          )\n",
    "    .merge( \n",
    "           right = orders_df\n",
    "                    .iloc[:,-5:]\n",
    "                    .max()\n",
    "                    .sub(\n",
    "                         orders_df\n",
    "                            .iloc[:,-5:]\n",
    "                            .min()\n",
    "                            )\n",
    "                    .to_frame()\n",
    "                    .rename(columns = {0:'range_val'})\n",
    "           , left_index = True \n",
    "           , right_index = True\n",
    "          )\n",
    "    .merge(right = orders_df\n",
    "                    .iloc[:,-5:]\n",
    "                    .quantile([0.25, 0.75])\n",
    "                    .stack() #stivuire/de-pivotare\n",
    "                    .swaplevel()\n",
    "                    .unstack() #de-stivuire/pivotare\n",
    "                    .assign(iqr = lambda df: df[0.75] - df[0.25])\n",
    "                    .assign(upper_whisker = lambda df: df[0.75] + 1.5*df['iqr'])\n",
    "          , left_index = True\n",
    "          , right_index = True)\n",
    ")"
   ]
  },
  {
   "cell_type": "code",
   "execution_count": null,
   "id": "2d113d20",
   "metadata": {},
   "outputs": [],
   "source": [
    "[Q1-1.5*IQR, Q3+1.5*IQR]\n",
    "[min, Q1-1.5*IQR), (Q3+1.5*IQR, max]"
   ]
  },
  {
   "cell_type": "markdown",
   "id": "880736e4",
   "metadata": {},
   "source": [
    "## Grafice de tip box-whiskers"
   ]
  },
  {
   "cell_type": "code",
   "execution_count": 22,
   "id": "196ecea2",
   "metadata": {},
   "outputs": [],
   "source": [
    "import seaborn as sns #Samuel Newton Seaborn\n",
    "import matplotlib.pyplot as plt"
   ]
  },
  {
   "cell_type": "code",
   "execution_count": 36,
   "id": "a26cf55b",
   "metadata": {},
   "outputs": [
    {
     "data": {
      "image/png": "[encoded data removed]",
      "text/plain": [
       "<Figure size 1008x432 with 1 Axes>"
      ]
     },
     "metadata": {
      "needs_background": "light"
     },
     "output_type": "display_data"
    }
   ],
   "source": [
    "#box-and-whiskers\n",
    "(fig, ax) = plt.subplots(figsize = (14, 6))\n",
    "ax = sns.boxplot(x = orders_df['estimated_delivery_days'])\n",
    "ax.annotate(text = 'Upper Whisker',\n",
    "            xy = (orders_df['estimated_delivery_days'].quantile(0.75) + \n",
    "                  1.5 * (\n",
    "                          orders_df['estimated_delivery_days']\n",
    "                          .quantile([0.25, 0.75])\n",
    "                            .to_frame()\n",
    "                            .unstack()\n",
    "                            .unstack()\n",
    "                            .assign(iqr = lambda df: df[0.75] - df[0.25])\n",
    "                            ['iqr']\n",
    "                            ), \n",
    "                   -0.2\n",
    "                  ),\n",
    "              xytext = (60, -0.2),\n",
    "              arrowprops = {'arrowstyle':'->'}\n",
    "           )\n",
    "plt.show()"
   ]
  },
  {
   "cell_type": "code",
   "execution_count": 28,
   "id": "0500a8e2",
   "metadata": {},
   "outputs": [
    {
     "data": {
      "text/plain": [
       "estimated_delivery_days    10.0\n",
       "Name: iqr, dtype: float64"
      ]
     },
     "execution_count": 28,
     "metadata": {},
     "output_type": "execute_result"
    }
   ],
   "source": [
    "(\n",
    "  orders_df['estimated_delivery_days']\n",
    "  .quantile([0.25, 0.75])\n",
    "    .to_frame()\n",
    "    .unstack()\n",
    "    .unstack()\n",
    "    .assign(iqr = lambda df: df[0.75] - df[0.25])\n",
    "    ['iqr']\n",
    ")"
   ]
  },
  {
   "cell_type": "code",
   "execution_count": 40,
   "id": "bd285896",
   "metadata": {},
   "outputs": [
    {
     "data": {
      "text/html": [
       "<div>\n",
       "<style scoped>\n",
       "    .dataframe tbody tr th:only-of-type {\n",
       "        vertical-align: middle;\n",
       "    }\n",
       "\n",
       "    .dataframe tbody tr th {\n",
       "        vertical-align: top;\n",
       "    }\n",
       "\n",
       "    .dataframe thead th {\n",
       "        text-align: right;\n",
       "    }\n",
       "</style>\n",
       "<table border=\"1\" class=\"dataframe\">\n",
       "  <thead>\n",
       "    <tr style=\"text-align: right;\">\n",
       "      <th></th>\n",
       "      <th>order_status</th>\n",
       "      <th>order_purchase_timestamp</th>\n",
       "      <th>order_delivered_customer_date</th>\n",
       "      <th>delivery_days</th>\n",
       "      <th>estimated_delivery_days</th>\n",
       "    </tr>\n",
       "  </thead>\n",
       "  <tbody>\n",
       "    <tr>\n",
       "      <th>3</th>\n",
       "      <td>delivered</td>\n",
       "      <td>2016-09-15 12:16:00</td>\n",
       "      <td>2016-11-09 07:47:00</td>\n",
       "      <td>54.0</td>\n",
       "      <td>18</td>\n",
       "    </tr>\n",
       "    <tr>\n",
       "      <th>54</th>\n",
       "      <td>delivered</td>\n",
       "      <td>2016-10-04 18:07:00</td>\n",
       "      <td>2016-11-29 15:23:00</td>\n",
       "      <td>55.0</td>\n",
       "      <td>54</td>\n",
       "    </tr>\n",
       "    <tr>\n",
       "      <th>66</th>\n",
       "      <td>delivered</td>\n",
       "      <td>2016-10-04 21:54:00</td>\n",
       "      <td>2016-12-12 20:31:00</td>\n",
       "      <td>68.0</td>\n",
       "      <td>50</td>\n",
       "    </tr>\n",
       "    <tr>\n",
       "      <th>365</th>\n",
       "      <td>delivered</td>\n",
       "      <td>2017-01-07 00:34:00</td>\n",
       "      <td>2017-03-06 13:15:00</td>\n",
       "      <td>58.0</td>\n",
       "      <td>38</td>\n",
       "    </tr>\n",
       "    <tr>\n",
       "      <th>375</th>\n",
       "      <td>delivered</td>\n",
       "      <td>2017-01-09 00:37:00</td>\n",
       "      <td>2017-02-24 09:42:00</td>\n",
       "      <td>46.0</td>\n",
       "      <td>45</td>\n",
       "    </tr>\n",
       "    <tr>\n",
       "      <th>...</th>\n",
       "      <td>...</td>\n",
       "      <td>...</td>\n",
       "      <td>...</td>\n",
       "      <td>...</td>\n",
       "      <td>...</td>\n",
       "    </tr>\n",
       "    <tr>\n",
       "      <th>94516</th>\n",
       "      <td>delivered</td>\n",
       "      <td>2018-08-06 14:32:00</td>\n",
       "      <td>2018-09-19 16:44:00</td>\n",
       "      <td>44.0</td>\n",
       "      <td>10</td>\n",
       "    </tr>\n",
       "    <tr>\n",
       "      <th>94581</th>\n",
       "      <td>delivered</td>\n",
       "      <td>2018-08-06 17:19:00</td>\n",
       "      <td>2018-09-12 02:38:00</td>\n",
       "      <td>36.0</td>\n",
       "      <td>21</td>\n",
       "    </tr>\n",
       "    <tr>\n",
       "      <th>95474</th>\n",
       "      <td>delivered</td>\n",
       "      <td>2018-08-09 10:00:00</td>\n",
       "      <td>2018-09-10 20:41:00</td>\n",
       "      <td>32.0</td>\n",
       "      <td>13</td>\n",
       "    </tr>\n",
       "    <tr>\n",
       "      <th>95708</th>\n",
       "      <td>delivered</td>\n",
       "      <td>2018-08-10 00:17:00</td>\n",
       "      <td>2018-09-12 20:15:00</td>\n",
       "      <td>33.0</td>\n",
       "      <td>17</td>\n",
       "    </tr>\n",
       "    <tr>\n",
       "      <th>96972</th>\n",
       "      <td>delivered</td>\n",
       "      <td>2018-08-15 07:19:00</td>\n",
       "      <td>2018-09-13 19:24:00</td>\n",
       "      <td>29.0</td>\n",
       "      <td>12</td>\n",
       "    </tr>\n",
       "  </tbody>\n",
       "</table>\n",
       "<p>3904 rows × 5 columns</p>\n",
       "</div>"
      ],
      "text/plain": [
       "      order_status order_purchase_timestamp order_delivered_customer_date  \\\n",
       "3        delivered      2016-09-15 12:16:00           2016-11-09 07:47:00   \n",
       "54       delivered      2016-10-04 18:07:00           2016-11-29 15:23:00   \n",
       "66       delivered      2016-10-04 21:54:00           2016-12-12 20:31:00   \n",
       "365      delivered      2017-01-07 00:34:00           2017-03-06 13:15:00   \n",
       "375      delivered      2017-01-09 00:37:00           2017-02-24 09:42:00   \n",
       "...            ...                      ...                           ...   \n",
       "94516    delivered      2018-08-06 14:32:00           2018-09-19 16:44:00   \n",
       "94581    delivered      2018-08-06 17:19:00           2018-09-12 02:38:00   \n",
       "95474    delivered      2018-08-09 10:00:00           2018-09-10 20:41:00   \n",
       "95708    delivered      2018-08-10 00:17:00           2018-09-12 20:15:00   \n",
       "96972    delivered      2018-08-15 07:19:00           2018-09-13 19:24:00   \n",
       "\n",
       "       delivery_days  estimated_delivery_days  \n",
       "3               54.0                       18  \n",
       "54              55.0                       54  \n",
       "66              68.0                       50  \n",
       "365             58.0                       38  \n",
       "375             46.0                       45  \n",
       "...              ...                      ...  \n",
       "94516           44.0                       10  \n",
       "94581           36.0                       21  \n",
       "95474           32.0                       13  \n",
       "95708           33.0                       17  \n",
       "96972           29.0                       12  \n",
       "\n",
       "[3904 rows x 5 columns]"
      ]
     },
     "execution_count": 40,
     "metadata": {},
     "output_type": "execute_result"
    }
   ],
   "source": [
    "(\n",
    "orders_df\n",
    "    [(orders_df['delivery_days'].between(29, 209)) & (orders_df['delivery_days'] > orders_df['estimated_delivery_days'])]\n",
    "    [['order_status', 'order_purchase_timestamp', 'order_delivered_customer_date', 'delivery_days', 'estimated_delivery_days']]\n",
    ")"
   ]
  },
  {
   "cell_type": "code",
   "execution_count": 41,
   "id": "ab441717",
   "metadata": {},
   "outputs": [],
   "source": [
    "orders_df_w_errors = orders_df_w_errors.append(\n",
    "    orders_df\n",
    "    [(orders_df['delivery_days'].between(29, 209)) & (orders_df['delivery_days'] > orders_df['estimated_delivery_days'])]\n",
    "    .assign(error_log = 'delivery post estimated delivery')\n",
    ")\n",
    "orders_df = orders_df.drop(index =  \n",
    "                                   orders_df\n",
    "                                    [(orders_df['delivery_days'].between(29, 209)) \n",
    "                                     & (orders_df['delivery_days'] > orders_df['estimated_delivery_days'])].index)"
   ]
  },
  {
   "cell_type": "code",
   "execution_count": 42,
   "id": "c31d38e4",
   "metadata": {},
   "outputs": [
    {
     "data": {
      "text/html": [
       "<div>\n",
       "<style scoped>\n",
       "    .dataframe tbody tr th:only-of-type {\n",
       "        vertical-align: middle;\n",
       "    }\n",
       "\n",
       "    .dataframe tbody tr th {\n",
       "        vertical-align: top;\n",
       "    }\n",
       "\n",
       "    .dataframe thead th {\n",
       "        text-align: right;\n",
       "    }\n",
       "</style>\n",
       "<table border=\"1\" class=\"dataframe\">\n",
       "  <thead>\n",
       "    <tr style=\"text-align: right;\">\n",
       "      <th></th>\n",
       "      <th>order_id</th>\n",
       "      <th>customer_id</th>\n",
       "      <th>order_status</th>\n",
       "      <th>order_purchase_timestamp</th>\n",
       "      <th>order_approved_at</th>\n",
       "      <th>order_delivered_carrier_date</th>\n",
       "      <th>order_delivered_customer_date</th>\n",
       "      <th>order_estimated_delivery_date</th>\n",
       "      <th>delivery_days</th>\n",
       "      <th>estimated_delivery_days</th>\n",
       "      <th>days_btw_purch_and_approval</th>\n",
       "      <th>days_btw_approval_and_carrier</th>\n",
       "      <th>days_btw_carrier_and_customer</th>\n",
       "    </tr>\n",
       "  </thead>\n",
       "  <tbody>\n",
       "    <tr>\n",
       "      <th>0</th>\n",
       "      <td>1</td>\n",
       "      <td>1</td>\n",
       "      <td>shipped</td>\n",
       "      <td>2016-09-04 21:15:00</td>\n",
       "      <td>2016-10-07 13:18:00</td>\n",
       "      <td>2016-10-18 13:14:00</td>\n",
       "      <td>NaT</td>\n",
       "      <td>2016-10-20</td>\n",
       "      <td>NaN</td>\n",
       "      <td>45</td>\n",
       "      <td>32.0</td>\n",
       "      <td>10.0</td>\n",
       "      <td>NaN</td>\n",
       "    </tr>\n",
       "    <tr>\n",
       "      <th>1</th>\n",
       "      <td>2</td>\n",
       "      <td>2</td>\n",
       "      <td>canceled</td>\n",
       "      <td>2016-09-05 00:15:00</td>\n",
       "      <td>2016-10-07 13:17:00</td>\n",
       "      <td>NaT</td>\n",
       "      <td>NaT</td>\n",
       "      <td>2016-10-28</td>\n",
       "      <td>NaN</td>\n",
       "      <td>52</td>\n",
       "      <td>32.0</td>\n",
       "      <td>NaN</td>\n",
       "      <td>NaN</td>\n",
       "    </tr>\n",
       "    <tr>\n",
       "      <th>2</th>\n",
       "      <td>3</td>\n",
       "      <td>3</td>\n",
       "      <td>canceled</td>\n",
       "      <td>2016-09-13 15:24:00</td>\n",
       "      <td>2016-10-07 13:16:00</td>\n",
       "      <td>NaT</td>\n",
       "      <td>NaT</td>\n",
       "      <td>2016-09-30</td>\n",
       "      <td>NaN</td>\n",
       "      <td>16</td>\n",
       "      <td>23.0</td>\n",
       "      <td>NaN</td>\n",
       "      <td>NaN</td>\n",
       "    </tr>\n",
       "    <tr>\n",
       "      <th>4</th>\n",
       "      <td>5</td>\n",
       "      <td>5</td>\n",
       "      <td>canceled</td>\n",
       "      <td>2016-10-02 22:07:00</td>\n",
       "      <td>2016-10-06 15:50:00</td>\n",
       "      <td>NaT</td>\n",
       "      <td>NaT</td>\n",
       "      <td>2016-10-25</td>\n",
       "      <td>NaN</td>\n",
       "      <td>22</td>\n",
       "      <td>3.0</td>\n",
       "      <td>NaN</td>\n",
       "      <td>NaN</td>\n",
       "    </tr>\n",
       "    <tr>\n",
       "      <th>5</th>\n",
       "      <td>6</td>\n",
       "      <td>6</td>\n",
       "      <td>delivered</td>\n",
       "      <td>2016-10-03 09:44:00</td>\n",
       "      <td>2016-10-06 15:50:00</td>\n",
       "      <td>2016-10-23 14:02:00</td>\n",
       "      <td>2016-10-26 14:02:00</td>\n",
       "      <td>2016-10-27</td>\n",
       "      <td>23.0</td>\n",
       "      <td>23</td>\n",
       "      <td>3.0</td>\n",
       "      <td>16.0</td>\n",
       "      <td>3.0</td>\n",
       "    </tr>\n",
       "    <tr>\n",
       "      <th>...</th>\n",
       "      <td>...</td>\n",
       "      <td>...</td>\n",
       "      <td>...</td>\n",
       "      <td>...</td>\n",
       "      <td>...</td>\n",
       "      <td>...</td>\n",
       "      <td>...</td>\n",
       "      <td>...</td>\n",
       "      <td>...</td>\n",
       "      <td>...</td>\n",
       "      <td>...</td>\n",
       "      <td>...</td>\n",
       "      <td>...</td>\n",
       "    </tr>\n",
       "    <tr>\n",
       "      <th>99436</th>\n",
       "      <td>99437</td>\n",
       "      <td>99437</td>\n",
       "      <td>canceled</td>\n",
       "      <td>2018-09-29 09:13:00</td>\n",
       "      <td>NaT</td>\n",
       "      <td>NaT</td>\n",
       "      <td>NaT</td>\n",
       "      <td>2018-10-15</td>\n",
       "      <td>NaN</td>\n",
       "      <td>15</td>\n",
       "      <td>NaN</td>\n",
       "      <td>NaN</td>\n",
       "      <td>NaN</td>\n",
       "    </tr>\n",
       "    <tr>\n",
       "      <th>99437</th>\n",
       "      <td>99438</td>\n",
       "      <td>99438</td>\n",
       "      <td>canceled</td>\n",
       "      <td>2018-10-01 15:30:00</td>\n",
       "      <td>NaT</td>\n",
       "      <td>NaT</td>\n",
       "      <td>NaT</td>\n",
       "      <td>2018-10-23</td>\n",
       "      <td>NaN</td>\n",
       "      <td>21</td>\n",
       "      <td>NaN</td>\n",
       "      <td>NaN</td>\n",
       "      <td>NaN</td>\n",
       "    </tr>\n",
       "    <tr>\n",
       "      <th>99438</th>\n",
       "      <td>99439</td>\n",
       "      <td>99439</td>\n",
       "      <td>canceled</td>\n",
       "      <td>2018-10-03 18:55:00</td>\n",
       "      <td>NaT</td>\n",
       "      <td>NaT</td>\n",
       "      <td>NaT</td>\n",
       "      <td>2018-10-16</td>\n",
       "      <td>NaN</td>\n",
       "      <td>12</td>\n",
       "      <td>NaN</td>\n",
       "      <td>NaN</td>\n",
       "      <td>NaN</td>\n",
       "    </tr>\n",
       "    <tr>\n",
       "      <th>99439</th>\n",
       "      <td>99440</td>\n",
       "      <td>99440</td>\n",
       "      <td>canceled</td>\n",
       "      <td>2018-10-16 20:16:00</td>\n",
       "      <td>NaT</td>\n",
       "      <td>NaT</td>\n",
       "      <td>NaT</td>\n",
       "      <td>2018-11-12</td>\n",
       "      <td>NaN</td>\n",
       "      <td>26</td>\n",
       "      <td>NaN</td>\n",
       "      <td>NaN</td>\n",
       "      <td>NaN</td>\n",
       "    </tr>\n",
       "    <tr>\n",
       "      <th>99440</th>\n",
       "      <td>99441</td>\n",
       "      <td>99441</td>\n",
       "      <td>canceled</td>\n",
       "      <td>2018-10-17 17:30:00</td>\n",
       "      <td>NaT</td>\n",
       "      <td>NaT</td>\n",
       "      <td>NaT</td>\n",
       "      <td>2018-10-30</td>\n",
       "      <td>NaN</td>\n",
       "      <td>12</td>\n",
       "      <td>NaN</td>\n",
       "      <td>NaN</td>\n",
       "      <td>NaN</td>\n",
       "    </tr>\n",
       "  </tbody>\n",
       "</table>\n",
       "<p>94156 rows × 13 columns</p>\n",
       "</div>"
      ],
      "text/plain": [
       "       order_id  customer_id order_status order_purchase_timestamp  \\\n",
       "0             1            1      shipped      2016-09-04 21:15:00   \n",
       "1             2            2     canceled      2016-09-05 00:15:00   \n",
       "2             3            3     canceled      2016-09-13 15:24:00   \n",
       "4             5            5     canceled      2016-10-02 22:07:00   \n",
       "5             6            6    delivered      2016-10-03 09:44:00   \n",
       "...         ...          ...          ...                      ...   \n",
       "99436     99437        99437     canceled      2018-09-29 09:13:00   \n",
       "99437     99438        99438     canceled      2018-10-01 15:30:00   \n",
       "99438     99439        99439     canceled      2018-10-03 18:55:00   \n",
       "99439     99440        99440     canceled      2018-10-16 20:16:00   \n",
       "99440     99441        99441     canceled      2018-10-17 17:30:00   \n",
       "\n",
       "        order_approved_at order_delivered_carrier_date  \\\n",
       "0     2016-10-07 13:18:00          2016-10-18 13:14:00   \n",
       "1     2016-10-07 13:17:00                          NaT   \n",
       "2     2016-10-07 13:16:00                          NaT   \n",
       "4     2016-10-06 15:50:00                          NaT   \n",
       "5     2016-10-06 15:50:00          2016-10-23 14:02:00   \n",
       "...                   ...                          ...   \n",
       "99436                 NaT                          NaT   \n",
       "99437                 NaT                          NaT   \n",
       "99438                 NaT                          NaT   \n",
       "99439                 NaT                          NaT   \n",
       "99440                 NaT                          NaT   \n",
       "\n",
       "      order_delivered_customer_date order_estimated_delivery_date  \\\n",
       "0                               NaT                    2016-10-20   \n",
       "1                               NaT                    2016-10-28   \n",
       "2                               NaT                    2016-09-30   \n",
       "4                               NaT                    2016-10-25   \n",
       "5               2016-10-26 14:02:00                    2016-10-27   \n",
       "...                             ...                           ...   \n",
       "99436                           NaT                    2018-10-15   \n",
       "99437                           NaT                    2018-10-23   \n",
       "99438                           NaT                    2018-10-16   \n",
       "99439                           NaT                    2018-11-12   \n",
       "99440                           NaT                    2018-10-30   \n",
       "\n",
       "       delivery_days  estimated_delivery_days  days_btw_purch_and_approval  \\\n",
       "0                NaN                       45                         32.0   \n",
       "1                NaN                       52                         32.0   \n",
       "2                NaN                       16                         23.0   \n",
       "4                NaN                       22                          3.0   \n",
       "5               23.0                       23                          3.0   \n",
       "...              ...                      ...                          ...   \n",
       "99436            NaN                       15                          NaN   \n",
       "99437            NaN                       21                          NaN   \n",
       "99438            NaN                       12                          NaN   \n",
       "99439            NaN                       26                          NaN   \n",
       "99440            NaN                       12                          NaN   \n",
       "\n",
       "       days_btw_approval_and_carrier  days_btw_carrier_and_customer  \n",
       "0                               10.0                            NaN  \n",
       "1                                NaN                            NaN  \n",
       "2                                NaN                            NaN  \n",
       "4                                NaN                            NaN  \n",
       "5                               16.0                            3.0  \n",
       "...                              ...                            ...  \n",
       "99436                            NaN                            NaN  \n",
       "99437                            NaN                            NaN  \n",
       "99438                            NaN                            NaN  \n",
       "99439                            NaN                            NaN  \n",
       "99440                            NaN                            NaN  \n",
       "\n",
       "[94156 rows x 13 columns]"
      ]
     },
     "execution_count": 42,
     "metadata": {},
     "output_type": "execute_result"
    }
   ],
   "source": [
    "orders_df"
   ]
  },
  {
   "cell_type": "code",
   "execution_count": 43,
   "id": "d5981743",
   "metadata": {},
   "outputs": [
    {
     "data": {
      "text/html": [
       "<div>\n",
       "<style scoped>\n",
       "    .dataframe tbody tr th:only-of-type {\n",
       "        vertical-align: middle;\n",
       "    }\n",
       "\n",
       "    .dataframe tbody tr th {\n",
       "        vertical-align: top;\n",
       "    }\n",
       "\n",
       "    .dataframe thead th {\n",
       "        text-align: right;\n",
       "    }\n",
       "</style>\n",
       "<table border=\"1\" class=\"dataframe\">\n",
       "  <thead>\n",
       "    <tr style=\"text-align: right;\">\n",
       "      <th></th>\n",
       "      <th>mean_val</th>\n",
       "      <th>median_val</th>\n",
       "      <th>mode_val</th>\n",
       "      <th>max_val</th>\n",
       "      <th>min_val</th>\n",
       "      <th>range_val</th>\n",
       "      <th>0.25</th>\n",
       "      <th>0.75</th>\n",
       "      <th>iqr</th>\n",
       "      <th>upper_whisker</th>\n",
       "    </tr>\n",
       "  </thead>\n",
       "  <tbody>\n",
       "    <tr>\n",
       "      <th>delivery_days</th>\n",
       "      <td>10.877610</td>\n",
       "      <td>10.0</td>\n",
       "      <td>7.0</td>\n",
       "      <td>70.0</td>\n",
       "      <td>0.0</td>\n",
       "      <td>70.0</td>\n",
       "      <td>6.0</td>\n",
       "      <td>14.0</td>\n",
       "      <td>8.0</td>\n",
       "      <td>26.0</td>\n",
       "    </tr>\n",
       "    <tr>\n",
       "      <th>estimated_delivery_days</th>\n",
       "      <td>23.294055</td>\n",
       "      <td>23.0</td>\n",
       "      <td>21.0</td>\n",
       "      <td>155.0</td>\n",
       "      <td>1.0</td>\n",
       "      <td>154.0</td>\n",
       "      <td>18.0</td>\n",
       "      <td>28.0</td>\n",
       "      <td>10.0</td>\n",
       "      <td>43.0</td>\n",
       "    </tr>\n",
       "    <tr>\n",
       "      <th>days_btw_purch_and_approval</th>\n",
       "      <td>0.244351</td>\n",
       "      <td>0.0</td>\n",
       "      <td>0.0</td>\n",
       "      <td>187.0</td>\n",
       "      <td>0.0</td>\n",
       "      <td>187.0</td>\n",
       "      <td>0.0</td>\n",
       "      <td>0.0</td>\n",
       "      <td>0.0</td>\n",
       "      <td>0.0</td>\n",
       "    </tr>\n",
       "    <tr>\n",
       "      <th>days_btw_approval_and_carrier</th>\n",
       "      <td>2.221817</td>\n",
       "      <td>1.0</td>\n",
       "      <td>0.0</td>\n",
       "      <td>54.0</td>\n",
       "      <td>0.0</td>\n",
       "      <td>54.0</td>\n",
       "      <td>0.0</td>\n",
       "      <td>3.0</td>\n",
       "      <td>3.0</td>\n",
       "      <td>7.5</td>\n",
       "    </tr>\n",
       "    <tr>\n",
       "      <th>days_btw_carrier_and_customer</th>\n",
       "      <td>7.780450</td>\n",
       "      <td>7.0</td>\n",
       "      <td>6.0</td>\n",
       "      <td>48.0</td>\n",
       "      <td>0.0</td>\n",
       "      <td>48.0</td>\n",
       "      <td>4.0</td>\n",
       "      <td>11.0</td>\n",
       "      <td>7.0</td>\n",
       "      <td>21.5</td>\n",
       "    </tr>\n",
       "  </tbody>\n",
       "</table>\n",
       "</div>"
      ],
      "text/plain": [
       "                                mean_val  median_val  mode_val  max_val  \\\n",
       "delivery_days                  10.877610        10.0       7.0     70.0   \n",
       "estimated_delivery_days        23.294055        23.0      21.0    155.0   \n",
       "days_btw_purch_and_approval     0.244351         0.0       0.0    187.0   \n",
       "days_btw_approval_and_carrier   2.221817         1.0       0.0     54.0   \n",
       "days_btw_carrier_and_customer   7.780450         7.0       6.0     48.0   \n",
       "\n",
       "                               min_val  range_val  0.25  0.75   iqr  \\\n",
       "delivery_days                      0.0       70.0   6.0  14.0   8.0   \n",
       "estimated_delivery_days            1.0      154.0  18.0  28.0  10.0   \n",
       "days_btw_purch_and_approval        0.0      187.0   0.0   0.0   0.0   \n",
       "days_btw_approval_and_carrier      0.0       54.0   0.0   3.0   3.0   \n",
       "days_btw_carrier_and_customer      0.0       48.0   4.0  11.0   7.0   \n",
       "\n",
       "                               upper_whisker  \n",
       "delivery_days                           26.0  \n",
       "estimated_delivery_days                 43.0  \n",
       "days_btw_purch_and_approval              0.0  \n",
       "days_btw_approval_and_carrier            7.5  \n",
       "days_btw_carrier_and_customer           21.5  "
      ]
     },
     "execution_count": 43,
     "metadata": {},
     "output_type": "execute_result"
    }
   ],
   "source": [
    "(\n",
    "orders_df\n",
    "    .iloc[:,-5:]\n",
    "    .mean()\n",
    "    .to_frame()\n",
    "    .rename(columns = {0:'mean_val'})\n",
    "    .merge(\n",
    "           right = orders_df\n",
    "                    .iloc[:,-5:]\n",
    "                    .median()\n",
    "                    .to_frame()\n",
    "                    .rename(columns = {0:'median_val'})\n",
    "           , left_index = True \n",
    "           , right_index = True\n",
    "          )\n",
    "    .merge(\n",
    "           right = orders_df\n",
    "                    .iloc[:, -5:]\n",
    "                    .mode()\n",
    "                    .stack()\n",
    "                    .to_frame()\n",
    "                    .droplevel(0)\n",
    "                    .rename(columns = {0:'mode_val'})\n",
    "           , left_index = True\n",
    "           , right_index = True\n",
    "          )\n",
    "# Masuri de dispersie: gama, gama inter-cvartilica, varianta, deviatie standard\n",
    "    .merge(\n",
    "           right = orders_df\n",
    "                    .iloc[:,-5:]\n",
    "                    .max()\n",
    "                    .to_frame()\n",
    "                    .rename(columns = {0:'max_val'})\n",
    "           , left_index = True \n",
    "           , right_index = True\n",
    "          )\n",
    "    .merge(\n",
    "           right = orders_df\n",
    "                    .iloc[:,-5:]\n",
    "                    .min()\n",
    "                    .to_frame()\n",
    "                    .rename(columns = {0:'min_val'})\n",
    "           , left_index = True \n",
    "           , right_index = True\n",
    "          )\n",
    "    .merge( \n",
    "           right = orders_df\n",
    "                    .iloc[:,-5:]\n",
    "                    .max()\n",
    "                    .sub(\n",
    "                         orders_df\n",
    "                            .iloc[:,-5:]\n",
    "                            .min()\n",
    "                            )\n",
    "                    .to_frame()\n",
    "                    .rename(columns = {0:'range_val'})\n",
    "           , left_index = True \n",
    "           , right_index = True\n",
    "          )\n",
    "    .merge(right = orders_df\n",
    "                    .iloc[:,-5:]\n",
    "                    .quantile([0.25, 0.75])\n",
    "                    .stack() #stivuire/de-pivotare\n",
    "                    .swaplevel()\n",
    "                    .unstack() #de-stivuire/pivotare\n",
    "                    .assign(iqr = lambda df: df[0.75] - df[0.25])\n",
    "                    .assign(upper_whisker = lambda df: df[0.75] + 1.5*df['iqr'])\n",
    "          , left_index = True\n",
    "          , right_index = True)\n",
    ")"
   ]
  },
  {
   "cell_type": "code",
   "execution_count": 47,
   "id": "cc9203b5",
   "metadata": {},
   "outputs": [
    {
     "data": {
      "text/plain": [
       "1.0      11411\n",
       "2.0       2511\n",
       "3.0       1302\n",
       "4.0        271\n",
       "5.0        125\n",
       "6.0         22\n",
       "7.0         13\n",
       "8.0         12\n",
       "10.0         6\n",
       "11.0         4\n",
       "12.0         3\n",
       "32.0         3\n",
       "23.0         2\n",
       "13.0         2\n",
       "9.0          2\n",
       "60.0         1\n",
       "28.0         1\n",
       "187.0        1\n",
       "Name: days_btw_purch_and_approval, dtype: int64"
      ]
     },
     "execution_count": 47,
     "metadata": {},
     "output_type": "execute_result"
    }
   ],
   "source": [
    "(\n",
    "orders_df\n",
    "    [orders_df['days_btw_purch_and_approval'] > 0]\n",
    "    [['order_status', 'order_purchase_timestamp', 'order_approved_at', 'days_btw_purch_and_approval']]\n",
    "    ['days_btw_purch_and_approval']\n",
    "    .value_counts()\n",
    ")"
   ]
  },
  {
   "cell_type": "code",
   "execution_count": 48,
   "id": "0a87645f",
   "metadata": {},
   "outputs": [
    {
     "data": {
      "text/plain": [
       "94084"
      ]
     },
     "execution_count": 48,
     "metadata": {},
     "output_type": "execute_result"
    }
   ],
   "source": [
    "orders_df_w_errors = orders_df_w_errors.append(\n",
    "                                orders_df[orders_df['days_btw_purch_and_approval'] > 5]\n",
    "                                    .assign(error_log = 'time delta > 5 between purchase and approval')\n",
    "                                    )\n",
    "orders_df = orders_df.drop(\n",
    "                            index = orders_df[orders_df['days_btw_purch_and_approval'] > 5].index\n",
    "                            )\n",
    "len(orders_df)"
   ]
  },
  {
   "cell_type": "code",
   "execution_count": 53,
   "id": "5f124be7",
   "metadata": {},
   "outputs": [
    {
     "data": {
      "text/html": [
       "<div>\n",
       "<style scoped>\n",
       "    .dataframe tbody tr th:only-of-type {\n",
       "        vertical-align: middle;\n",
       "    }\n",
       "\n",
       "    .dataframe tbody tr th {\n",
       "        vertical-align: top;\n",
       "    }\n",
       "\n",
       "    .dataframe thead th {\n",
       "        text-align: right;\n",
       "    }\n",
       "</style>\n",
       "<table border=\"1\" class=\"dataframe\">\n",
       "  <thead>\n",
       "    <tr style=\"text-align: right;\">\n",
       "      <th></th>\n",
       "      <th>mean_val</th>\n",
       "      <th>median_val</th>\n",
       "      <th>mode_val</th>\n",
       "      <th>max_val</th>\n",
       "      <th>min_val</th>\n",
       "      <th>range_val</th>\n",
       "      <th>0.25</th>\n",
       "      <th>0.75</th>\n",
       "      <th>iqr</th>\n",
       "      <th>upper_whisker</th>\n",
       "      <th>std_val</th>\n",
       "    </tr>\n",
       "  </thead>\n",
       "  <tbody>\n",
       "    <tr>\n",
       "      <th>delivery_days</th>\n",
       "      <td>10.872582</td>\n",
       "      <td>10.0</td>\n",
       "      <td>7.0</td>\n",
       "      <td>70.0</td>\n",
       "      <td>0.0</td>\n",
       "      <td>70.0</td>\n",
       "      <td>6.0</td>\n",
       "      <td>14.0</td>\n",
       "      <td>8.0</td>\n",
       "      <td>26.0</td>\n",
       "      <td>6.537265</td>\n",
       "    </tr>\n",
       "    <tr>\n",
       "      <th>estimated_delivery_days</th>\n",
       "      <td>23.290347</td>\n",
       "      <td>23.0</td>\n",
       "      <td>21.0</td>\n",
       "      <td>155.0</td>\n",
       "      <td>1.0</td>\n",
       "      <td>154.0</td>\n",
       "      <td>18.0</td>\n",
       "      <td>28.0</td>\n",
       "      <td>10.0</td>\n",
       "      <td>43.0</td>\n",
       "      <td>8.911049</td>\n",
       "    </tr>\n",
       "    <tr>\n",
       "      <th>days_btw_purch_and_approval</th>\n",
       "      <td>0.234743</td>\n",
       "      <td>0.0</td>\n",
       "      <td>0.0</td>\n",
       "      <td>5.0</td>\n",
       "      <td>0.0</td>\n",
       "      <td>5.0</td>\n",
       "      <td>0.0</td>\n",
       "      <td>0.0</td>\n",
       "      <td>0.0</td>\n",
       "      <td>0.0</td>\n",
       "      <td>0.614432</td>\n",
       "    </tr>\n",
       "    <tr>\n",
       "      <th>days_btw_approval_and_carrier</th>\n",
       "      <td>2.221658</td>\n",
       "      <td>1.0</td>\n",
       "      <td>0.0</td>\n",
       "      <td>54.0</td>\n",
       "      <td>0.0</td>\n",
       "      <td>54.0</td>\n",
       "      <td>0.0</td>\n",
       "      <td>3.0</td>\n",
       "      <td>3.0</td>\n",
       "      <td>7.5</td>\n",
       "      <td>3.028337</td>\n",
       "    </tr>\n",
       "    <tr>\n",
       "      <th>days_btw_carrier_and_customer</th>\n",
       "      <td>7.780560</td>\n",
       "      <td>7.0</td>\n",
       "      <td>6.0</td>\n",
       "      <td>48.0</td>\n",
       "      <td>0.0</td>\n",
       "      <td>48.0</td>\n",
       "      <td>4.0</td>\n",
       "      <td>11.0</td>\n",
       "      <td>7.0</td>\n",
       "      <td>21.5</td>\n",
       "      <td>5.782698</td>\n",
       "    </tr>\n",
       "  </tbody>\n",
       "</table>\n",
       "</div>"
      ],
      "text/plain": [
       "                                mean_val  median_val  mode_val  max_val  \\\n",
       "delivery_days                  10.872582        10.0       7.0     70.0   \n",
       "estimated_delivery_days        23.290347        23.0      21.0    155.0   \n",
       "days_btw_purch_and_approval     0.234743         0.0       0.0      5.0   \n",
       "days_btw_approval_and_carrier   2.221658         1.0       0.0     54.0   \n",
       "days_btw_carrier_and_customer   7.780560         7.0       6.0     48.0   \n",
       "\n",
       "                               min_val  range_val  0.25  0.75   iqr  \\\n",
       "delivery_days                      0.0       70.0   6.0  14.0   8.0   \n",
       "estimated_delivery_days            1.0      154.0  18.0  28.0  10.0   \n",
       "days_btw_purch_and_approval        0.0        5.0   0.0   0.0   0.0   \n",
       "days_btw_approval_and_carrier      0.0       54.0   0.0   3.0   3.0   \n",
       "days_btw_carrier_and_customer      0.0       48.0   4.0  11.0   7.0   \n",
       "\n",
       "                               upper_whisker   std_val  \n",
       "delivery_days                           26.0  6.537265  \n",
       "estimated_delivery_days                 43.0  8.911049  \n",
       "days_btw_purch_and_approval              0.0  0.614432  \n",
       "days_btw_approval_and_carrier            7.5  3.028337  \n",
       "days_btw_carrier_and_customer           21.5  5.782698  "
      ]
     },
     "execution_count": 53,
     "metadata": {},
     "output_type": "execute_result"
    }
   ],
   "source": [
    "(\n",
    "orders_df\n",
    "    .iloc[:,-5:]\n",
    "    .mean()\n",
    "    .to_frame()\n",
    "    .rename(columns = {0:'mean_val'})\n",
    "    .merge(\n",
    "           right = orders_df\n",
    "                    .iloc[:,-5:]\n",
    "                    .median()\n",
    "                    .to_frame()\n",
    "                    .rename(columns = {0:'median_val'})\n",
    "           , left_index = True \n",
    "           , right_index = True\n",
    "          )\n",
    "    .merge(\n",
    "           right = orders_df\n",
    "                    .iloc[:, -5:]\n",
    "                    .mode()\n",
    "                    .stack()\n",
    "                    .to_frame()\n",
    "                    .droplevel(0)\n",
    "                    .rename(columns = {0:'mode_val'})\n",
    "           , left_index = True\n",
    "           , right_index = True\n",
    "          )\n",
    "# Masuri de dispersie: gama, gama inter-cvartilica, varianta, deviatie standard\n",
    "    .merge(\n",
    "           right = orders_df\n",
    "                    .iloc[:,-5:]\n",
    "                    .max()\n",
    "                    .to_frame()\n",
    "                    .rename(columns = {0:'max_val'})\n",
    "           , left_index = True \n",
    "           , right_index = True\n",
    "          )\n",
    "    .merge(\n",
    "           right = orders_df\n",
    "                    .iloc[:,-5:]\n",
    "                    .min()\n",
    "                    .to_frame()\n",
    "                    .rename(columns = {0:'min_val'})\n",
    "           , left_index = True \n",
    "           , right_index = True\n",
    "          )\n",
    "    .merge( \n",
    "           right = orders_df\n",
    "                    .iloc[:,-5:]\n",
    "                    .max()\n",
    "                    .sub(\n",
    "                         orders_df\n",
    "                            .iloc[:,-5:]\n",
    "                            .min()\n",
    "                            )\n",
    "                    .to_frame()\n",
    "                    .rename(columns = {0:'range_val'})\n",
    "           , left_index = True \n",
    "           , right_index = True\n",
    "          )\n",
    "    .merge(right = orders_df\n",
    "                    .iloc[:,-5:]\n",
    "                    .quantile([0.25, 0.75])\n",
    "                    .stack() #stivuire/de-pivotare\n",
    "                    .swaplevel()\n",
    "                    .unstack() #de-stivuire/pivotare\n",
    "                    .assign(iqr = lambda df: df[0.75] - df[0.25])\n",
    "                    .assign(upper_whisker = lambda df: df[0.75] + 1.5*df['iqr'])\n",
    "          , left_index = True\n",
    "          , right_index = True)\n",
    "    .merge(right = orders_df\n",
    "                    .iloc[:,-5:]\n",
    "                    .std()\n",
    "                    .to_frame()\n",
    "                    .rename(columns={0:'std_val'})\n",
    "           , left_index = True\n",
    "           , right_index = True\n",
    "          )  \n",
    ")"
   ]
  },
  {
   "cell_type": "code",
   "execution_count": 52,
   "id": "acc67cf7",
   "metadata": {},
   "outputs": [
    {
     "data": {
      "text/html": [
       "<div>\n",
       "<style scoped>\n",
       "    .dataframe tbody tr th:only-of-type {\n",
       "        vertical-align: middle;\n",
       "    }\n",
       "\n",
       "    .dataframe tbody tr th {\n",
       "        vertical-align: top;\n",
       "    }\n",
       "\n",
       "    .dataframe thead th {\n",
       "        text-align: right;\n",
       "    }\n",
       "</style>\n",
       "<table border=\"1\" class=\"dataframe\">\n",
       "  <thead>\n",
       "    <tr style=\"text-align: right;\">\n",
       "      <th></th>\n",
       "      <th>std_val</th>\n",
       "    </tr>\n",
       "  </thead>\n",
       "  <tbody>\n",
       "    <tr>\n",
       "      <th>delivery_days</th>\n",
       "      <td>6.537265</td>\n",
       "    </tr>\n",
       "    <tr>\n",
       "      <th>estimated_delivery_days</th>\n",
       "      <td>8.911049</td>\n",
       "    </tr>\n",
       "    <tr>\n",
       "      <th>days_btw_purch_and_approval</th>\n",
       "      <td>0.614432</td>\n",
       "    </tr>\n",
       "    <tr>\n",
       "      <th>days_btw_approval_and_carrier</th>\n",
       "      <td>3.028337</td>\n",
       "    </tr>\n",
       "    <tr>\n",
       "      <th>days_btw_carrier_and_customer</th>\n",
       "      <td>5.782698</td>\n",
       "    </tr>\n",
       "  </tbody>\n",
       "</table>\n",
       "</div>"
      ],
      "text/plain": [
       "                                std_val\n",
       "delivery_days                  6.537265\n",
       "estimated_delivery_days        8.911049\n",
       "days_btw_purch_and_approval    0.614432\n",
       "days_btw_approval_and_carrier  3.028337\n",
       "days_btw_carrier_and_customer  5.782698"
      ]
     },
     "execution_count": 52,
     "metadata": {},
     "output_type": "execute_result"
    }
   ],
   "source": [
    "(\n",
    "orders_df\n",
    "    .iloc[:,-5:]\n",
    "    .std()\n",
    "    .to_frame()\n",
    "    .rename(columns={0:'std_val'})\n",
    ")"
   ]
  },
  {
   "cell_type": "markdown",
   "id": "d611b6e2",
   "metadata": {},
   "source": [
    "## Histograme de frecventa"
   ]
  },
  {
   "cell_type": "code",
   "execution_count": 54,
   "id": "5bbeb024",
   "metadata": {},
   "outputs": [
    {
     "data": {
      "image/png": "[encoded data removed]",
      "text/plain": [
       "<Figure size 1008x432 with 1 Axes>"
      ]
     },
     "metadata": {
      "needs_background": "light"
     },
     "output_type": "display_data"
    }
   ],
   "source": [
    "(fig, ax) = plt.subplots(figsize = (14, 6))\n",
    "ax = sns.histplot(data = orders_df['delivery_days'], kde = False, bins = 100)\n",
    "#plt.hist(), ax.hist()\n",
    "plt.show()"
   ]
  },
  {
   "cell_type": "code",
   "execution_count": 55,
   "id": "fb21f68d",
   "metadata": {},
   "outputs": [
    {
     "data": {
      "text/plain": [
       "4                 NaN\n",
       "5        (22.4, 23.1]\n",
       "6        (23.8, 24.5]\n",
       "7        (34.3, 35.0]\n",
       "8        (29.4, 30.1]\n",
       "             ...     \n",
       "99436             NaN\n",
       "99437             NaN\n",
       "99438             NaN\n",
       "99439             NaN\n",
       "99440             NaN\n",
       "Name: delivery_days, Length: 94084, dtype: category\n",
       "Categories (100, interval[float64, right]): [(-0.07, 0.7] < (0.7, 1.4] < (1.4, 2.1] < (2.1, 2.8] ... (67.2, 67.9] < (67.9, 68.6] < (68.6, 69.3] < (69.3, 70.0]]"
      ]
     },
     "execution_count": 55,
     "metadata": {},
     "output_type": "execute_result"
    }
   ],
   "source": [
    "pd.cut(x = orders_df['delivery_days'], bins = 100)"
   ]
  },
  {
   "cell_type": "code",
   "execution_count": 56,
   "id": "c2a3fdd1",
   "metadata": {},
   "outputs": [
    {
     "data": {
      "image/png": "[encoded data removed]",
      "text/plain": [
       "<Figure size 1008x432 with 1 Axes>"
      ]
     },
     "metadata": {
      "needs_background": "light"
     },
     "output_type": "display_data"
    }
   ],
   "source": [
    "(fig, ax) = plt.subplots(figsize = (14, 6))\n",
    "ax = sns.histplot(data = orders_df['estimated_delivery_days'], kde = False, bins = 100)\n",
    "#plt.hist(), ax.hist()\n",
    "plt.show()"
   ]
  },
  {
   "cell_type": "code",
   "execution_count": 57,
   "id": "a41e29e0",
   "metadata": {},
   "outputs": [
    {
     "data": {
      "text/plain": [
       "4        (21.02, 22.56]\n",
       "5         (22.56, 24.1]\n",
       "6        (33.34, 34.88]\n",
       "7        (51.82, 53.36]\n",
       "8         (54.9, 56.44]\n",
       "              ...      \n",
       "99436     (14.86, 16.4]\n",
       "99437    (19.48, 21.02]\n",
       "99438    (11.78, 13.32]\n",
       "99439    (25.64, 27.18]\n",
       "99440    (11.78, 13.32]\n",
       "Name: estimated_delivery_days, Length: 94084, dtype: category\n",
       "Categories (100, interval[float64, right]): [(0.846, 2.54] < (2.54, 4.08] < (4.08, 5.62] < (5.62, 7.16] ... (148.84, 150.38] < (150.38, 151.92] < (151.92, 153.46] < (153.46, 155.0]]"
      ]
     },
     "execution_count": 57,
     "metadata": {},
     "output_type": "execute_result"
    }
   ],
   "source": [
    "pd.cut(x = orders_df['estimated_delivery_days'], bins = 100)"
   ]
  },
  {
   "cell_type": "code",
   "execution_count": 58,
   "id": "71129fdb",
   "metadata": {},
   "outputs": [
    {
     "data": {
      "text/plain": [
       "4         (18.0, 23.0]\n",
       "5         (18.0, 23.0]\n",
       "6        (28.0, 155.0]\n",
       "7        (28.0, 155.0]\n",
       "8        (28.0, 155.0]\n",
       "             ...      \n",
       "99436    (0.999, 18.0]\n",
       "99437     (18.0, 23.0]\n",
       "99438    (0.999, 18.0]\n",
       "99439     (23.0, 28.0]\n",
       "99440    (0.999, 18.0]\n",
       "Name: estimated_delivery_days, Length: 94084, dtype: category\n",
       "Categories (4, interval[float64, right]): [(0.999, 18.0] < (18.0, 23.0] < (23.0, 28.0] < (28.0, 155.0]]"
      ]
     },
     "execution_count": 58,
     "metadata": {},
     "output_type": "execute_result"
    }
   ],
   "source": [
    "pd.qcut(x = orders_df['estimated_delivery_days'], q = 4)"
   ]
  },
  {
   "cell_type": "markdown",
   "id": "5578d5ac",
   "metadata": {},
   "source": [
    "## Curbe de densitate"
   ]
  },
  {
   "cell_type": "code",
   "execution_count": 59,
   "id": "d67bf07d",
   "metadata": {
    "scrolled": true
   },
   "outputs": [
    {
     "data": {
      "image/png": "[encoded data removed]",
      "text/plain": [
       "<Figure size 1008x432 with 1 Axes>"
      ]
     },
     "metadata": {
      "needs_background": "light"
     },
     "output_type": "display_data"
    }
   ],
   "source": [
    "(fig, ax) = plt.subplots(figsize = (14, 6))\n",
    "ax = sns.histplot(data = orders_df['estimated_delivery_days'], kde = True, bins = 100)\n",
    "plt.show()"
   ]
  },
  {
   "cell_type": "code",
   "execution_count": 61,
   "id": "1170a90a",
   "metadata": {},
   "outputs": [
    {
     "data": {
      "image/png": "[encoded data removed]",
      "text/plain": [
       "<Figure size 1008x432 with 1 Axes>"
      ]
     },
     "metadata": {
      "needs_background": "light"
     },
     "output_type": "display_data"
    }
   ],
   "source": [
    "(fig, ax) = plt.subplots(figsize = (14, 6))\n",
    "ax = sns.kdeplot(data = orders_df['estimated_delivery_days'])\n",
    "plt.show()"
   ]
  },
  {
   "cell_type": "code",
   "execution_count": 62,
   "id": "bd9635f2",
   "metadata": {},
   "outputs": [],
   "source": [
    "def box_whiskers(data):\n",
    "    (fig, ax) = plt.subplots(figsize = (14, 6))\n",
    "    ax = sns.boxplot(x = data)\n",
    "    plt.show()"
   ]
  },
  {
   "cell_type": "code",
   "execution_count": 63,
   "id": "22af04d0",
   "metadata": {},
   "outputs": [
    {
     "data": {
      "image/png": "[encoded data removed]",
      "text/plain": [
       "<Figure size 1008x432 with 1 Axes>"
      ]
     },
     "metadata": {
      "needs_background": "light"
     },
     "output_type": "display_data"
    }
   ],
   "source": [
    "box_whiskers(data = orders_df['days_btw_carrier_and_customer'])"
   ]
  },
  {
   "cell_type": "code",
   "execution_count": 64,
   "id": "0da46372",
   "metadata": {},
   "outputs": [
    {
     "data": {
      "image/png": "[encoded data removed]",
      "text/plain": [
       "<Figure size 1008x432 with 1 Axes>"
      ]
     },
     "metadata": {
      "needs_background": "light"
     },
     "output_type": "display_data"
    }
   ],
   "source": [
    "box_whiskers(data = orders_df['days_btw_approval_and_carrier'])"
   ]
  },
  {
   "cell_type": "code",
   "execution_count": 65,
   "id": "2fb184ea",
   "metadata": {},
   "outputs": [],
   "source": [
    "def hist_kde(data, bins):\n",
    "    (fig, ax) = plt.subplots(figsize = (14, 6))\n",
    "    ax = sns.histplot(data = data, bins = bins)\n",
    "    plt.show()"
   ]
  },
  {
   "cell_type": "code",
   "execution_count": 66,
   "id": "c56bf98e",
   "metadata": {},
   "outputs": [
    {
     "data": {
      "image/png": "[encoded data removed]",
      "text/plain": [
       "<Figure size 1008x432 with 1 Axes>"
      ]
     },
     "metadata": {
      "needs_background": "light"
     },
     "output_type": "display_data"
    }
   ],
   "source": [
    "hist_kde(data = orders_df['days_btw_carrier_and_customer'], bins = 100)"
   ]
  },
  {
   "cell_type": "code",
   "execution_count": 67,
   "id": "8d82cdd7",
   "metadata": {},
   "outputs": [
    {
     "data": {
      "image/png": "[encoded data removed]",
      "text/plain": [
       "<Figure size 1008x432 with 1 Axes>"
      ]
     },
     "metadata": {
      "needs_background": "light"
     },
     "output_type": "display_data"
    }
   ],
   "source": [
    "hist_kde(data = orders_df['days_btw_approval_and_carrier'], bins = 100)"
   ]
  },
  {
   "cell_type": "markdown",
   "id": "7c8dd879",
   "metadata": {},
   "source": [
    "## Distributia binomiala"
   ]
  },
  {
   "cell_type": "markdown",
   "id": "1aa1c1de",
   "metadata": {},
   "source": [
    "Sa se calculeze probabilitatea ca o comanda sa fie reusita, pe baza statusului comenzii, din fisierul\n",
    "olist_orders_dataset.csv. Sa se calculeze, apoi, urmatoarele:\n",
    "- Probabilitatea de a avea 9 comenzi reusite din urmatoarele 10, in contextul in care cunoastem\n",
    "probabilitatea generala de comenzi reusite.\n",
    "- Probabilitatea de a avea mai putin de 6 comenzi reusite din urmatoarele 10, in contextul in care\n",
    "cunoastem probabilitatea generala de comenzi reusite.\n",
    "- Probabilitatea de a avea mai mult de 8 comenzi reusite din urmatoarele 10, in contextul in care\n",
    "cunoastem probabilitatea generala de comenzi reusite.\n"
   ]
  },
  {
   "cell_type": "code",
   "execution_count": 68,
   "id": "f9744c7b",
   "metadata": {},
   "outputs": [],
   "source": [
    "from scipy import stats"
   ]
  },
  {
   "cell_type": "code",
   "execution_count": 69,
   "id": "cfdf0cd8",
   "metadata": {},
   "outputs": [
    {
     "data": {
      "text/plain": [
       "delivered      91144\n",
       "shipped         1097\n",
       "canceled         617\n",
       "unavailable      606\n",
       "invoiced         314\n",
       "processing       299\n",
       "created            5\n",
       "approved           2\n",
       "Name: order_status, dtype: int64"
      ]
     },
     "execution_count": 69,
     "metadata": {},
     "output_type": "execute_result"
    }
   ],
   "source": [
    "orders_df['order_status'].value_counts()"
   ]
  },
  {
   "cell_type": "code",
   "execution_count": 71,
   "id": "9e2e3211",
   "metadata": {},
   "outputs": [
    {
     "data": {
      "text/plain": [
       "0.9687513285999745"
      ]
     },
     "execution_count": 71,
     "metadata": {},
     "output_type": "execute_result"
    }
   ],
   "source": [
    "p_successful_orders = len(orders_df[orders_df['order_status'] == 'delivered'])/len(orders_df)\n",
    "p_successful_orders"
   ]
  },
  {
   "cell_type": "code",
   "execution_count": 72,
   "id": "803e9148",
   "metadata": {},
   "outputs": [
    {
     "data": {
      "text/plain": [
       "0.23482393283447173"
      ]
     },
     "execution_count": 72,
     "metadata": {},
     "output_type": "execute_result"
    }
   ],
   "source": [
    "#exact 9 comenzi din 10\n",
    "stats.binom.pmf(k = 9, n = 10, p = p_successful_orders)"
   ]
  },
  {
   "cell_type": "code",
   "execution_count": 73,
   "id": "b7844c96",
   "metadata": {},
   "outputs": [
    {
     "data": {
      "text/plain": [
       "0.0001720900609804144"
      ]
     },
     "execution_count": 73,
     "metadata": {},
     "output_type": "execute_result"
    }
   ],
   "source": [
    "#<=6 comenzi reusite din 10: P(0/10), P(1/10), ... , P(6/10)\n",
    "stats.binom.cdf(k = 6, n = 10, p = p_successful_orders) #cdf -> <= val"
   ]
  },
  {
   "cell_type": "code",
   "execution_count": 74,
   "id": "cafcd193",
   "metadata": {},
   "outputs": [
    {
     "data": {
      "text/plain": [
       "0.9628100734557334"
      ]
     },
     "execution_count": 74,
     "metadata": {},
     "output_type": "execute_result"
    }
   ],
   "source": [
    "#>8 comenzi reusite din 10: P(9/10), P(10/10)\n",
    "stats.binom.sf(k = 8, n = 10, p = p_successful_orders) #sf -> > val (1 - <= val)"
   ]
  },
  {
   "cell_type": "code",
   "execution_count": 75,
   "id": "976fbf9d",
   "metadata": {},
   "outputs": [
    {
     "data": {
      "text/plain": [
       "0.9628100734557334"
      ]
     },
     "execution_count": 75,
     "metadata": {},
     "output_type": "execute_result"
    }
   ],
   "source": [
    "1 - stats.binom.cdf(k = 8, n = 10, p = p_successful_orders)"
   ]
  },
  {
   "cell_type": "markdown",
   "id": "b9316462",
   "metadata": {},
   "source": [
    "## Distributia Poisson"
   ]
  },
  {
   "cell_type": "markdown",
   "id": "19b12dc5",
   "metadata": {},
   "source": [
    "Sa se calculeze numarul mediu de comenzi pe zi. Stiind numarul mediu de comenzi pe zi, sa se afle\n",
    "urmatoarele:\n",
    "- Probabilitatea de a primi 100 comenzi in orice zi.\n",
    "- Probabilitatea de a primi mai putin de 100 comenzi in orice zi.\n",
    "- Probabilitatea de a primi mai mult de 100 comenzi in orice zi"
   ]
  },
  {
   "cell_type": "code",
   "execution_count": 77,
   "id": "0e4b3086",
   "metadata": {},
   "outputs": [],
   "source": [
    "daily_orders_df = (\n",
    "orders_df\n",
    "    .set_index('order_purchase_timestamp')\n",
    "    .resample(rule = 'D')\n",
    "    .count()\n",
    "    [['order_id']]\n",
    "    .rename(columns = {'order_id':'no_orders'})\n",
    ")"
   ]
  },
  {
   "cell_type": "code",
   "execution_count": 79,
   "id": "563e4c17",
   "metadata": {},
   "outputs": [
    {
     "data": {
      "text/plain": [
       "126.11796246648794"
      ]
     },
     "execution_count": 79,
     "metadata": {},
     "output_type": "execute_result"
    }
   ],
   "source": [
    "avg_daily_orders = daily_orders_df.mean().iloc[0]\n",
    "avg_daily_orders"
   ]
  },
  {
   "cell_type": "code",
   "execution_count": 80,
   "id": "67174566",
   "metadata": {},
   "outputs": [
    {
     "data": {
      "text/plain": [
       "0.0021644908489423"
      ]
     },
     "execution_count": 80,
     "metadata": {},
     "output_type": "execute_result"
    }
   ],
   "source": [
    "#probabilitate de a primi 100 comenzi in orice zi\n",
    "p_100_orders_per_day = stats.poisson.pmf(k = 100, mu = avg_daily_orders)\n",
    "p_100_orders_per_day"
   ]
  },
  {
   "cell_type": "code",
   "execution_count": 81,
   "id": "4372159a",
   "metadata": {},
   "outputs": [
    {
     "data": {
      "text/plain": [
       "0.009377661814591437"
      ]
     },
     "execution_count": 81,
     "metadata": {},
     "output_type": "execute_result"
    }
   ],
   "source": [
    "#probabilitate de a primi <= 100 comenzi in orice zi\n",
    "p_100_orders_or_less = stats.poisson.cdf(k = 100, mu = avg_daily_orders) #cdf -> suma de pana la nr dorit: P(0/126) + P(1/126) + ... + P(100/126)\n",
    "p_100_orders_or_less"
   ]
  },
  {
   "cell_type": "code",
   "execution_count": 82,
   "id": "66d2c792",
   "metadata": {},
   "outputs": [
    {
     "data": {
      "text/plain": [
       "0.9906223381854086"
      ]
     },
     "execution_count": 82,
     "metadata": {},
     "output_type": "execute_result"
    }
   ],
   "source": [
    "#probabilitate de a primi > 100 comenzi in orice zi\n",
    "p_101_orders_or_more = stats.poisson.sf(k = 100, mu = avg_daily_orders) #sf -> suma de peste nr dorit: P(101/126) + ... + (P126/126)\n",
    "p_101_orders_or_more"
   ]
  },
  {
   "cell_type": "code",
   "execution_count": 83,
   "id": "7a6d5ae5",
   "metadata": {},
   "outputs": [],
   "source": [
    "items_mean_price = (\n",
    "order_items_df\n",
    "    .groupby(by = 'product_id')\n",
    "    .mean()\n",
    "    [['price']]\n",
    "    .rename(columns = {'price':'mean_price'})\n",
    ")"
   ]
  },
  {
   "cell_type": "code",
   "execution_count": 84,
   "id": "88ee46f7",
   "metadata": {},
   "outputs": [
    {
     "data": {
      "text/html": [
       "<div>\n",
       "<style scoped>\n",
       "    .dataframe tbody tr th:only-of-type {\n",
       "        vertical-align: middle;\n",
       "    }\n",
       "\n",
       "    .dataframe tbody tr th {\n",
       "        vertical-align: top;\n",
       "    }\n",
       "\n",
       "    .dataframe thead th {\n",
       "        text-align: right;\n",
       "    }\n",
       "</style>\n",
       "<table border=\"1\" class=\"dataframe\">\n",
       "  <thead>\n",
       "    <tr style=\"text-align: right;\">\n",
       "      <th></th>\n",
       "      <th>mean_price</th>\n",
       "    </tr>\n",
       "    <tr>\n",
       "      <th>product_id</th>\n",
       "      <th></th>\n",
       "    </tr>\n",
       "  </thead>\n",
       "  <tbody>\n",
       "    <tr>\n",
       "      <th>1</th>\n",
       "      <td>101.65</td>\n",
       "    </tr>\n",
       "    <tr>\n",
       "      <th>2</th>\n",
       "      <td>129.90</td>\n",
       "    </tr>\n",
       "    <tr>\n",
       "      <th>3</th>\n",
       "      <td>229.00</td>\n",
       "    </tr>\n",
       "    <tr>\n",
       "      <th>4</th>\n",
       "      <td>58.90</td>\n",
       "    </tr>\n",
       "    <tr>\n",
       "      <th>5</th>\n",
       "      <td>199.00</td>\n",
       "    </tr>\n",
       "    <tr>\n",
       "      <th>...</th>\n",
       "      <td>...</td>\n",
       "    </tr>\n",
       "    <tr>\n",
       "      <th>32947</th>\n",
       "      <td>114.99</td>\n",
       "    </tr>\n",
       "    <tr>\n",
       "      <th>32948</th>\n",
       "      <td>90.00</td>\n",
       "    </tr>\n",
       "    <tr>\n",
       "      <th>32949</th>\n",
       "      <td>32.00</td>\n",
       "    </tr>\n",
       "    <tr>\n",
       "      <th>32950</th>\n",
       "      <td>33.99</td>\n",
       "    </tr>\n",
       "    <tr>\n",
       "      <th>32951</th>\n",
       "      <td>249.99</td>\n",
       "    </tr>\n",
       "  </tbody>\n",
       "</table>\n",
       "<p>32951 rows × 1 columns</p>\n",
       "</div>"
      ],
      "text/plain": [
       "            mean_price\n",
       "product_id            \n",
       "1               101.65\n",
       "2               129.90\n",
       "3               229.00\n",
       "4                58.90\n",
       "5               199.00\n",
       "...                ...\n",
       "32947           114.99\n",
       "32948            90.00\n",
       "32949            32.00\n",
       "32950            33.99\n",
       "32951           249.99\n",
       "\n",
       "[32951 rows x 1 columns]"
      ]
     },
     "execution_count": 84,
     "metadata": {},
     "output_type": "execute_result"
    }
   ],
   "source": [
    "items_mean_price"
   ]
  },
  {
   "cell_type": "code",
   "execution_count": 85,
   "id": "8ec607e5",
   "metadata": {},
   "outputs": [
    {
     "data": {
      "text/plain": [
       "145.30246421050177"
      ]
     },
     "execution_count": 85,
     "metadata": {},
     "output_type": "execute_result"
    }
   ],
   "source": [
    "mean_price = items_mean_price.mean().iloc[0]\n",
    "mean_price"
   ]
  },
  {
   "cell_type": "code",
   "execution_count": 86,
   "id": "0a89ba27",
   "metadata": {},
   "outputs": [
    {
     "data": {
      "text/plain": [
       "246.89575585438536"
      ]
     },
     "execution_count": 86,
     "metadata": {},
     "output_type": "execute_result"
    }
   ],
   "source": [
    "std_price = items_mean_price.std().iloc[0]\n",
    "std_price"
   ]
  },
  {
   "cell_type": "code",
   "execution_count": 87,
   "id": "27e1226a",
   "metadata": {},
   "outputs": [
    {
     "data": {
      "text/plain": [
       "0.4272074781791678"
      ]
     },
     "execution_count": 87,
     "metadata": {},
     "output_type": "execute_result"
    }
   ],
   "source": [
    "stats.norm.cdf(x = 100, loc = mean_price, scale = std_price)"
   ]
  },
  {
   "cell_type": "code",
   "execution_count": 88,
   "id": "4904527c",
   "metadata": {},
   "outputs": [
    {
     "data": {
      "text/plain": [
       "8.875942474018494"
      ]
     },
     "execution_count": 88,
     "metadata": {},
     "output_type": "execute_result"
    }
   ],
   "source": [
    "stats.norm.ppf(q = 0.05, loc = 23.4, scale = 8.83)"
   ]
  },
  {
   "cell_type": "code",
   "execution_count": 89,
   "id": "8fb75611",
   "metadata": {},
   "outputs": [
    {
     "data": {
      "text/plain": [
       "<AxesSubplot:xlabel='delivery_days', ylabel='Count'>"
      ]
     },
     "execution_count": 89,
     "metadata": {},
     "output_type": "execute_result"
    },
    {
     "data": {
      "image/png": "[encoded data removed]",
      "text/plain": [
       "<Figure size 432x288 with 1 Axes>"
      ]
     },
     "metadata": {
      "needs_background": "light"
     },
     "output_type": "display_data"
    }
   ],
   "source": [
    "sns.histplot(orders_df['delivery_days'])"
   ]
  },
  {
   "cell_type": "markdown",
   "id": "9a40ae78",
   "metadata": {},
   "source": [
    "## Testare A/B in campanii de marketing"
   ]
  },
  {
   "cell_type": "code",
   "execution_count": 90,
   "id": "783df76b",
   "metadata": {},
   "outputs": [
    {
     "data": {
      "text/html": [
       "<div>\n",
       "<style scoped>\n",
       "    .dataframe tbody tr th:only-of-type {\n",
       "        vertical-align: middle;\n",
       "    }\n",
       "\n",
       "    .dataframe tbody tr th {\n",
       "        vertical-align: top;\n",
       "    }\n",
       "\n",
       "    .dataframe thead th {\n",
       "        text-align: right;\n",
       "    }\n",
       "</style>\n",
       "<table border=\"1\" class=\"dataframe\">\n",
       "  <thead>\n",
       "    <tr style=\"text-align: right;\">\n",
       "      <th></th>\n",
       "      <th>user_id</th>\n",
       "      <th>date_served</th>\n",
       "      <th>marketing_channel</th>\n",
       "      <th>variant</th>\n",
       "      <th>converted</th>\n",
       "      <th>language_displayed</th>\n",
       "      <th>language_preferred</th>\n",
       "      <th>age_group</th>\n",
       "      <th>date_subscribed</th>\n",
       "      <th>date_canceled</th>\n",
       "      <th>subscribing_channel</th>\n",
       "      <th>is_retained</th>\n",
       "    </tr>\n",
       "  </thead>\n",
       "  <tbody>\n",
       "    <tr>\n",
       "      <th>0</th>\n",
       "      <td>a100000029</td>\n",
       "      <td>1/1/18</td>\n",
       "      <td>House Ads</td>\n",
       "      <td>personalization</td>\n",
       "      <td>True</td>\n",
       "      <td>English</td>\n",
       "      <td>English</td>\n",
       "      <td>0-18 years</td>\n",
       "      <td>1/1/18</td>\n",
       "      <td>NaN</td>\n",
       "      <td>House Ads</td>\n",
       "      <td>True</td>\n",
       "    </tr>\n",
       "    <tr>\n",
       "      <th>1</th>\n",
       "      <td>a100000030</td>\n",
       "      <td>1/1/18</td>\n",
       "      <td>House Ads</td>\n",
       "      <td>personalization</td>\n",
       "      <td>True</td>\n",
       "      <td>English</td>\n",
       "      <td>English</td>\n",
       "      <td>19-24 years</td>\n",
       "      <td>1/1/18</td>\n",
       "      <td>NaN</td>\n",
       "      <td>House Ads</td>\n",
       "      <td>True</td>\n",
       "    </tr>\n",
       "    <tr>\n",
       "      <th>2</th>\n",
       "      <td>a100000031</td>\n",
       "      <td>1/1/18</td>\n",
       "      <td>House Ads</td>\n",
       "      <td>personalization</td>\n",
       "      <td>True</td>\n",
       "      <td>English</td>\n",
       "      <td>English</td>\n",
       "      <td>24-30 years</td>\n",
       "      <td>1/1/18</td>\n",
       "      <td>NaN</td>\n",
       "      <td>House Ads</td>\n",
       "      <td>True</td>\n",
       "    </tr>\n",
       "    <tr>\n",
       "      <th>3</th>\n",
       "      <td>a100000032</td>\n",
       "      <td>1/1/18</td>\n",
       "      <td>House Ads</td>\n",
       "      <td>personalization</td>\n",
       "      <td>True</td>\n",
       "      <td>English</td>\n",
       "      <td>English</td>\n",
       "      <td>30-36 years</td>\n",
       "      <td>1/1/18</td>\n",
       "      <td>NaN</td>\n",
       "      <td>House Ads</td>\n",
       "      <td>True</td>\n",
       "    </tr>\n",
       "    <tr>\n",
       "      <th>4</th>\n",
       "      <td>a100000033</td>\n",
       "      <td>1/1/18</td>\n",
       "      <td>House Ads</td>\n",
       "      <td>personalization</td>\n",
       "      <td>True</td>\n",
       "      <td>English</td>\n",
       "      <td>English</td>\n",
       "      <td>36-45 years</td>\n",
       "      <td>1/1/18</td>\n",
       "      <td>NaN</td>\n",
       "      <td>House Ads</td>\n",
       "      <td>True</td>\n",
       "    </tr>\n",
       "  </tbody>\n",
       "</table>\n",
       "</div>"
      ],
      "text/plain": [
       "      user_id date_served marketing_channel          variant converted  \\\n",
       "0  a100000029      1/1/18         House Ads  personalization      True   \n",
       "1  a100000030      1/1/18         House Ads  personalization      True   \n",
       "2  a100000031      1/1/18         House Ads  personalization      True   \n",
       "3  a100000032      1/1/18         House Ads  personalization      True   \n",
       "4  a100000033      1/1/18         House Ads  personalization      True   \n",
       "\n",
       "  language_displayed language_preferred    age_group date_subscribed  \\\n",
       "0            English            English   0-18 years          1/1/18   \n",
       "1            English            English  19-24 years          1/1/18   \n",
       "2            English            English  24-30 years          1/1/18   \n",
       "3            English            English  30-36 years          1/1/18   \n",
       "4            English            English  36-45 years          1/1/18   \n",
       "\n",
       "  date_canceled subscribing_channel is_retained  \n",
       "0           NaN           House Ads        True  \n",
       "1           NaN           House Ads        True  \n",
       "2           NaN           House Ads        True  \n",
       "3           NaN           House Ads        True  \n",
       "4           NaN           House Ads        True  "
      ]
     },
     "execution_count": 90,
     "metadata": {},
     "output_type": "execute_result"
    }
   ],
   "source": [
    "mktg_df = pd.read_csv('C:\\\\Users\\\\anlazar\\\\Full_Archive\\\\New Files\\\\marketing.csv')\n",
    "mktg_df.head()"
   ]
  },
  {
   "cell_type": "code",
   "execution_count": 91,
   "id": "6c6e64c6",
   "metadata": {},
   "outputs": [
    {
     "name": "stdout",
     "output_type": "stream",
     "text": [
      "<class 'pandas.core.frame.DataFrame'>\n",
      "RangeIndex: 10037 entries, 0 to 10036\n",
      "Data columns (total 12 columns):\n",
      " #   Column               Non-Null Count  Dtype \n",
      "---  ------               --------------  ----- \n",
      " 0   user_id              10037 non-null  object\n",
      " 1   date_served          10021 non-null  object\n",
      " 2   marketing_channel    10022 non-null  object\n",
      " 3   variant              10037 non-null  object\n",
      " 4   converted            10022 non-null  object\n",
      " 5   language_displayed   10037 non-null  object\n",
      " 6   language_preferred   10037 non-null  object\n",
      " 7   age_group            10037 non-null  object\n",
      " 8   date_subscribed      1856 non-null   object\n",
      " 9   date_canceled        577 non-null    object\n",
      " 10  subscribing_channel  1856 non-null   object\n",
      " 11  is_retained          1856 non-null   object\n",
      "dtypes: object(12)\n",
      "memory usage: 941.1+ KB\n"
     ]
    }
   ],
   "source": [
    "mktg_df.info()"
   ]
  },
  {
   "cell_type": "code",
   "execution_count": 92,
   "id": "cd51bc6c",
   "metadata": {},
   "outputs": [],
   "source": [
    "for column in ['converted', 'is_retained']:\n",
    "    mktg_df[column] = mktg_df[column].astype('bool')"
   ]
  },
  {
   "cell_type": "code",
   "execution_count": 93,
   "id": "d4dc07a4",
   "metadata": {},
   "outputs": [
    {
     "name": "stdout",
     "output_type": "stream",
     "text": [
      "<class 'pandas.core.frame.DataFrame'>\n",
      "RangeIndex: 10037 entries, 0 to 10036\n",
      "Data columns (total 12 columns):\n",
      " #   Column               Non-Null Count  Dtype \n",
      "---  ------               --------------  ----- \n",
      " 0   user_id              10037 non-null  object\n",
      " 1   date_served          10021 non-null  object\n",
      " 2   marketing_channel    10022 non-null  object\n",
      " 3   variant              10037 non-null  object\n",
      " 4   converted            10037 non-null  bool  \n",
      " 5   language_displayed   10037 non-null  object\n",
      " 6   language_preferred   10037 non-null  object\n",
      " 7   age_group            10037 non-null  object\n",
      " 8   date_subscribed      1856 non-null   object\n",
      " 9   date_canceled        577 non-null    object\n",
      " 10  subscribing_channel  1856 non-null   object\n",
      " 11  is_retained          10037 non-null  bool  \n",
      "dtypes: bool(2), object(10)\n",
      "memory usage: 803.9+ KB\n"
     ]
    }
   ],
   "source": [
    "mktg_df.info()"
   ]
  },
  {
   "cell_type": "code",
   "execution_count": 94,
   "id": "05732532",
   "metadata": {},
   "outputs": [
    {
     "data": {
      "text/plain": [
       "House Ads    4733\n",
       "Instagram    1871\n",
       "Facebook     1860\n",
       "Push          993\n",
       "Email         565\n",
       "Name: marketing_channel, dtype: int64"
      ]
     },
     "execution_count": 94,
     "metadata": {},
     "output_type": "execute_result"
    }
   ],
   "source": [
    "mktg_df['marketing_channel'].value_counts()"
   ]
  },
  {
   "cell_type": "code",
   "execution_count": 96,
   "id": "472b1b8b",
   "metadata": {},
   "outputs": [
    {
     "data": {
      "text/plain": [
       "personalization    291\n",
       "control            274\n",
       "Name: variant, dtype: int64"
      ]
     },
     "execution_count": 96,
     "metadata": {},
     "output_type": "execute_result"
    }
   ],
   "source": [
    "mktg_df[mktg_df['marketing_channel'] == 'Email']['variant'].value_counts()"
   ]
  },
  {
   "cell_type": "code",
   "execution_count": 97,
   "id": "c7ddfffa",
   "metadata": {},
   "outputs": [],
   "source": [
    "email_mktg_df = mktg_df[mktg_df['marketing_channel'] == 'Email']"
   ]
  },
  {
   "cell_type": "code",
   "execution_count": 99,
   "id": "dc993cc4",
   "metadata": {},
   "outputs": [
    {
     "data": {
      "text/html": [
       "<div>\n",
       "<style scoped>\n",
       "    .dataframe tbody tr th:only-of-type {\n",
       "        vertical-align: middle;\n",
       "    }\n",
       "\n",
       "    .dataframe tbody tr th {\n",
       "        vertical-align: top;\n",
       "    }\n",
       "\n",
       "    .dataframe thead th {\n",
       "        text-align: right;\n",
       "    }\n",
       "</style>\n",
       "<table border=\"1\" class=\"dataframe\">\n",
       "  <thead>\n",
       "    <tr style=\"text-align: right;\">\n",
       "      <th></th>\n",
       "      <th></th>\n",
       "      <th>converted</th>\n",
       "    </tr>\n",
       "    <tr>\n",
       "      <th>user_id</th>\n",
       "      <th>variant</th>\n",
       "      <th></th>\n",
       "    </tr>\n",
       "  </thead>\n",
       "  <tbody>\n",
       "    <tr>\n",
       "      <th>a100000526</th>\n",
       "      <th>personalization</th>\n",
       "      <td>True</td>\n",
       "    </tr>\n",
       "    <tr>\n",
       "      <th>a100000530</th>\n",
       "      <th>personalization</th>\n",
       "      <td>True</td>\n",
       "    </tr>\n",
       "    <tr>\n",
       "      <th>a100000534</th>\n",
       "      <th>personalization</th>\n",
       "      <td>False</td>\n",
       "    </tr>\n",
       "    <tr>\n",
       "      <th>a100000538</th>\n",
       "      <th>personalization</th>\n",
       "      <td>True</td>\n",
       "    </tr>\n",
       "    <tr>\n",
       "      <th>a100000542</th>\n",
       "      <th>personalization</th>\n",
       "      <td>True</td>\n",
       "    </tr>\n",
       "    <tr>\n",
       "      <th>...</th>\n",
       "      <th>...</th>\n",
       "      <td>...</td>\n",
       "    </tr>\n",
       "    <tr>\n",
       "      <th>a100007288</th>\n",
       "      <th>control</th>\n",
       "      <td>True</td>\n",
       "    </tr>\n",
       "    <tr>\n",
       "      <th>a100007289</th>\n",
       "      <th>control</th>\n",
       "      <td>True</td>\n",
       "    </tr>\n",
       "    <tr>\n",
       "      <th>a100007290</th>\n",
       "      <th>control</th>\n",
       "      <td>True</td>\n",
       "    </tr>\n",
       "    <tr>\n",
       "      <th>a100007291</th>\n",
       "      <th>control</th>\n",
       "      <td>True</td>\n",
       "    </tr>\n",
       "    <tr>\n",
       "      <th>a100007293</th>\n",
       "      <th>control</th>\n",
       "      <td>True</td>\n",
       "    </tr>\n",
       "  </tbody>\n",
       "</table>\n",
       "<p>554 rows × 1 columns</p>\n",
       "</div>"
      ],
      "text/plain": [
       "                            converted\n",
       "user_id    variant                   \n",
       "a100000526 personalization       True\n",
       "a100000530 personalization       True\n",
       "a100000534 personalization      False\n",
       "a100000538 personalization       True\n",
       "a100000542 personalization       True\n",
       "...                               ...\n",
       "a100007288 control               True\n",
       "a100007289 control               True\n",
       "a100007290 control               True\n",
       "a100007291 control               True\n",
       "a100007293 control               True\n",
       "\n",
       "[554 rows x 1 columns]"
      ]
     },
     "execution_count": 99,
     "metadata": {},
     "output_type": "execute_result"
    }
   ],
   "source": [
    "subscribers = (\n",
    "email_mktg_df\n",
    "    .groupby(by = ['user_id', 'variant'])\n",
    "    [['converted']]\n",
    "    .max()   \n",
    ")\n",
    "subscribers"
   ]
  },
  {
   "cell_type": "code",
   "execution_count": 101,
   "id": "91427faf",
   "metadata": {},
   "outputs": [
    {
     "data": {
      "text/html": [
       "<div>\n",
       "<style scoped>\n",
       "    .dataframe tbody tr th:only-of-type {\n",
       "        vertical-align: middle;\n",
       "    }\n",
       "\n",
       "    .dataframe tbody tr th {\n",
       "        vertical-align: top;\n",
       "    }\n",
       "\n",
       "    .dataframe thead tr th {\n",
       "        text-align: left;\n",
       "    }\n",
       "\n",
       "    .dataframe thead tr:last-of-type th {\n",
       "        text-align: right;\n",
       "    }\n",
       "</style>\n",
       "<table border=\"1\" class=\"dataframe\">\n",
       "  <thead>\n",
       "    <tr>\n",
       "      <th></th>\n",
       "      <th colspan=\"2\" halign=\"left\">converted</th>\n",
       "    </tr>\n",
       "    <tr>\n",
       "      <th>variant</th>\n",
       "      <th>control</th>\n",
       "      <th>personalization</th>\n",
       "    </tr>\n",
       "    <tr>\n",
       "      <th>user_id</th>\n",
       "      <th></th>\n",
       "      <th></th>\n",
       "    </tr>\n",
       "  </thead>\n",
       "  <tbody>\n",
       "    <tr>\n",
       "      <th>a100000526</th>\n",
       "      <td>NaN</td>\n",
       "      <td>True</td>\n",
       "    </tr>\n",
       "    <tr>\n",
       "      <th>a100000530</th>\n",
       "      <td>NaN</td>\n",
       "      <td>True</td>\n",
       "    </tr>\n",
       "    <tr>\n",
       "      <th>a100000534</th>\n",
       "      <td>NaN</td>\n",
       "      <td>False</td>\n",
       "    </tr>\n",
       "    <tr>\n",
       "      <th>a100000538</th>\n",
       "      <td>NaN</td>\n",
       "      <td>True</td>\n",
       "    </tr>\n",
       "    <tr>\n",
       "      <th>a100000542</th>\n",
       "      <td>NaN</td>\n",
       "      <td>True</td>\n",
       "    </tr>\n",
       "    <tr>\n",
       "      <th>...</th>\n",
       "      <td>...</td>\n",
       "      <td>...</td>\n",
       "    </tr>\n",
       "    <tr>\n",
       "      <th>a100007288</th>\n",
       "      <td>True</td>\n",
       "      <td>NaN</td>\n",
       "    </tr>\n",
       "    <tr>\n",
       "      <th>a100007289</th>\n",
       "      <td>True</td>\n",
       "      <td>NaN</td>\n",
       "    </tr>\n",
       "    <tr>\n",
       "      <th>a100007290</th>\n",
       "      <td>True</td>\n",
       "      <td>NaN</td>\n",
       "    </tr>\n",
       "    <tr>\n",
       "      <th>a100007291</th>\n",
       "      <td>True</td>\n",
       "      <td>NaN</td>\n",
       "    </tr>\n",
       "    <tr>\n",
       "      <th>a100007293</th>\n",
       "      <td>True</td>\n",
       "      <td>NaN</td>\n",
       "    </tr>\n",
       "  </tbody>\n",
       "</table>\n",
       "<p>553 rows × 2 columns</p>\n",
       "</div>"
      ],
      "text/plain": [
       "           converted                \n",
       "variant      control personalization\n",
       "user_id                             \n",
       "a100000526       NaN            True\n",
       "a100000530       NaN            True\n",
       "a100000534       NaN           False\n",
       "a100000538       NaN            True\n",
       "a100000542       NaN            True\n",
       "...              ...             ...\n",
       "a100007288      True             NaN\n",
       "a100007289      True             NaN\n",
       "a100007290      True             NaN\n",
       "a100007291      True             NaN\n",
       "a100007293      True             NaN\n",
       "\n",
       "[553 rows x 2 columns]"
      ]
     },
     "execution_count": 101,
     "metadata": {},
     "output_type": "execute_result"
    }
   ],
   "source": [
    "(\n",
    "subscribers\n",
    ".unstack(level = 1)\n",
    ")"
   ]
  },
  {
   "cell_type": "code",
   "execution_count": 127,
   "id": "0b155308",
   "metadata": {},
   "outputs": [],
   "source": [
    "control = (\n",
    "subscribers\n",
    "    .unstack(level = 1)\n",
    "    [('converted', 'control')]\n",
    "    .dropna()\n",
    ")"
   ]
  },
  {
   "cell_type": "code",
   "execution_count": 129,
   "id": "fa433382",
   "metadata": {},
   "outputs": [
    {
     "data": {
      "text/plain": [
       "user_id\n",
       "a100000687    False\n",
       "a100000688     True\n",
       "a100000689     True\n",
       "a100000690     True\n",
       "a100000691     True\n",
       "              ...  \n",
       "a100007288     True\n",
       "a100007289     True\n",
       "a100007290     True\n",
       "a100007291     True\n",
       "a100007293     True\n",
       "Name: (converted, control), Length: 270, dtype: object"
      ]
     },
     "execution_count": 129,
     "metadata": {},
     "output_type": "execute_result"
    }
   ],
   "source": [
    "control"
   ]
  },
  {
   "cell_type": "code",
   "execution_count": 126,
   "id": "4a5e065f",
   "metadata": {},
   "outputs": [
    {
     "data": {
      "text/plain": [
       "user_id\n",
       "a100000526     True\n",
       "a100000530     True\n",
       "a100000534    False\n",
       "a100000538     True\n",
       "a100000542     True\n",
       "              ...  \n",
       "a100007273     True\n",
       "a100007274     True\n",
       "a100007275     True\n",
       "a100007276     True\n",
       "a100007277     True\n",
       "Name: (converted, personalization), Length: 284, dtype: object"
      ]
     },
     "execution_count": 126,
     "metadata": {},
     "output_type": "execute_result"
    }
   ],
   "source": [
    "personalization = (\n",
    "    subscribers\n",
    "    .unstack(level = 1)\n",
    "    [('converted', 'personalization')]\n",
    "    .dropna()\n",
    ")\n",
    "personalization"
   ]
  },
  {
   "cell_type": "code",
   "execution_count": 113,
   "id": "593d1d88",
   "metadata": {},
   "outputs": [
    {
     "name": "stdout",
     "output_type": "stream",
     "text": [
      "Control conversion rate: 0.2814814814814815\n",
      "Personalization conversion rate: 0.3908450704225352\n"
     ]
    }
   ],
   "source": [
    "print(f\"Control conversion rate: {control.mean()}\")\n",
    "print(f\"Personalization conversion rate: {personalization.mean()}\")"
   ]
  },
  {
   "cell_type": "code",
   "execution_count": 114,
   "id": "e8b29529",
   "metadata": {},
   "outputs": [],
   "source": [
    "def lift(control, personalization):\n",
    "    control_mean = control.mean()\n",
    "    personalization_mean = personalization.mean()\n",
    "    lift = (personalization_mean - control_mean)/control_mean\n",
    "    return str(round(100*lift, 2)) + '%'"
   ]
  },
  {
   "cell_type": "code",
   "execution_count": 115,
   "id": "bc27f8e3",
   "metadata": {},
   "outputs": [
    {
     "name": "stdout",
     "output_type": "stream",
     "text": [
      "38.85%\n"
     ]
    }
   ],
   "source": [
    "print(lift(control = control, personalization = personalization))"
   ]
  },
  {
   "cell_type": "code",
   "execution_count": 128,
   "id": "bd1cfed4",
   "metadata": {},
   "outputs": [
    {
     "data": {
      "text/plain": [
       "Ttest_indResult(statistic=-2.7343299447505074, pvalue=0.0064514878446941745)"
      ]
     },
     "execution_count": 128,
     "metadata": {},
     "output_type": "execute_result"
    }
   ],
   "source": [
    "stats.ttest_ind(control, personalization)"
   ]
  },
  {
   "cell_type": "code",
   "execution_count": 133,
   "id": "f143b973",
   "metadata": {},
   "outputs": [
    {
     "name": "stdout",
     "output_type": "stream",
     "text": [
      "Control conversion rate: 0.2814814814814815\n",
      "Personalization conversion rate: 0.3908450704225352\n",
      "Calculated lift: 38.85%\n",
      "Ttest_indResult(statistic=-2.7343299447505074, pvalue=0.0064514878446941745)\n"
     ]
    }
   ],
   "source": [
    "#Define Control & Personalization Groups\n",
    "control = (\n",
    "subscribers\n",
    "    .unstack(level = 1)\n",
    "    [('converted', 'control')]\n",
    "    .dropna()\n",
    ")\n",
    "\n",
    "personalization = (\n",
    "    subscribers\n",
    "    .unstack(level = 1)\n",
    "    [('converted', 'personalization')]\n",
    "    .dropna()\n",
    ")\n",
    "\n",
    "#Calculate conversion rate\n",
    "print(f\"Control conversion rate: {control.mean()}\")\n",
    "print(f\"Personalization conversion rate: {personalization.mean()}\")\n",
    "\n",
    "#Define func to calculate lift\n",
    "def lift(control, personalization):\n",
    "    control_mean = control.mean()\n",
    "    personalization_mean = personalization.mean()\n",
    "    lift = (personalization_mean - control_mean)/control_mean\n",
    "    return str(round(100*lift, 2)) + '%'\n",
    "\n",
    "print(f\"Calculated lift: {lift(control = control, personalization = personalization)}\")\n",
    "print(stats.ttest_ind(control, personalization))"
   ]
  },
  {
   "cell_type": "code",
   "execution_count": 134,
   "id": "60ead443",
   "metadata": {},
   "outputs": [
    {
     "data": {
      "text/plain": [
       "True"
      ]
     },
     "execution_count": 134,
     "metadata": {},
     "output_type": "execute_result"
    }
   ],
   "source": [
    "0.006 < 0.05"
   ]
  },
  {
   "cell_type": "code",
   "execution_count": 137,
   "id": "aaf5a2d2",
   "metadata": {},
   "outputs": [],
   "source": [
    "def ab_segmentation(segment):\n",
    "    for subsegment in mktg_df[segment].unique():\n",
    "        print(subsegment)\n",
    "        email_mktg_df = mktg_df[(mktg_df['marketing_channel'] == 'Email') & (mktg_df[segment] == subsegment)]\n",
    "        subscribers_df = (email_mktg_df\n",
    "                              .groupby(by = ['user_id', 'variant'])\n",
    "                              ['converted']\n",
    "                               .max()\n",
    "                               .unstack(level = 1)\n",
    "                         )\n",
    "        control_ser = subscribers_df['control'].dropna()\n",
    "        personalization_ser = subscribers_df['personalization'].dropna()\n",
    "        print(f'lift: {lift(control_ser, personalization_ser)}')\n",
    "        print(f't-test results: {stats.ttest_ind(control_ser, personalization_ser)}', '\\n\\n')"
   ]
  },
  {
   "cell_type": "code",
   "execution_count": 138,
   "id": "02af5146",
   "metadata": {},
   "outputs": [
    {
     "name": "stdout",
     "output_type": "stream",
     "text": [
      "English\n",
      "lift: 39.0%\n",
      "t-test results: Ttest_indResult(statistic=-2.2183598646203166, pvalue=0.026991701290720815) \n",
      "\n",
      "\n",
      "German\n",
      "lift: -1.62%\n",
      "t-test results: Ttest_indResult(statistic=0.1910083418078718, pvalue=0.8494394170062678) \n",
      "\n",
      "\n",
      "Arabic\n",
      "lift: 50.0%\n",
      "t-test results: Ttest_indResult(statistic=-0.5773502691896255, pvalue=0.5795840000000001) \n",
      "\n",
      "\n",
      "Spanish\n",
      "lift: 166.67%\n",
      "t-test results: Ttest_indResult(statistic=-2.3570226039551585, pvalue=0.040156718110477524) \n",
      "\n",
      "\n"
     ]
    }
   ],
   "source": [
    "ab_segmentation('language_displayed')"
   ]
  },
  {
   "cell_type": "code",
   "execution_count": 139,
   "id": "7c4fce2f",
   "metadata": {},
   "outputs": [
    {
     "name": "stdout",
     "output_type": "stream",
     "text": [
      "English\n",
      "lift: 37.09%\n",
      "t-test results: Ttest_indResult(statistic=-2.1368778644306876, pvalue=0.03310554929357251) \n",
      "\n",
      "\n",
      "German\n",
      "lift: -1.62%\n",
      "t-test results: Ttest_indResult(statistic=0.1910083418078718, pvalue=0.8494394170062678) \n",
      "\n",
      "\n",
      "Arabic\n",
      "lift: 50.0%\n",
      "t-test results: Ttest_indResult(statistic=-0.5773502691896255, pvalue=0.5795840000000001) \n",
      "\n",
      "\n",
      "Spanish\n",
      "lift: 250.0%\n",
      "t-test results: Ttest_indResult(statistic=-2.860387767736777, pvalue=0.018768522060029717) \n",
      "\n",
      "\n"
     ]
    }
   ],
   "source": [
    "ab_segmentation('language_preferred')"
   ]
  },
  {
   "cell_type": "code",
   "execution_count": 140,
   "id": "ab251437",
   "metadata": {},
   "outputs": [
    {
     "name": "stdout",
     "output_type": "stream",
     "text": [
      "0-18 years\n",
      "lift: 121.4%\n",
      "t-test results: Ttest_indResult(statistic=-2.966044912142211, pvalue=0.0038724494391297226) \n",
      "\n",
      "\n",
      "19-24 years\n",
      "lift: 106.24%\n",
      "t-test results: Ttest_indResult(statistic=-3.03179438478667, pvalue=0.0030623836114689134) \n",
      "\n",
      "\n",
      "24-30 years\n",
      "lift: 161.19%\n",
      "t-test results: Ttest_indResult(statistic=-3.861539544326876, pvalue=0.00018743381094867335) \n",
      "\n",
      "\n",
      "30-36 years\n",
      "lift: -100.0%\n",
      "t-test results: Ttest_indResult(statistic=3.1859064644147996, pvalue=0.0023238487431765137) \n",
      "\n",
      "\n",
      "36-45 years\n",
      "lift: -85.23%\n",
      "t-test results: Ttest_indResult(statistic=2.4317901279318503, pvalue=0.017975686009788286) \n",
      "\n",
      "\n",
      "45-55 years\n",
      "lift: -72.22%\n",
      "t-test results: Ttest_indResult(statistic=2.065499127317933, pvalue=0.043062339688201196) \n",
      "\n",
      "\n",
      "55+ years\n",
      "lift: -100.0%\n",
      "t-test results: Ttest_indResult(statistic=3.3265654564203397, pvalue=0.0016358623456360435) \n",
      "\n",
      "\n"
     ]
    }
   ],
   "source": [
    "ab_segmentation('age_group')"
   ]
  },
  {
   "cell_type": "markdown",
   "id": "7417ab30",
   "metadata": {},
   "source": [
    "## Regresie si corelatie"
   ]
  },
  {
   "cell_type": "code",
   "execution_count": 142,
   "id": "73d5b34b",
   "metadata": {},
   "outputs": [
    {
     "name": "stdout",
     "output_type": "stream",
     "text": [
      "<class 'pandas.core.frame.DataFrame'>\n",
      "RangeIndex: 32951 entries, 0 to 32950\n",
      "Data columns (total 9 columns):\n",
      " #   Column                      Non-Null Count  Dtype  \n",
      "---  ------                      --------------  -----  \n",
      " 0   product_id                  32951 non-null  int64  \n",
      " 1   product_category_name       32341 non-null  object \n",
      " 2   product_name_lenght         32341 non-null  float64\n",
      " 3   product_description_lenght  32341 non-null  float64\n",
      " 4   product_photos_qty          32341 non-null  float64\n",
      " 5   product_weight_g            32949 non-null  float64\n",
      " 6   product_length_cm           32949 non-null  float64\n",
      " 7   product_height_cm           32949 non-null  float64\n",
      " 8   product_width_cm            32949 non-null  float64\n",
      "dtypes: float64(7), int64(1), object(1)\n",
      "memory usage: 2.3+ MB\n"
     ]
    }
   ],
   "source": [
    "products_df.info()"
   ]
  },
  {
   "cell_type": "code",
   "execution_count": 145,
   "id": "8d43673c",
   "metadata": {},
   "outputs": [],
   "source": [
    "#pret livrare vs greutate comanda\n",
    "orders_cost_weight = (\n",
    "    products_df[['product_id', 'product_weight_g']]\n",
    "    .merge(right = order_items_df[['order_id', 'product_id', 'price', 'freight_value']])\n",
    "    .merge(right = orders_df[['order_id']])\n",
    "    .groupby(by = 'order_id')\n",
    "    .sum()\n",
    "    [['price', 'freight_value', 'product_weight_g']]\n",
    "    .assign(total_cost = lambda df: df['price'] + df['freight_value'])\n",
    "    [['total_cost', 'product_weight_g']]\n",
    "    .rename(columns = {'product_weight_g':'total_weight'})\n",
    ")"
   ]
  },
  {
   "cell_type": "code",
   "execution_count": 146,
   "id": "39a498ab",
   "metadata": {},
   "outputs": [
    {
     "data": {
      "text/html": [
       "<div>\n",
       "<style scoped>\n",
       "    .dataframe tbody tr th:only-of-type {\n",
       "        vertical-align: middle;\n",
       "    }\n",
       "\n",
       "    .dataframe tbody tr th {\n",
       "        vertical-align: top;\n",
       "    }\n",
       "\n",
       "    .dataframe thead th {\n",
       "        text-align: right;\n",
       "    }\n",
       "</style>\n",
       "<table border=\"1\" class=\"dataframe\">\n",
       "  <thead>\n",
       "    <tr style=\"text-align: right;\">\n",
       "      <th></th>\n",
       "      <th>total_cost</th>\n",
       "      <th>total_weight</th>\n",
       "    </tr>\n",
       "    <tr>\n",
       "      <th>order_id</th>\n",
       "      <th></th>\n",
       "      <th></th>\n",
       "    </tr>\n",
       "  </thead>\n",
       "  <tbody>\n",
       "    <tr>\n",
       "      <th>5</th>\n",
       "      <td>109.34</td>\n",
       "      <td>500.0</td>\n",
       "    </tr>\n",
       "    <tr>\n",
       "      <th>6</th>\n",
       "      <td>45.46</td>\n",
       "      <td>300.0</td>\n",
       "    </tr>\n",
       "    <tr>\n",
       "      <th>7</th>\n",
       "      <td>39.09</td>\n",
       "      <td>400.0</td>\n",
       "    </tr>\n",
       "    <tr>\n",
       "      <th>8</th>\n",
       "      <td>35.61</td>\n",
       "      <td>476.0</td>\n",
       "    </tr>\n",
       "    <tr>\n",
       "      <th>9</th>\n",
       "      <td>53.73</td>\n",
       "      <td>767.0</td>\n",
       "    </tr>\n",
       "    <tr>\n",
       "      <th>...</th>\n",
       "      <td>...</td>\n",
       "      <td>...</td>\n",
       "    </tr>\n",
       "    <tr>\n",
       "      <th>99412</th>\n",
       "      <td>510.96</td>\n",
       "      <td>27100.0</td>\n",
       "    </tr>\n",
       "    <tr>\n",
       "      <th>99413</th>\n",
       "      <td>61.29</td>\n",
       "      <td>1614.0</td>\n",
       "    </tr>\n",
       "    <tr>\n",
       "      <th>99414</th>\n",
       "      <td>33.23</td>\n",
       "      <td>450.0</td>\n",
       "    </tr>\n",
       "    <tr>\n",
       "      <th>99415</th>\n",
       "      <td>93.75</td>\n",
       "      <td>450.0</td>\n",
       "    </tr>\n",
       "    <tr>\n",
       "      <th>99422</th>\n",
       "      <td>166.46</td>\n",
       "      <td>10400.0</td>\n",
       "    </tr>\n",
       "  </tbody>\n",
       "</table>\n",
       "<p>93316 rows × 2 columns</p>\n",
       "</div>"
      ],
      "text/plain": [
       "          total_cost  total_weight\n",
       "order_id                          \n",
       "5             109.34         500.0\n",
       "6              45.46         300.0\n",
       "7              39.09         400.0\n",
       "8              35.61         476.0\n",
       "9              53.73         767.0\n",
       "...              ...           ...\n",
       "99412         510.96       27100.0\n",
       "99413          61.29        1614.0\n",
       "99414          33.23         450.0\n",
       "99415          93.75         450.0\n",
       "99422         166.46       10400.0\n",
       "\n",
       "[93316 rows x 2 columns]"
      ]
     },
     "execution_count": 146,
     "metadata": {},
     "output_type": "execute_result"
    }
   ],
   "source": [
    "orders_cost_weight"
   ]
  },
  {
   "cell_type": "code",
   "execution_count": 147,
   "id": "537aa3d1",
   "metadata": {},
   "outputs": [
    {
     "data": {
      "image/png": "[encoded data removed]",
      "text/plain": [
       "<Figure size 1008x432 with 1 Axes>"
      ]
     },
     "metadata": {
      "needs_background": "light"
     },
     "output_type": "display_data"
    }
   ],
   "source": [
    "(fig, ax) = plt.subplots(figsize = (14, 6))\n",
    "ax = sns.scatterplot(\n",
    "                     x = orders_cost_weight['total_weight'], \n",
    "                     y = orders_cost_weight['total_cost']\n",
    "                    )\n",
    "plt.show()"
   ]
  },
  {
   "cell_type": "code",
   "execution_count": 162,
   "id": "1b6dd187",
   "metadata": {},
   "outputs": [
    {
     "data": {
      "text/plain": [
       "159.59010105448155"
      ]
     },
     "execution_count": 162,
     "metadata": {},
     "output_type": "execute_result"
    }
   ],
   "source": [
    "orders_cost_weight['total_cost'].mean()"
   ]
  },
  {
   "cell_type": "code",
   "execution_count": 161,
   "id": "111585a2",
   "metadata": {},
   "outputs": [
    {
     "data": {
      "image/png": "[encoded data removed]",
      "text/plain": [
       "<Figure size 1008x432 with 1 Axes>"
      ]
     },
     "metadata": {
      "needs_background": "light"
     },
     "output_type": "display_data"
    }
   ],
   "source": [
    "(fig, ax) = plt.subplots(figsize = (14, 6))\n",
    "ax = sns.regplot(\n",
    "                     x = orders_cost_weight['total_weight'], \n",
    "                     y = orders_cost_weight['total_cost']                \n",
    "                    )\n",
    "ax.axhline(orders_cost_weight['total_cost'].mean())\n",
    "plt.show()"
   ]
  },
  {
   "cell_type": "code",
   "execution_count": 151,
   "id": "4e309891",
   "metadata": {},
   "outputs": [],
   "source": [
    "(slope, intercept, rvalue, pvalue, stderr) = stats.linregress( x = orders_cost_weight['total_weight'], \n",
    "                                                               y = orders_cost_weight['total_cost'] \n",
    "                                                                )"
   ]
  },
  {
   "cell_type": "code",
   "execution_count": 152,
   "id": "23905fed",
   "metadata": {},
   "outputs": [
    {
     "data": {
      "text/plain": [
       "0.018197116262817333"
      ]
     },
     "execution_count": 152,
     "metadata": {},
     "output_type": "execute_result"
    }
   ],
   "source": [
    "slope"
   ]
  },
  {
   "cell_type": "code",
   "execution_count": 153,
   "id": "672eda96",
   "metadata": {},
   "outputs": [
    {
     "data": {
      "text/plain": [
       "116.33983723452872"
      ]
     },
     "execution_count": 153,
     "metadata": {},
     "output_type": "execute_result"
    }
   ],
   "source": [
    "intercept"
   ]
  },
  {
   "cell_type": "code",
   "execution_count": 154,
   "id": "535f56b5",
   "metadata": {},
   "outputs": [],
   "source": [
    "r = stats.pearsonr(x = orders_cost_weight['total_weight'],\n",
    "                   y = orders_cost_weight['total_cost']\n",
    "                   )"
   ]
  },
  {
   "cell_type": "code",
   "execution_count": 156,
   "id": "b077e26f",
   "metadata": {},
   "outputs": [
    {
     "data": {
      "text/plain": [
       "0.3922810556867709"
      ]
     },
     "execution_count": 156,
     "metadata": {},
     "output_type": "execute_result"
    }
   ],
   "source": [
    "r[0]"
   ]
  },
  {
   "cell_type": "code",
   "execution_count": 157,
   "id": "ee4c7e25",
   "metadata": {},
   "outputs": [
    {
     "data": {
      "text/plain": [
       "0.39228105568677"
      ]
     },
     "execution_count": 157,
     "metadata": {},
     "output_type": "execute_result"
    }
   ],
   "source": [
    "rvalue"
   ]
  },
  {
   "cell_type": "code",
   "execution_count": 158,
   "id": "6bef9a7b",
   "metadata": {},
   "outputs": [],
   "source": [
    "orders_cost_weight['cost_prediction'] = slope * orders_cost_weight['total_weight'] + intercept\n",
    "orders_cost_weight['residuals'] = orders_cost_weight['total_cost'] - orders_cost_weight['cost_prediction']"
   ]
  },
  {
   "cell_type": "code",
   "execution_count": 159,
   "id": "b27712ef",
   "metadata": {},
   "outputs": [
    {
     "data": {
      "text/plain": [
       "order_id\n",
       "5        -16.098395\n",
       "6        -76.338972\n",
       "7        -84.528684\n",
       "8        -89.391665\n",
       "9        -76.567025\n",
       "            ...    \n",
       "99412    -98.521688\n",
       "99413    -84.419983\n",
       "99414    -91.298540\n",
       "99415    -30.778540\n",
       "99422   -139.129846\n",
       "Name: residuals, Length: 93316, dtype: float64"
      ]
     },
     "execution_count": 159,
     "metadata": {},
     "output_type": "execute_result"
    }
   ],
   "source": [
    "orders_cost_weight['residuals']"
   ]
  },
  {
   "cell_type": "code",
   "execution_count": 163,
   "id": "df256023",
   "metadata": {},
   "outputs": [
    {
     "data": {
      "text/plain": [
       "0.15388442665072746"
      ]
     },
     "execution_count": 163,
     "metadata": {},
     "output_type": "execute_result"
    }
   ],
   "source": [
    "r[0]**2"
   ]
  },
  {
   "cell_type": "code",
   "execution_count": 164,
   "id": "4bd83d33",
   "metadata": {},
   "outputs": [
    {
     "data": {
      "text/plain": [
       "202.42326300345405"
      ]
     },
     "execution_count": 164,
     "metadata": {},
     "output_type": "execute_result"
    }
   ],
   "source": [
    "rmse = (\n",
    "            (\n",
    "                (\n",
    "                    orders_cost_weight['cost_prediction'] - orders_cost_weight['total_cost']\n",
    "                 )**2\n",
    "            ).mean()\n",
    "        )**0.5"
   ]
  },
  {
   "cell_type": "code",
   "execution_count": null,
   "id": "0cc3d0cf",
   "metadata": {},
   "outputs": [],
   "source": []
  }
 ],
 "metadata": {
  "kernelspec": {
   "display_name": "Python 3 (ipykernel)",
   "language": "python",
   "name": "python3"
  },
  "language_info": {
   "codemirror_mode": {
    "name": "ipython",
    "version": 3
   },
   "file_extension": ".py",
   "mimetype": "text/x-python",
   "name": "python",
   "nbconvert_exporter": "python",
   "pygments_lexer": "ipython3",
   "version": "3.9.7"
  }
 },
 "nbformat": 4,
 "nbformat_minor": 5
}
