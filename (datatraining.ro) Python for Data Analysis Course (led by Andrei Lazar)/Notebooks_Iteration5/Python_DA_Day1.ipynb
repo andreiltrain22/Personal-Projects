{
 "cells": [
  {
   "cell_type": "code",
   "execution_count": 2,
   "id": "f602f966",
   "metadata": {
    "scrolled": true
   },
   "outputs": [
    {
     "data": {
      "text/plain": [
       "2"
      ]
     },
     "execution_count": 2,
     "metadata": {},
     "output_type": "execute_result"
    }
   ],
   "source": [
    "1+2\n",
    "1+1"
   ]
  },
  {
   "cell_type": "markdown",
   "id": "bb54b170",
   "metadata": {},
   "source": [
    "## Introducere in Python"
   ]
  },
  {
   "cell_type": "markdown",
   "id": "b14f6e5e",
   "metadata": {},
   "source": [
    "Text __bold__"
   ]
  },
  {
   "cell_type": "markdown",
   "id": "a7110c90",
   "metadata": {},
   "source": [
    "Text *italic*"
   ]
  },
  {
   "cell_type": "markdown",
   "id": "25420ccd",
   "metadata": {},
   "source": [
    "Text __*italic si bold*__"
   ]
  },
  {
   "cell_type": "markdown",
   "id": "7cae7ecf",
   "metadata": {},
   "source": [
    "Lista ordonata:\n",
    "1. element 1\n",
    "2. element 2\n",
    "3. element 3"
   ]
  },
  {
   "cell_type": "markdown",
   "id": "d231bcfd",
   "metadata": {},
   "source": [
    "Lista neordonata:\n",
    "* element1\n",
    "* element2\n",
    "* element3"
   ]
  },
  {
   "cell_type": "markdown",
   "id": "defef81b",
   "metadata": {},
   "source": [
    "Ex: Calculul valorii viitoare (pe o perioada): Valoarea prezenta este de 100 RON si se doreste a fi depusa intr-un\n",
    "cont de economii, pentru un an, la o rata a dobanzii de 3%. Care va fi valoarea dobandita dupa un an, in aceste\n",
    "conditii?"
   ]
  },
  {
   "cell_type": "code",
   "execution_count": 4,
   "id": "f3fb4538",
   "metadata": {},
   "outputs": [
    {
     "data": {
      "text/plain": [
       "103.0"
      ]
     },
     "execution_count": 4,
     "metadata": {},
     "output_type": "execute_result"
    }
   ],
   "source": [
    "100 * 1.03"
   ]
  },
  {
   "cell_type": "code",
   "execution_count": 6,
   "id": "a067220d",
   "metadata": {},
   "outputs": [
    {
     "data": {
      "text/plain": [
       "103.0"
      ]
     },
     "execution_count": 6,
     "metadata": {},
     "output_type": "execute_result"
    }
   ],
   "source": [
    "100 + 100 * 0.03"
   ]
  },
  {
   "cell_type": "code",
   "execution_count": 7,
   "id": "85f337c0",
   "metadata": {},
   "outputs": [
    {
     "data": {
      "text/plain": [
       "103.0"
      ]
     },
     "execution_count": 7,
     "metadata": {},
     "output_type": "execute_result"
    }
   ],
   "source": [
    "100 * (1 + 0.03)"
   ]
  },
  {
   "cell_type": "markdown",
   "id": "b4bb3600",
   "metadata": {},
   "source": [
    "Ex: Calculul valorii viitoare (pe mai multe perioade): Valoarea prezenta este de 100 RON si se doreste a fi depusa\n",
    "intr-un cont de economii, pe 3 ani, la o rata a dobanzii de 3%. Care va fi valoarea dobandita dupa 3 ani, in aceste\n",
    "conditii?"
   ]
  },
  {
   "cell_type": "code",
   "execution_count": 8,
   "id": "7c456b4e",
   "metadata": {},
   "outputs": [
    {
     "data": {
      "text/plain": [
       "109.2727"
      ]
     },
     "execution_count": 8,
     "metadata": {},
     "output_type": "execute_result"
    }
   ],
   "source": [
    "100 * 1.03 * 1.03 * 1.03"
   ]
  },
  {
   "cell_type": "code",
   "execution_count": 9,
   "id": "6b5c5e3b",
   "metadata": {},
   "outputs": [
    {
     "data": {
      "text/plain": [
       "109.2727"
      ]
     },
     "execution_count": 9,
     "metadata": {},
     "output_type": "execute_result"
    }
   ],
   "source": [
    "100 * 1.03 ** 3"
   ]
  },
  {
   "cell_type": "markdown",
   "id": "beef3c2d",
   "metadata": {},
   "source": [
    "## Variabile"
   ]
  },
  {
   "cell_type": "code",
   "execution_count": null,
   "id": "3ac6cf1d",
   "metadata": {},
   "outputs": [],
   "source": [
    "valoare_prezenta #snake case\n",
    "ValoarePrezenta  #Pascal case\n",
    "valoarePrezenta  #camel case"
   ]
  },
  {
   "cell_type": "code",
   "execution_count": null,
   "id": "5fd6e278",
   "metadata": {},
   "outputs": [],
   "source": [
    "_val_prez"
   ]
  },
  {
   "cell_type": "code",
   "execution_count": 16,
   "id": "c64ec4ac",
   "metadata": {},
   "outputs": [
    {
     "data": {
      "text/plain": [
       "109.2727"
      ]
     },
     "execution_count": 16,
     "metadata": {},
     "output_type": "execute_result"
    }
   ],
   "source": [
    "valoare_prezenta = 100\n",
    "rata_dobanda = 0.03\n",
    "durata = 3\n",
    "valoare_viitoare = valoare_prezenta * (1 + rata_dobanda) ** durata\n",
    "valoare_viitoare"
   ]
  },
  {
   "cell_type": "code",
   "execution_count": null,
   "id": "0bd3052c",
   "metadata": {},
   "outputs": [],
   "source": [
    "#Pas1: Creare obiect de tip integer, 200 la o adresa de memorie\n",
    "#Pas2: Alocarea unei variabile, valoare_prezenta catre acea adresa de memorie"
   ]
  },
  {
   "cell_type": "code",
   "execution_count": 13,
   "id": "fa26b2f2",
   "metadata": {},
   "outputs": [
    {
     "data": {
      "text/plain": [
       "2718799913616"
      ]
     },
     "execution_count": 13,
     "metadata": {},
     "output_type": "execute_result"
    }
   ],
   "source": [
    "id(valoare_prezenta)"
   ]
  },
  {
   "cell_type": "code",
   "execution_count": 14,
   "id": "d765bd7d",
   "metadata": {},
   "outputs": [
    {
     "data": {
      "text/plain": [
       "int"
      ]
     },
     "execution_count": 14,
     "metadata": {},
     "output_type": "execute_result"
    }
   ],
   "source": [
    "type(valoare_prezenta)"
   ]
  },
  {
   "cell_type": "code",
   "execution_count": 17,
   "id": "67a367dc",
   "metadata": {},
   "outputs": [],
   "source": [
    "comutator = 'ON'"
   ]
  },
  {
   "cell_type": "code",
   "execution_count": 18,
   "id": "997a335a",
   "metadata": {},
   "outputs": [
    {
     "data": {
      "text/plain": [
       "'ON'"
      ]
     },
     "execution_count": 18,
     "metadata": {},
     "output_type": "execute_result"
    }
   ],
   "source": [
    "comutator"
   ]
  },
  {
   "cell_type": "code",
   "execution_count": 19,
   "id": "58c12588",
   "metadata": {},
   "outputs": [
    {
     "data": {
      "text/plain": [
       "'OFF'"
      ]
     },
     "execution_count": 19,
     "metadata": {},
     "output_type": "execute_result"
    }
   ],
   "source": [
    "comutator = 'OFF'\n",
    "comutator"
   ]
  },
  {
   "cell_type": "markdown",
   "id": "ce782522",
   "metadata": {},
   "source": [
    "### Functia print()"
   ]
  },
  {
   "cell_type": "code",
   "execution_count": 20,
   "id": "5ee5a569",
   "metadata": {},
   "outputs": [
    {
     "data": {
      "text/plain": [
       "0.15999999999999992"
      ]
     },
     "execution_count": 20,
     "metadata": {},
     "output_type": "execute_result"
    }
   ],
   "source": [
    "56/50 - 1\n",
    "(56 + 2)/50 - 1"
   ]
  },
  {
   "cell_type": "code",
   "execution_count": 22,
   "id": "da662422",
   "metadata": {},
   "outputs": [
    {
     "name": "stdout",
     "output_type": "stream",
     "text": [
      "0.1200000000000001\n",
      "0.15999999999999992\n"
     ]
    }
   ],
   "source": [
    "print(56/50 - 1, (56+2)/50 - 1, sep = '\\n') #Shift+Tab intre paranteze pt a consulta docstring"
   ]
  },
  {
   "cell_type": "markdown",
   "id": "3a5c5fd0",
   "metadata": {},
   "source": [
    "Ex.: Calculul valorii prezente (pe mai multe perioade): cati RON trebuie sa avem economisiti astazi, pentru\n",
    "a obtine 110 RON dupa 3 ani, la o dobanda de 4.5% pe an? Stocati rezultatul intr-o variabila si afisati rezultatul\n",
    "folosind functia print."
   ]
  },
  {
   "cell_type": "code",
   "execution_count": 24,
   "id": "7f7ff364",
   "metadata": {},
   "outputs": [
    {
     "name": "stdout",
     "output_type": "stream",
     "text": [
      "Valoarea prezenta depusa trebuie sa fie:  96.39262644604003 RON\n"
     ]
    }
   ],
   "source": [
    "# VV = VP * (1+d) ** n -> VP = VV/(1+d) ** n\n",
    "valoare_viitoare = 110\n",
    "rata_dobanda = 0.045\n",
    "durata = 3\n",
    "\n",
    "valoare_prezenta = valoare_viitoare / (1 + rata_dobanda) ** durata\n",
    "print(\"Valoarea prezenta depusa trebuie sa fie: \", valoare_prezenta, \"RON\")"
   ]
  },
  {
   "cell_type": "code",
   "execution_count": 26,
   "id": "266e528c",
   "metadata": {},
   "outputs": [
    {
     "ename": "SyntaxError",
     "evalue": "invalid syntax (Temp/ipykernel_16960/1832449869.py, line 1)",
     "output_type": "error",
     "traceback": [
      "\u001b[1;36m  File \u001b[1;32m\"C:\\Users\\anlazar\\AppData\\Local\\Temp/ipykernel_16960/1832449869.py\"\u001b[1;36m, line \u001b[1;32m1\u001b[0m\n\u001b[1;33m    'We'll rock you'\u001b[0m\n\u001b[1;37m        ^\u001b[0m\n\u001b[1;31mSyntaxError\u001b[0m\u001b[1;31m:\u001b[0m invalid syntax\n"
     ]
    }
   ],
   "source": [
    "'We'll rock you'\n",
    "\"We'll rock you\"\n",
    "'We\\'ll rock you' #escape character\n",
    "r'We'll rock you'"
   ]
  },
  {
   "cell_type": "markdown",
   "id": "4c34f8a3",
   "metadata": {},
   "source": [
    "## Structuri de date: numerice (int, float), text (string), boolean"
   ]
  },
  {
   "cell_type": "code",
   "execution_count": 27,
   "id": "4e99c39a",
   "metadata": {},
   "outputs": [],
   "source": [
    "vanzari = 656\n",
    "tva = 0.19\n",
    "companie = 'Microsoft'\n",
    "status = True"
   ]
  },
  {
   "cell_type": "code",
   "execution_count": 28,
   "id": "5854f69c",
   "metadata": {},
   "outputs": [
    {
     "name": "stdout",
     "output_type": "stream",
     "text": [
      "Tipul variabilei sales:  <class 'int'> \n",
      " Tipul variabilei tva:  <class 'float'> \n",
      " Tipul variabilei companie:  <class 'str'> \n",
      " Tipul variabilei status:  <class 'bool'>\n"
     ]
    }
   ],
   "source": [
    "print('Tipul variabilei sales: ', type(vanzari), '\\n',\n",
    "      'Tipul variabilei tva: ', type(tva), '\\n',\n",
    "      'Tipul variabilei companie: ', type(companie), '\\n',\n",
    "      'Tipul variabilei status: ', type(status)\n",
    "      )"
   ]
  },
  {
   "cell_type": "code",
   "execution_count": 33,
   "id": "407ba43c",
   "metadata": {},
   "outputs": [
    {
     "data": {
      "text/plain": [
       "125"
      ]
     },
     "execution_count": 33,
     "metadata": {},
     "output_type": "execute_result"
    }
   ],
   "source": [
    "round(vanzari * tva)"
   ]
  },
  {
   "cell_type": "code",
   "execution_count": 35,
   "id": "3e9d5bd0",
   "metadata": {},
   "outputs": [],
   "source": [
    "an_2010 = 12127\n",
    "an_2011 = 13788\n",
    "an_2012 = 11800"
   ]
  },
  {
   "cell_type": "code",
   "execution_count": 36,
   "id": "d0d58a69",
   "metadata": {},
   "outputs": [
    {
     "name": "stdout",
     "output_type": "stream",
     "text": [
      "Totalul vanzarilor pe cei 3 ani este:  37715 \n",
      " Profitul in urma vanzarilor pe cei 3 ani este:  4526.0\n"
     ]
    }
   ],
   "source": [
    "total_vanzari = an_2010 + an_2011 + an_2012\n",
    "profit = round(0.12 * total_vanzari, 0)\n",
    "print(\"Totalul vanzarilor pe cei 3 ani este: \", total_vanzari, '\\n',\n",
    "      \"Profitul in urma vanzarilor pe cei 3 ani este: \", profit)"
   ]
  },
  {
   "cell_type": "markdown",
   "id": "c0ca360d",
   "metadata": {},
   "source": [
    "### Operatii cu siruri de caractere"
   ]
  },
  {
   "cell_type": "markdown",
   "id": "141801a8",
   "metadata": {},
   "source": [
    "Ex: Se cunoaste urmatorul cod de produs: N031200FRANTA. Sa se extraga:\n",
    "- Grupa produsului: primele 3 caractere\n",
    "- Id Produs: 1200\n",
    "- Tara in care a fost fabricat produsul: FRANTA"
   ]
  },
  {
   "cell_type": "code",
   "execution_count": 37,
   "id": "e1d4a1d6",
   "metadata": {},
   "outputs": [],
   "source": [
    "produs = 'N031200FRANTA'"
   ]
  },
  {
   "cell_type": "code",
   "execution_count": 39,
   "id": "87355bdd",
   "metadata": {},
   "outputs": [
    {
     "data": {
      "text/plain": [
       "str"
      ]
     },
     "execution_count": 39,
     "metadata": {},
     "output_type": "execute_result"
    }
   ],
   "source": [
    "type(produs[0])"
   ]
  },
  {
   "cell_type": "code",
   "execution_count": 75,
   "id": "3d88c1ec",
   "metadata": {},
   "outputs": [
    {
     "data": {
      "text/plain": [
       "'N'"
      ]
     },
     "execution_count": 75,
     "metadata": {},
     "output_type": "execute_result"
    }
   ],
   "source": [
    "produs[0]"
   ]
  },
  {
   "cell_type": "code",
   "execution_count": 40,
   "id": "524beeaf",
   "metadata": {},
   "outputs": [
    {
     "data": {
      "text/plain": [
       "'0'"
      ]
     },
     "execution_count": 40,
     "metadata": {},
     "output_type": "execute_result"
    }
   ],
   "source": [
    "produs[1]"
   ]
  },
  {
   "cell_type": "code",
   "execution_count": 41,
   "id": "02e64fe7",
   "metadata": {},
   "outputs": [
    {
     "data": {
      "text/plain": [
       "'A'"
      ]
     },
     "execution_count": 41,
     "metadata": {},
     "output_type": "execute_result"
    }
   ],
   "source": [
    "produs[-1]"
   ]
  },
  {
   "cell_type": "code",
   "execution_count": 42,
   "id": "dd44e98c",
   "metadata": {},
   "outputs": [
    {
     "data": {
      "text/plain": [
       "'N03'"
      ]
     },
     "execution_count": 42,
     "metadata": {},
     "output_type": "execute_result"
    }
   ],
   "source": [
    "produs[0:3] #inclusiv pozitia 0, exclusiv pozitia 3"
   ]
  },
  {
   "cell_type": "code",
   "execution_count": 48,
   "id": "fb2aa849",
   "metadata": {},
   "outputs": [
    {
     "data": {
      "text/plain": [
       "'N03'"
      ]
     },
     "execution_count": 48,
     "metadata": {},
     "output_type": "execute_result"
    }
   ],
   "source": [
    "grupa_produs = produs[:3]\n",
    "grupa_produs"
   ]
  },
  {
   "cell_type": "code",
   "execution_count": 45,
   "id": "7f5b63fd",
   "metadata": {},
   "outputs": [
    {
     "data": {
      "text/plain": [
       "'1200'"
      ]
     },
     "execution_count": 45,
     "metadata": {},
     "output_type": "execute_result"
    }
   ],
   "source": [
    "id_produs = produs[3:7]\n",
    "id_produs"
   ]
  },
  {
   "cell_type": "code",
   "execution_count": 47,
   "id": "35b86639",
   "metadata": {},
   "outputs": [
    {
     "data": {
      "text/plain": [
       "'FRANTA'"
      ]
     },
     "execution_count": 47,
     "metadata": {},
     "output_type": "execute_result"
    }
   ],
   "source": [
    "tara_produs = produs[7:]\n",
    "tara_produs"
   ]
  },
  {
   "cell_type": "code",
   "execution_count": 49,
   "id": "93b9be77",
   "metadata": {},
   "outputs": [
    {
     "data": {
      "text/plain": [
       "'FRANTA'"
      ]
     },
     "execution_count": 49,
     "metadata": {},
     "output_type": "execute_result"
    }
   ],
   "source": [
    "tara_produs = produs[-6:]\n",
    "tara_produs"
   ]
  },
  {
   "cell_type": "code",
   "execution_count": 50,
   "id": "3de74a2d",
   "metadata": {},
   "outputs": [
    {
     "name": "stdout",
     "output_type": "stream",
     "text": [
      "Lungime id produs:  4\n"
     ]
    }
   ],
   "source": [
    "print(\"Lungime id produs: \", len(id_produs))"
   ]
  },
  {
   "cell_type": "code",
   "execution_count": 51,
   "id": "1fa36461",
   "metadata": {},
   "outputs": [
    {
     "name": "stdout",
     "output_type": "stream",
     "text": [
      "Tara produs:  Franta\n"
     ]
    }
   ],
   "source": [
    "print(\"Tara produs: \", tara_produs.title())"
   ]
  },
  {
   "cell_type": "code",
   "execution_count": 52,
   "id": "8e2d7bde",
   "metadata": {},
   "outputs": [
    {
     "data": {
      "text/plain": [
       "<function str.count>"
      ]
     },
     "execution_count": 52,
     "metadata": {},
     "output_type": "execute_result"
    }
   ],
   "source": [
    "tara_produs."
   ]
  },
  {
   "cell_type": "code",
   "execution_count": null,
   "id": "c552f2a6",
   "metadata": {},
   "outputs": [],
   "source": [
    "functie(obiect) #functie(variabila)\n",
    "obiect.metoda()\n",
    "obiect.atribut"
   ]
  },
  {
   "cell_type": "code",
   "execution_count": 53,
   "id": "47645cea",
   "metadata": {},
   "outputs": [
    {
     "data": {
      "text/plain": [
       "'franta'"
      ]
     },
     "execution_count": 53,
     "metadata": {},
     "output_type": "execute_result"
    }
   ],
   "source": [
    "tara_produs.lower()"
   ]
  },
  {
   "cell_type": "code",
   "execution_count": 54,
   "id": "9565b619",
   "metadata": {},
   "outputs": [
    {
     "name": "stdout",
     "output_type": "stream",
     "text": [
      "Produsul din categoria N03, cu id-ul 1200 a fost fabricat in tara FRANTA\n"
     ]
    }
   ],
   "source": [
    "(\n",
    " print(\"Produsul din categoria {x}, cu id-ul {y} a fost fabricat in tara {z}\"\n",
    "        .format(x=grupa_produs, y=id_produs, z=tara_produs))\n",
    ")"
   ]
  },
  {
   "cell_type": "code",
   "execution_count": 65,
   "id": "b749c8f3",
   "metadata": {},
   "outputs": [
    {
     "name": "stdout",
     "output_type": "stream",
     "text": [
      "Produsul din grupa N03, cu id-ul 1200, a fost fabricat in FRANTA\n"
     ]
    }
   ],
   "source": [
    "print(\"Produsul din grupa \", \n",
    "      grupa_produs, \n",
    "      \", cu id-ul \", \n",
    "      id_produs, \n",
    "      \", a fost fabricat in \", \n",
    "      tara_produs, \n",
    "      sep = '')"
   ]
  },
  {
   "cell_type": "code",
   "execution_count": 68,
   "id": "783eb4f5",
   "metadata": {
    "scrolled": true
   },
   "outputs": [
    {
     "name": "stdout",
     "output_type": "stream",
     "text": [
      "\n",
      "        Produsul din categoria N03, \n",
      "        cu id-ul 1200 \n",
      "        a fost fabricat in tara FRANTA\n"
     ]
    }
   ],
   "source": [
    "(\n",
    " print(f'''\n",
    "        Produsul din categoria {grupa_produs}, \n",
    "        cu id-ul {id_produs} \n",
    "        a fost fabricat in tara {tara_produs}''')\n",
    ")"
   ]
  },
  {
   "cell_type": "code",
   "execution_count": 69,
   "id": "48c5043e",
   "metadata": {},
   "outputs": [],
   "source": [
    "an_2010 = 12000\n",
    "an_2011 = 13000\n",
    "an_2012 = 11800"
   ]
  },
  {
   "cell_type": "code",
   "execution_count": 70,
   "id": "2734fe15",
   "metadata": {},
   "outputs": [
    {
     "data": {
      "text/plain": [
       "False"
      ]
     },
     "execution_count": 70,
     "metadata": {},
     "output_type": "execute_result"
    }
   ],
   "source": [
    "an_2012 > an_2011"
   ]
  },
  {
   "cell_type": "code",
   "execution_count": 71,
   "id": "0146823d",
   "metadata": {},
   "outputs": [
    {
     "data": {
      "text/plain": [
       "True"
      ]
     },
     "execution_count": 71,
     "metadata": {},
     "output_type": "execute_result"
    }
   ],
   "source": [
    "(an_2010 > 10000) and (an_2011 > 10000) and (an_2012 > 10000)"
   ]
  },
  {
   "cell_type": "code",
   "execution_count": 72,
   "id": "365f766f",
   "metadata": {},
   "outputs": [
    {
     "data": {
      "text/plain": [
       "True"
      ]
     },
     "execution_count": 72,
     "metadata": {},
     "output_type": "execute_result"
    }
   ],
   "source": [
    "(an_2010 > 12000) or (an_2011 > 12000) or (an_2012 > 12000)"
   ]
  },
  {
   "cell_type": "markdown",
   "id": "4084331e",
   "metadata": {},
   "source": [
    "## Liste"
   ]
  },
  {
   "cell_type": "code",
   "execution_count": 73,
   "id": "1734f9b3",
   "metadata": {},
   "outputs": [],
   "source": [
    "preturi = [100, 10, 20, 50, 30, 25]"
   ]
  },
  {
   "cell_type": "code",
   "execution_count": 74,
   "id": "5281ab75",
   "metadata": {},
   "outputs": [
    {
     "data": {
      "text/plain": [
       "100"
      ]
     },
     "execution_count": 74,
     "metadata": {},
     "output_type": "execute_result"
    }
   ],
   "source": [
    "preturi[0]"
   ]
  },
  {
   "cell_type": "code",
   "execution_count": 76,
   "id": "7495af92",
   "metadata": {},
   "outputs": [
    {
     "data": {
      "text/plain": [
       "25"
      ]
     },
     "execution_count": 76,
     "metadata": {},
     "output_type": "execute_result"
    }
   ],
   "source": [
    "preturi[-1]"
   ]
  },
  {
   "cell_type": "code",
   "execution_count": 77,
   "id": "9a096929",
   "metadata": {},
   "outputs": [
    {
     "data": {
      "text/plain": [
       "[100, 10, 20]"
      ]
     },
     "execution_count": 77,
     "metadata": {},
     "output_type": "execute_result"
    }
   ],
   "source": [
    "preturi[:3]"
   ]
  },
  {
   "cell_type": "markdown",
   "id": "1a9e421e",
   "metadata": {},
   "source": [
    "### Parcurgere liste cu bucle for"
   ]
  },
  {
   "cell_type": "code",
   "execution_count": null,
   "id": "3592a7a4",
   "metadata": {},
   "outputs": [],
   "source": [
    "for variabila in secventa:\n",
    "    operatie(variabila)"
   ]
  },
  {
   "cell_type": "code",
   "execution_count": 78,
   "id": "78f09ffd",
   "metadata": {},
   "outputs": [
    {
     "name": "stdout",
     "output_type": "stream",
     "text": [
      "100\n",
      "10\n",
      "20\n",
      "50\n",
      "30\n",
      "25\n"
     ]
    }
   ],
   "source": [
    "for pret in preturi:\n",
    "    print(pret)"
   ]
  },
  {
   "cell_type": "code",
   "execution_count": 79,
   "id": "3fdb5781",
   "metadata": {},
   "outputs": [
    {
     "data": {
      "text/plain": [
       "6"
      ]
     },
     "execution_count": 79,
     "metadata": {},
     "output_type": "execute_result"
    }
   ],
   "source": [
    "len(preturi)"
   ]
  },
  {
   "cell_type": "code",
   "execution_count": 82,
   "id": "46cffaaa",
   "metadata": {},
   "outputs": [
    {
     "name": "stdout",
     "output_type": "stream",
     "text": [
      "235\n"
     ]
    }
   ],
   "source": [
    "total = 0\n",
    "for pret in preturi:\n",
    "    total = total + pret\n",
    "    #print(total)\n",
    "print(total)"
   ]
  },
  {
   "cell_type": "code",
   "execution_count": 81,
   "id": "c7d6b918",
   "metadata": {
    "scrolled": true
   },
   "outputs": [
    {
     "data": {
      "text/plain": [
       "235"
      ]
     },
     "execution_count": 81,
     "metadata": {},
     "output_type": "execute_result"
    }
   ],
   "source": [
    "sum(preturi)"
   ]
  },
  {
   "cell_type": "code",
   "execution_count": 84,
   "id": "77ccd5e5",
   "metadata": {},
   "outputs": [
    {
     "ename": "TypeError",
     "evalue": "unsupported operand type(s) for /: 'list' and 'float'",
     "output_type": "error",
     "traceback": [
      "\u001b[1;31m---------------------------------------------------------------------------\u001b[0m",
      "\u001b[1;31mTypeError\u001b[0m                                 Traceback (most recent call last)",
      "\u001b[1;32m~\\AppData\\Local\\Temp/ipykernel_16960/35339380.py\u001b[0m in \u001b[0;36m<module>\u001b[1;34m\u001b[0m\n\u001b[1;32m----> 1\u001b[1;33m \u001b[0mpreturi\u001b[0m \u001b[1;33m/\u001b[0m \u001b[1;36m4.98\u001b[0m\u001b[1;33m\u001b[0m\u001b[1;33m\u001b[0m\u001b[0m\n\u001b[0m",
      "\u001b[1;31mTypeError\u001b[0m: unsupported operand type(s) for /: 'list' and 'float'"
     ]
    }
   ],
   "source": [
    "preturi / 4.98"
   ]
  },
  {
   "cell_type": "code",
   "execution_count": 86,
   "id": "c757315f",
   "metadata": {},
   "outputs": [
    {
     "data": {
      "text/plain": [
       "[20.08032128514056,\n",
       " 2.008032128514056,\n",
       " 4.016064257028112,\n",
       " 10.04016064257028,\n",
       " 6.024096385542168,\n",
       " 5.02008032128514]"
      ]
     },
     "execution_count": 86,
     "metadata": {},
     "output_type": "execute_result"
    }
   ],
   "source": [
    "rata_conversie = 4.98\n",
    "preturi_eur = []\n",
    "for pret in preturi:\n",
    "    preturi_eur.append(pret/rata_conversie)\n",
    "preturi_eur"
   ]
  },
  {
   "cell_type": "code",
   "execution_count": null,
   "id": "15374e9c",
   "metadata": {},
   "outputs": [],
   "source": [
    "#list comprehension\n",
    "[operatie for variabila in secventa]"
   ]
  },
  {
   "cell_type": "code",
   "execution_count": 87,
   "id": "9ee5ce9f",
   "metadata": {},
   "outputs": [
    {
     "data": {
      "text/plain": [
       "[20.08032128514056,\n",
       " 2.008032128514056,\n",
       " 4.016064257028112,\n",
       " 10.04016064257028,\n",
       " 6.024096385542168,\n",
       " 5.02008032128514]"
      ]
     },
     "execution_count": 87,
     "metadata": {},
     "output_type": "execute_result"
    }
   ],
   "source": [
    "preturi_eur = [pret/rata_conversie for pret in preturi]\n",
    "preturi_eur"
   ]
  },
  {
   "cell_type": "code",
   "execution_count": 88,
   "id": "ae4422d4",
   "metadata": {},
   "outputs": [
    {
     "name": "stdout",
     "output_type": "stream",
     "text": [
      "[100, 10, 20, 50, 30, 25]\n"
     ]
    }
   ],
   "source": [
    "print(preturi)"
   ]
  },
  {
   "cell_type": "markdown",
   "id": "af4e88fa",
   "metadata": {},
   "source": [
    "### Functii predefinite utilizate in lucrul cu liste"
   ]
  },
  {
   "cell_type": "code",
   "execution_count": null,
   "id": "03b7dda4",
   "metadata": {},
   "outputs": [],
   "source": [
    "min, max"
   ]
  },
  {
   "cell_type": "code",
   "execution_count": 89,
   "id": "5013b6db",
   "metadata": {},
   "outputs": [
    {
     "data": {
      "text/plain": [
       "10"
      ]
     },
     "execution_count": 89,
     "metadata": {},
     "output_type": "execute_result"
    }
   ],
   "source": [
    "min(preturi)"
   ]
  },
  {
   "cell_type": "code",
   "execution_count": 90,
   "id": "a8eeba7d",
   "metadata": {},
   "outputs": [
    {
     "data": {
      "text/plain": [
       "100"
      ]
     },
     "execution_count": 90,
     "metadata": {},
     "output_type": "execute_result"
    }
   ],
   "source": [
    "max(preturi)"
   ]
  },
  {
   "cell_type": "code",
   "execution_count": 91,
   "id": "56028092",
   "metadata": {},
   "outputs": [
    {
     "data": {
      "text/plain": [
       "'t'"
      ]
     },
     "execution_count": 91,
     "metadata": {},
     "output_type": "execute_result"
    }
   ],
   "source": [
    "max('Microsoft')"
   ]
  },
  {
   "cell_type": "code",
   "execution_count": 92,
   "id": "92d5ba4e",
   "metadata": {},
   "outputs": [
    {
     "data": {
      "text/plain": [
       "6"
      ]
     },
     "execution_count": 92,
     "metadata": {},
     "output_type": "execute_result"
    }
   ],
   "source": [
    "len(preturi)"
   ]
  },
  {
   "cell_type": "markdown",
   "id": "d2d9ee02",
   "metadata": {},
   "source": [
    "### Modificare elemente liste"
   ]
  },
  {
   "cell_type": "code",
   "execution_count": 93,
   "id": "c1a3a7b2",
   "metadata": {},
   "outputs": [
    {
     "data": {
      "text/plain": [
       "[100, 10, 20, 50, 30, 25]"
      ]
     },
     "execution_count": 93,
     "metadata": {},
     "output_type": "execute_result"
    }
   ],
   "source": [
    "preturi"
   ]
  },
  {
   "cell_type": "code",
   "execution_count": 95,
   "id": "1fdb7cde",
   "metadata": {},
   "outputs": [],
   "source": [
    "preturi[0] = 50"
   ]
  },
  {
   "cell_type": "code",
   "execution_count": 96,
   "id": "497be97c",
   "metadata": {},
   "outputs": [
    {
     "data": {
      "text/plain": [
       "[50, 10, 20, 50, 30, 25]"
      ]
     },
     "execution_count": 96,
     "metadata": {},
     "output_type": "execute_result"
    }
   ],
   "source": [
    "preturi"
   ]
  },
  {
   "cell_type": "code",
   "execution_count": 97,
   "id": "fae1915c",
   "metadata": {},
   "outputs": [
    {
     "ename": "TypeError",
     "evalue": "can only assign an iterable",
     "output_type": "error",
     "traceback": [
      "\u001b[1;31m---------------------------------------------------------------------------\u001b[0m",
      "\u001b[1;31mTypeError\u001b[0m                                 Traceback (most recent call last)",
      "\u001b[1;32m~\\AppData\\Local\\Temp/ipykernel_16960/386419766.py\u001b[0m in \u001b[0;36m<module>\u001b[1;34m\u001b[0m\n\u001b[1;32m----> 1\u001b[1;33m \u001b[0mpreturi\u001b[0m\u001b[1;33m[\u001b[0m\u001b[1;36m1\u001b[0m\u001b[1;33m:\u001b[0m\u001b[1;33m]\u001b[0m \u001b[1;33m=\u001b[0m \u001b[1;36m40\u001b[0m\u001b[1;33m\u001b[0m\u001b[1;33m\u001b[0m\u001b[0m\n\u001b[0m",
      "\u001b[1;31mTypeError\u001b[0m: can only assign an iterable"
     ]
    }
   ],
   "source": [
    "preturi[1:] = 40"
   ]
  },
  {
   "cell_type": "code",
   "execution_count": 98,
   "id": "92b1fe09",
   "metadata": {},
   "outputs": [],
   "source": [
    "preturi[1:] = [40] * 5 #[40, 40, 40, 40, 40]"
   ]
  },
  {
   "cell_type": "code",
   "execution_count": 99,
   "id": "3a7262a4",
   "metadata": {},
   "outputs": [
    {
     "data": {
      "text/plain": [
       "[50, 40, 40, 40, 40, 40]"
      ]
     },
     "execution_count": 99,
     "metadata": {},
     "output_type": "execute_result"
    }
   ],
   "source": [
    "preturi"
   ]
  },
  {
   "cell_type": "code",
   "execution_count": 100,
   "id": "85fb7205",
   "metadata": {},
   "outputs": [
    {
     "data": {
      "text/plain": [
       "[40, 40, 40, 40, 40]"
      ]
     },
     "execution_count": 100,
     "metadata": {},
     "output_type": "execute_result"
    }
   ],
   "source": [
    "[40] * 5"
   ]
  },
  {
   "cell_type": "code",
   "execution_count": 101,
   "id": "46d4aeed",
   "metadata": {},
   "outputs": [],
   "source": [
    "preturi = [100, 10, 20, 50, 30, 25]"
   ]
  },
  {
   "cell_type": "code",
   "execution_count": 102,
   "id": "996cd52c",
   "metadata": {},
   "outputs": [],
   "source": [
    "preturi.sort()"
   ]
  },
  {
   "cell_type": "code",
   "execution_count": 103,
   "id": "742e1308",
   "metadata": {},
   "outputs": [
    {
     "data": {
      "text/plain": [
       "[10, 20, 25, 30, 50, 100]"
      ]
     },
     "execution_count": 103,
     "metadata": {},
     "output_type": "execute_result"
    }
   ],
   "source": [
    "preturi"
   ]
  },
  {
   "cell_type": "code",
   "execution_count": 104,
   "id": "c140648c",
   "metadata": {},
   "outputs": [],
   "source": [
    "preturi.sort(reverse = True)"
   ]
  },
  {
   "cell_type": "code",
   "execution_count": 105,
   "id": "af3a32d3",
   "metadata": {},
   "outputs": [
    {
     "data": {
      "text/plain": [
       "[100, 50, 30, 25, 20, 10]"
      ]
     },
     "execution_count": 105,
     "metadata": {},
     "output_type": "execute_result"
    }
   ],
   "source": [
    "preturi"
   ]
  },
  {
   "cell_type": "code",
   "execution_count": 106,
   "id": "cc150829",
   "metadata": {},
   "outputs": [
    {
     "data": {
      "text/plain": [
       "[10, 20, 25, 30, 50, 100]"
      ]
     },
     "execution_count": 106,
     "metadata": {},
     "output_type": "execute_result"
    }
   ],
   "source": [
    "preturi.sort()\n",
    "preturi"
   ]
  },
  {
   "cell_type": "code",
   "execution_count": 107,
   "id": "b0451051",
   "metadata": {},
   "outputs": [
    {
     "data": {
      "text/plain": [
       "[100, 50, 30, 25, 20, 10]"
      ]
     },
     "execution_count": 107,
     "metadata": {},
     "output_type": "execute_result"
    }
   ],
   "source": [
    "preturi = preturi[::-1] #ordonare inversa, in functie de pozitie"
   ]
  },
  {
   "cell_type": "code",
   "execution_count": 108,
   "id": "97a14459",
   "metadata": {},
   "outputs": [
    {
     "data": {
      "text/plain": [
       "[10, 25, 50]"
      ]
     },
     "execution_count": 108,
     "metadata": {},
     "output_type": "execute_result"
    }
   ],
   "source": [
    "preturi[::2]"
   ]
  },
  {
   "cell_type": "code",
   "execution_count": 109,
   "id": "6515263b",
   "metadata": {},
   "outputs": [],
   "source": [
    "preturi.reverse() #echivalent cu: preturi = preturi[::-1]"
   ]
  },
  {
   "cell_type": "code",
   "execution_count": 110,
   "id": "758fc8aa",
   "metadata": {},
   "outputs": [
    {
     "data": {
      "text/plain": [
       "[100, 50, 30, 25, 20, 10]"
      ]
     },
     "execution_count": 110,
     "metadata": {},
     "output_type": "execute_result"
    }
   ],
   "source": [
    "preturi"
   ]
  },
  {
   "cell_type": "code",
   "execution_count": 111,
   "id": "cd8582cc",
   "metadata": {},
   "outputs": [],
   "source": [
    "preturi = [100, 10, 20, 50, 30, 25]\n",
    "preturi.reverse()"
   ]
  },
  {
   "cell_type": "code",
   "execution_count": 112,
   "id": "ceb43e44",
   "metadata": {},
   "outputs": [
    {
     "data": {
      "text/plain": [
       "[25, 30, 50, 20, 10, 100]"
      ]
     },
     "execution_count": 112,
     "metadata": {},
     "output_type": "execute_result"
    }
   ],
   "source": [
    "preturi"
   ]
  },
  {
   "cell_type": "code",
   "execution_count": 114,
   "id": "71ff6c8c",
   "metadata": {},
   "outputs": [
    {
     "data": {
      "text/plain": [
       "[25, 30, 50, 20, 10, 100, 75]"
      ]
     },
     "execution_count": 114,
     "metadata": {},
     "output_type": "execute_result"
    }
   ],
   "source": [
    "#Adaugare elemente la lista: operator \"+\", metoda .append(), metoda .extend()\n",
    "preturi = preturi + [75]\n",
    "preturi"
   ]
  },
  {
   "cell_type": "code",
   "execution_count": 115,
   "id": "cbb7a50f",
   "metadata": {},
   "outputs": [
    {
     "data": {
      "text/plain": [
       "[25, 30, 50, 20, 10, 100, 75, 75]"
      ]
     },
     "execution_count": 115,
     "metadata": {},
     "output_type": "execute_result"
    }
   ],
   "source": [
    "preturi.append(75)\n",
    "preturi"
   ]
  },
  {
   "cell_type": "code",
   "execution_count": 116,
   "id": "22e26125",
   "metadata": {},
   "outputs": [
    {
     "data": {
      "text/plain": [
       "[25, 30, 50, 20, 10, 100, 75, 75, 45, 65]"
      ]
     },
     "execution_count": 116,
     "metadata": {},
     "output_type": "execute_result"
    }
   ],
   "source": [
    "preturi.extend([45, 65])\n",
    "preturi"
   ]
  },
  {
   "cell_type": "code",
   "execution_count": 117,
   "id": "036c7e14",
   "metadata": {},
   "outputs": [],
   "source": [
    "preturi.insert(3, 55)"
   ]
  },
  {
   "cell_type": "code",
   "execution_count": 118,
   "id": "2d911332",
   "metadata": {},
   "outputs": [
    {
     "data": {
      "text/plain": [
       "[25, 30, 50, 55, 20, 10, 100, 75, 75, 45, 65]"
      ]
     },
     "execution_count": 118,
     "metadata": {},
     "output_type": "execute_result"
    }
   ],
   "source": [
    "preturi"
   ]
  },
  {
   "cell_type": "code",
   "execution_count": 119,
   "id": "0f2a0e53",
   "metadata": {},
   "outputs": [
    {
     "data": {
      "text/plain": [
       "[25, 30, 50, 55, 20, 10, 100, 75, 45, 65]"
      ]
     },
     "execution_count": 119,
     "metadata": {},
     "output_type": "execute_result"
    }
   ],
   "source": [
    "preturi.remove(75)\n",
    "preturi"
   ]
  },
  {
   "cell_type": "code",
   "execution_count": 124,
   "id": "4bcadddb",
   "metadata": {},
   "outputs": [],
   "source": [
    "preturi[1:2] = []"
   ]
  },
  {
   "cell_type": "code",
   "execution_count": 125,
   "id": "7002ebbd",
   "metadata": {},
   "outputs": [
    {
     "data": {
      "text/plain": [
       "[25, 50, 55, 20, 10, 100, 75, 45, 65]"
      ]
     },
     "execution_count": 125,
     "metadata": {},
     "output_type": "execute_result"
    }
   ],
   "source": [
    "preturi"
   ]
  },
  {
   "cell_type": "code",
   "execution_count": 128,
   "id": "82f6edd3",
   "metadata": {},
   "outputs": [
    {
     "data": {
      "text/plain": [
       "45"
      ]
     },
     "execution_count": 128,
     "metadata": {},
     "output_type": "execute_result"
    }
   ],
   "source": [
    "new_price = preturi.pop()\n",
    "new_price"
   ]
  },
  {
   "cell_type": "code",
   "execution_count": 129,
   "id": "1b7fef64",
   "metadata": {},
   "outputs": [
    {
     "data": {
      "text/plain": [
       "[25, 50, 55, 20, 10, 100, 75]"
      ]
     },
     "execution_count": 129,
     "metadata": {},
     "output_type": "execute_result"
    }
   ],
   "source": [
    "preturi"
   ]
  },
  {
   "cell_type": "markdown",
   "id": "7d85690f",
   "metadata": {},
   "source": [
    "### Generator de secvente numerice: range()"
   ]
  },
  {
   "cell_type": "code",
   "execution_count": null,
   "id": "4f592950",
   "metadata": {},
   "outputs": [],
   "source": [
    "range(start, stop, step)"
   ]
  },
  {
   "cell_type": "markdown",
   "id": "2eae6331",
   "metadata": {},
   "source": [
    "Timp de 10 luni au fost depuse sume de bani in cont. Sa se genereze o serie de momente de timp la care au fost depuse sume de bani cu ajutorul obiectului range."
   ]
  },
  {
   "cell_type": "code",
   "execution_count": 131,
   "id": "ab7b42e7",
   "metadata": {},
   "outputs": [
    {
     "data": {
      "text/plain": [
       "[0, 1, 2, 3, 4, 5, 6, 7, 8, 9]"
      ]
     },
     "execution_count": 131,
     "metadata": {},
     "output_type": "execute_result"
    }
   ],
   "source": [
    "list(range(0, 10)) #list = built-in class; int, str, float, bool,..."
   ]
  },
  {
   "cell_type": "code",
   "execution_count": 132,
   "id": "8285486c",
   "metadata": {},
   "outputs": [
    {
     "data": {
      "text/plain": [
       "[1, 2, 3, 4, 5, 6, 7, 8, 9, 10]"
      ]
     },
     "execution_count": 132,
     "metadata": {},
     "output_type": "execute_result"
    }
   ],
   "source": [
    "list(range(1, 11))"
   ]
  },
  {
   "cell_type": "markdown",
   "id": "aaccae86",
   "metadata": {},
   "source": [
    "Ex: Suma de 100 RON exista deja, intr-un cont de economii. La aceasta suma, vor fi adaugate urmatoarele depuneri:\n",
    "- 10 RON, dupa perioada t1\n",
    "- 20 RON, dupa perioada t2\n",
    "- 50 RON, dupa perioada t3\n",
    "- 30 RON, dupa perioada t4\n",
    "- 25 RON, dupa perioada t5 <br>\n",
    "Fiecare din aceste fluxuri de numerar va fi adaugat la finalul perioadei precedente. Sa se calculeze valoarea viitoare, din contul de economii, dupa 5 ani, la o dobanda de 3% pe an."
   ]
  },
  {
   "cell_type": "code",
   "execution_count": 133,
   "id": "8a8855cc",
   "metadata": {},
   "outputs": [],
   "source": [
    "preturi = [100, 10, 20, 50, 30, 25]"
   ]
  },
  {
   "cell_type": "code",
   "execution_count": 134,
   "id": "a53ad332",
   "metadata": {},
   "outputs": [
    {
     "data": {
      "text/plain": [
       "[0, 1, 2, 3, 4, 5]"
      ]
     },
     "execution_count": 134,
     "metadata": {},
     "output_type": "execute_result"
    }
   ],
   "source": [
    "perioade = list(range(6))\n",
    "perioade"
   ]
  },
  {
   "cell_type": "code",
   "execution_count": 135,
   "id": "dedf8c5b",
   "metadata": {},
   "outputs": [
    {
     "data": {
      "text/plain": [
       "[5, 4, 3, 2, 1, 0]"
      ]
     },
     "execution_count": 135,
     "metadata": {},
     "output_type": "execute_result"
    }
   ],
   "source": [
    "perioade.reverse()\n",
    "perioade"
   ]
  },
  {
   "cell_type": "code",
   "execution_count": 136,
   "id": "39dbbe57",
   "metadata": {},
   "outputs": [],
   "source": [
    "factor_dobanda = 1 + 0.03"
   ]
  },
  {
   "cell_type": "code",
   "execution_count": 142,
   "id": "f80dd947",
   "metadata": {},
   "outputs": [
    {
     "data": {
      "text/plain": [
       "149.03703553000003"
      ]
     },
     "execution_count": 142,
     "metadata": {},
     "output_type": "execute_result"
    }
   ],
   "source": [
    "100*1.03**5+\\\n",
    "10*1.03**4+\\\n",
    "20*1.03**3\n",
    "#50*1.03**2\n",
    "#30*1.03**1\n",
    "#25*1.03**0"
   ]
  },
  {
   "cell_type": "code",
   "execution_count": 137,
   "id": "30bea73d",
   "metadata": {},
   "outputs": [
    {
     "name": "stdout",
     "output_type": "stream",
     "text": [
      "115.92740743\n",
      "127.18249553000001\n",
      "149.03703553000003\n",
      "202.08203553\n",
      "232.98203553000002\n",
      "257.98203553\n",
      "257.98203553\n"
     ]
    }
   ],
   "source": [
    "valoare_viitoare = 0\n",
    "for pozitie in range(6): #[0, 1, 2, 3, 4, 5]\n",
    "    valoare_viitoare = valoare_viitoare + preturi[pozitie]*factor_dobanda**perioade[pozitie]\n",
    "    #valoare_viitoare += preturi[pozitie]*factor_dobanda**perioade[pozitie]\n",
    "    print(valoare_viitoare)\n",
    "print(valoare_viitoare)"
   ]
  },
  {
   "cell_type": "code",
   "execution_count": null,
   "id": "0343dd87",
   "metadata": {},
   "outputs": [],
   "source": []
  }
 ],
 "metadata": {
  "kernelspec": {
   "display_name": "Python 3 (ipykernel)",
   "language": "python",
   "name": "python3"
  },
  "language_info": {
   "codemirror_mode": {
    "name": "ipython",
    "version": 3
   },
   "file_extension": ".py",
   "mimetype": "text/x-python",
   "name": "python",
   "nbconvert_exporter": "python",
   "pygments_lexer": "ipython3",
   "version": "3.9.7"
  }
 },
 "nbformat": 4,
 "nbformat_minor": 5
}
