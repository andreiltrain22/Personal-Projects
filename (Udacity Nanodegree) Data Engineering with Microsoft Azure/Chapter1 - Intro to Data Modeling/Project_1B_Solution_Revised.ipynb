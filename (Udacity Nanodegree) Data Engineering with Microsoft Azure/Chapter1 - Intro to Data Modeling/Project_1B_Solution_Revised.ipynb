{
 "cells": [
  {
   "cell_type": "markdown",
   "metadata": {},
   "source": [
    "# Part I. ETL Pipeline for Pre-Processing the Files"
   ]
  },
  {
   "cell_type": "markdown",
   "metadata": {},
   "source": [
    "## PLEASE RUN THE FOLLOWING CODE FOR PRE-PROCESSING THE FILES"
   ]
  },
  {
   "cell_type": "markdown",
   "metadata": {},
   "source": [
    "#### Import Python packages "
   ]
  },
  {
   "cell_type": "code",
   "execution_count": 1,
   "metadata": {},
   "outputs": [],
   "source": [
    "# Import Python packages \n",
    "#import pandas as pd\n",
    "import cassandra\n",
    "#import re\n",
    "import os\n",
    "import glob\n",
    "#import numpy as np\n",
    "#import json\n",
    "import csv"
   ]
  },
  {
   "cell_type": "markdown",
   "metadata": {},
   "source": [
    "#### Creating list of filepaths to process original event csv data files"
   ]
  },
  {
   "cell_type": "code",
   "execution_count": 2,
   "metadata": {},
   "outputs": [
    {
     "name": "stdout",
     "output_type": "stream",
     "text": [
      "/home/workspace\n",
      "['/home/workspace/event_data/2018-11-27-events.csv', '/home/workspace/event_data/2018-11-04-events.csv', '/home/workspace/event_data/2018-11-07-events.csv', '/home/workspace/event_data/2018-11-09-events.csv', '/home/workspace/event_data/2018-11-19-events.csv', '/home/workspace/event_data/2018-11-05-events.csv', '/home/workspace/event_data/2018-11-22-events.csv', '/home/workspace/event_data/2018-11-16-events.csv', '/home/workspace/event_data/2018-11-26-events.csv', '/home/workspace/event_data/2018-11-24-events.csv', '/home/workspace/event_data/2018-11-29-events.csv', '/home/workspace/event_data/2018-11-15-events.csv', '/home/workspace/event_data/2018-11-20-events.csv', '/home/workspace/event_data/2018-11-06-events.csv', '/home/workspace/event_data/2018-11-18-events.csv', '/home/workspace/event_data/2018-11-21-events.csv', '/home/workspace/event_data/2018-11-10-events.csv', '/home/workspace/event_data/2018-11-23-events.csv', '/home/workspace/event_data/2018-11-02-events.csv', '/home/workspace/event_data/2018-11-28-events.csv', '/home/workspace/event_data/2018-11-03-events.csv', '/home/workspace/event_data/2018-11-13-events.csv', '/home/workspace/event_data/2018-11-30-events.csv', '/home/workspace/event_data/2018-11-12-events.csv', '/home/workspace/event_data/2018-11-01-events.csv', '/home/workspace/event_data/2018-11-14-events.csv', '/home/workspace/event_data/2018-11-25-events.csv', '/home/workspace/event_data/2018-11-08-events.csv', '/home/workspace/event_data/2018-11-17-events.csv', '/home/workspace/event_data/2018-11-11-events.csv']\n"
     ]
    }
   ],
   "source": [
    "# checking your current working directory\n",
    "print(os.getcwd())\n",
    "\n",
    "# Get your current folder and subfolder event data\n",
    "filepath = os.getcwd() + '/event_data'\n",
    "\n",
    "# Create a for loop to create a list of files and collect each filepath\n",
    "for root, dirs, files in os.walk(filepath):\n",
    "    \n",
    "# join the file path and roots with the subdirectories using glob\n",
    "    file_path_list = glob.glob(os.path.join(root,'*'))\n",
    "    print(file_path_list)"
   ]
  },
  {
   "cell_type": "markdown",
   "metadata": {},
   "source": [
    "#### Processing the files to create the data file csv that will be used for Apache Casssandra tables"
   ]
  },
  {
   "cell_type": "code",
   "execution_count": 3,
   "metadata": {},
   "outputs": [],
   "source": [
    "# initiating an empty list of rows that will be generated from each file\n",
    "full_data_rows_list = [] \n",
    "    \n",
    "# for every filepath in the file path list \n",
    "for f in file_path_list:\n",
    "\n",
    "# reading csv file \n",
    "    with open(f, 'r', encoding = 'utf8', newline='') as csvfile: \n",
    "        # creating a csv reader object \n",
    "        csvreader = csv.reader(csvfile) \n",
    "        next(csvreader)\n",
    "        \n",
    " # extracting each data row one by one and append it        \n",
    "        for line in csvreader:\n",
    "            #print(line)\n",
    "            full_data_rows_list.append(line) \n",
    "            \n",
    "#get total number of rows \n",
    "#print(len(full_data_rows_list))\n",
    "#check to see what the list of event data rows will look like\n",
    "#print(full_data_rows_list)\n",
    "\n",
    "# creating a smaller event data csv file called event_datafile_full csv that will be used to insert data into the\n",
    "# Apache Cassandra tables\n",
    "csv.register_dialect('myDialect', quoting=csv.QUOTE_ALL, skipinitialspace=True)\n",
    "\n",
    "with open('event_datafile_new.csv', 'w', encoding = 'utf8', newline='') as f:\n",
    "    writer = csv.writer(f, dialect='myDialect')\n",
    "    writer.writerow(['artist','firstName','gender','itemInSession','lastName','length',\\\n",
    "                'level','location','sessionId','song','userId'])\n",
    "    for row in full_data_rows_list:\n",
    "        if (row[0] == ''):\n",
    "            continue\n",
    "        writer.writerow((row[0], row[2], row[3], row[4], row[5], row[6], row[7], row[8], row[12], row[13], row[16]))\n"
   ]
  },
  {
   "cell_type": "code",
   "execution_count": 4,
   "metadata": {},
   "outputs": [
    {
     "name": "stdout",
     "output_type": "stream",
     "text": [
      "6821\n"
     ]
    }
   ],
   "source": [
    "# check the number of rows in your csv file\n",
    "with open('event_datafile_new.csv', 'r', encoding = 'utf8') as f:\n",
    "    print(sum(1 for line in f))"
   ]
  },
  {
   "cell_type": "markdown",
   "metadata": {},
   "source": [
    "# Part II. Complete the Apache Cassandra coding portion of your project. \n",
    "\n",
    "## Now you are ready to work with the CSV file titled <font color=red>event_datafile_new.csv</font>, located within the Workspace directory.  The event_datafile_new.csv contains the following columns: \n",
    "- artist \n",
    "- firstName of user\n",
    "- gender of user\n",
    "- item number in session\n",
    "- last name of user\n",
    "- length of the song\n",
    "- level (paid or free song)\n",
    "- location of the user\n",
    "- sessionId\n",
    "- song title\n",
    "- userId\n",
    "\n",
    "The image below is a screenshot of what the denormalized data should appear like in the <font color=red>**event_datafile_new.csv**</font> after the code above is run:<br>\n",
    "\n",
    "<img src=\"images/image_event_datafile_new.jpg\">"
   ]
  },
  {
   "cell_type": "markdown",
   "metadata": {},
   "source": [
    "## Begin writing your Apache Cassandra code in the cells below"
   ]
  },
  {
   "cell_type": "markdown",
   "metadata": {},
   "source": [
    "#### Creating a Cluster"
   ]
  },
  {
   "cell_type": "code",
   "execution_count": 5,
   "metadata": {},
   "outputs": [],
   "source": [
    "# This should make a connection to a Cassandra instance your local machine (127.0.0.1)\n",
    "\n",
    "from cassandra.cluster import Cluster\n",
    "cluster = Cluster()\n",
    "\n",
    "# To establish connection and begin executing queries, need a session\n",
    "session = cluster.connect()"
   ]
  },
  {
   "cell_type": "markdown",
   "metadata": {},
   "source": [
    "#### Create Keyspace"
   ]
  },
  {
   "cell_type": "code",
   "execution_count": 6,
   "metadata": {},
   "outputs": [],
   "source": [
    "# Create a Keyspace\n",
    "try:\n",
    "    session.execute(\"\"\"\n",
    "                        CREATE KEYSPACE IF NOT EXISTS sparkify\n",
    "                        WITH REPLICATION = \n",
    "                        {'class': 'SimpleStrategy', 'replication_factor': 1}\n",
    "                    \"\"\"\n",
    ")\n",
    "    \n",
    "except Exception as e:\n",
    "    print(e)"
   ]
  },
  {
   "cell_type": "markdown",
   "metadata": {},
   "source": [
    "#### Set Keyspace"
   ]
  },
  {
   "cell_type": "code",
   "execution_count": 7,
   "metadata": {},
   "outputs": [],
   "source": [
    "# Set KEYSPACE to the keyspace specified above\n",
    "try:\n",
    "    session.set_keyspace('sparkify')\n",
    "except Exception as e:\n",
    "    print(e)"
   ]
  },
  {
   "cell_type": "markdown",
   "metadata": {},
   "source": [
    "## Create queries to ask the following three questions of the data\n",
    "\n",
    "### 1. Give me the artist, song title and song's length in the music app history that was heard during  sessionId = 338, and itemInSession  = 4\n",
    "\n",
    "\n",
    "### 2. Give me only the following: name of artist, song (sorted by itemInSession) and user (first and last name) for userid = 10, sessionid = 182\n",
    "    \n",
    "\n",
    "### 3. Give me every user name (first and last) in my music app history who listened to the song 'All Hands Against His Own'\n"
   ]
  },
  {
   "cell_type": "markdown",
   "metadata": {},
   "source": [
    "### Query 1:  Give me the artist, song title and song's length in the music app history that was heard during sessionId = 338 and itemInSession = 4\n",
    "\n",
    "    select artist, songTitle, songLen\n",
    "    from music_session\n",
    "    where sessionId = 338\n",
    "    and itemInSession = 4                    "
   ]
  },
  {
   "cell_type": "markdown",
   "metadata": {},
   "source": [
    "### Table structure:\n",
    "\n",
    "* The **primary key** will be represented by a **composite partitioning key** comprised of **sessionId and itemInSession**. These two columns serve as filtering columns so it's important that they are both part of the partitioning key. These two columns will also provide **uniqueness** to rows inside the table.\n",
    "* There will be **_no clustering columns_** as there's no need for ordering data by a specific column.\n",
    "* The **non-key columns** that hold information relevant to the query will be: **artist, songLen, songTitle**."
   ]
  },
  {
   "cell_type": "code",
   "execution_count": 8,
   "metadata": {},
   "outputs": [],
   "source": [
    "# Create table statement\n",
    "query = \"\"\"\n",
    "            CREATE TABLE IF NOT EXISTS song_details_in_session (\n",
    "                sessionId int,\n",
    "                itemInSession int,     \n",
    "                artist text,\n",
    "                songLen float,\n",
    "                songTitle text,\n",
    "                PRIMARY KEY ((sessionId, itemInSession))\n",
    "            )\n",
    "        \"\"\"\n",
    "\n",
    "try:\n",
    "    session.execute(query)\n",
    "except Exception as e:\n",
    "    print(e)"
   ]
  },
  {
   "cell_type": "code",
   "execution_count": 9,
   "metadata": {
    "scrolled": false
   },
   "outputs": [],
   "source": [
    "file = 'event_datafile_new.csv'\n",
    "\n",
    "# Read file\n",
    "with open(file, encoding = 'utf8') as f:\n",
    "    csvreader = csv.reader(f)\n",
    "    next(csvreader) # skip header\n",
    "    # Read line by line\n",
    "    for line in csvreader:\n",
    "        #print(line)\n",
    "# Assign the INSERT statements into the `query` variable\n",
    "        query = \"\"\"\n",
    "                    INSERT INTO song_details_in_session (\n",
    "                        sessionId,\n",
    "                        itemInSession,     \n",
    "                        artist,\n",
    "                        songLen,\n",
    "                        songTitle\n",
    "                        )\n",
    "                    VALUES (%s, %s, %s, %s, %s)\n",
    "                \"\"\"\n",
    "        # Assign which column element should be assigned for each column in the INSERT statement.\n",
    "        try:\n",
    "            session.execute(query, (\n",
    "                                    int(line[8]),\n",
    "                                    int(line[3]),\n",
    "                                    line[0],\n",
    "                                    float(line[5]), \n",
    "                                    line[9]\n",
    "                                   )\n",
    "                           )\n",
    "        except Exception as e:\n",
    "            print(e)"
   ]
  },
  {
   "cell_type": "code",
   "execution_count": 10,
   "metadata": {
    "scrolled": true
   },
   "outputs": [
    {
     "name": "stdout",
     "output_type": "stream",
     "text": [
      "Faithless Music Matters (Mark Knight Dub) 495.30731201171875\n"
     ]
    }
   ],
   "source": [
    "# Verify the data was entered into the table\n",
    "query = \"\"\"\n",
    "            select artist, songTitle, songLen\n",
    "            from song_details_in_session\n",
    "            where sessionId = 338\n",
    "            and itemInSession = 4\n",
    "        \"\"\" \n",
    "\n",
    "try:\n",
    "    rows = session.execute(query)\n",
    "except Exception as e:\n",
    "    print(e)\n",
    "    \n",
    "for row in rows:\n",
    "    print(row.artist, row.songtitle, row.songlen)"
   ]
  },
  {
   "cell_type": "markdown",
   "metadata": {},
   "source": [
    "### Query 2: Give me only the following: name of artist, song (sorted by itemInSession) and user (first and last name) for userid = 10, sessionid = 182\n",
    "\n",
    "    select artist, songTitle, userFirstName, userLastName\n",
    "    from music_session2\n",
    "    where userid = 10 \n",
    "    and sessionid = 182\n",
    "    order by itemInSession"
   ]
  },
  {
   "cell_type": "markdown",
   "metadata": {},
   "source": [
    "### Table structure:\n",
    "\n",
    "* The **primary key** will be represented by a **composite partitioning key** comprised of **sessionId and userId**. These two columns serve as filtering columns so it's important that they are both part of the partitioning key. These two columns will also provide **uniqueness** to rows inside the table.\n",
    "* Part of the primary is also a **clustering column, itemInSession**, which is needed in order to sort de data.\n",
    "* The **non-key columns** that hold information relevant to the query will be: **artist, songTitle, userFirstName, userLastName**."
   ]
  },
  {
   "cell_type": "code",
   "execution_count": 11,
   "metadata": {},
   "outputs": [],
   "source": [
    "# Create table statement\n",
    "query = \"\"\"\n",
    "            CREATE TABLE IF NOT EXISTS songs_playlist_in_session (\n",
    "                sessionId int,\n",
    "                userId int,    \n",
    "                itemInSession int,                \n",
    "                userFirstName text,\n",
    "                userLastName text,\n",
    "                artist text,                \n",
    "                songTitle text,\n",
    "                PRIMARY KEY ((sessionId, userId), itemInSession)\n",
    "            )\n",
    "        \"\"\"\n",
    "\n",
    "try:\n",
    "    session.execute(query)\n",
    "except Exception as e:\n",
    "    print(e)"
   ]
  },
  {
   "cell_type": "code",
   "execution_count": 12,
   "metadata": {},
   "outputs": [],
   "source": [
    "file = 'event_datafile_new.csv'\n",
    "\n",
    "# Read file\n",
    "with open(file, encoding = 'utf8') as f:\n",
    "    csvreader = csv.reader(f)\n",
    "    next(csvreader) # skip header\n",
    "    # Read line by line\n",
    "    for line in csvreader:\n",
    "        #print(line)\n",
    "# Assign the INSERT statements into the `query` variable\n",
    "        query = \"\"\"\n",
    "                    INSERT INTO songs_playlist_in_session (\n",
    "                        sessionId,\n",
    "                        userId,    \n",
    "                        itemInSession,                \n",
    "                        userFirstName,\n",
    "                        userLastName,\n",
    "                        artist,                \n",
    "                        songTitle\n",
    "                        )\n",
    "                    VALUES (%s, %s, %s, %s, %s, %s, %s)\n",
    "                \"\"\"\n",
    "        # Assign which column element should be assigned for each column in the INSERT statement.\n",
    "        try:\n",
    "            session.execute(query, (\n",
    "                                    int(line[8]),\n",
    "                                    int(line[10]),\n",
    "                                    int(line[3]),                \n",
    "                                    line[1],\n",
    "                                    line[4],\n",
    "                                    line[0],                 \n",
    "                                    line[9]\n",
    "                                   )\n",
    "                           )\n",
    "        except Exception as e:\n",
    "            print(e)"
   ]
  },
  {
   "cell_type": "code",
   "execution_count": 13,
   "metadata": {},
   "outputs": [
    {
     "name": "stdout",
     "output_type": "stream",
     "text": [
      "0 Down To The Bone Keep On Keepin' On Sylvie Cruz\n",
      "1 Three Drives Greece 2000 Sylvie Cruz\n",
      "2 Sebastien Tellier Kilometer Sylvie Cruz\n",
      "3 Lonnie Gordon Catch You Baby (Steve Pitron & Max Sanna Radio Edit) Sylvie Cruz\n"
     ]
    }
   ],
   "source": [
    "# Verify that the data was entered into the table\n",
    "query = \"\"\"\n",
    "            select artist, songTitle, userFirstName, userLastName, itemInSession\n",
    "            from songs_playlist_in_session\n",
    "            where userid = 10 \n",
    "            and sessionid = 182\n",
    "        \"\"\" \n",
    "\n",
    "try:\n",
    "    rows = session.execute(query)\n",
    "except Exception as e:\n",
    "    print(e)\n",
    "    \n",
    "for row in rows:\n",
    "    print(row.iteminsession, row.artist, row.songtitle, row.userfirstname, row.userlastname)"
   ]
  },
  {
   "cell_type": "markdown",
   "metadata": {},
   "source": [
    "### Query 3: Give me every user name (first and last) in my music app history who listened to the song 'All Hands Against His Own'\n",
    "\n",
    "    select userFirstName, userLastName\n",
    "    from music_session3\n",
    "    where song = 'All Hands Against His Own'                 "
   ]
  },
  {
   "cell_type": "markdown",
   "metadata": {},
   "source": [
    "### Table structure:\n",
    "\n",
    "* The **primary key** will be represented by a **composite partitioning key** comprised of **songTitle and userId**. songTitle serves as a filtering column while userId will be used alongside songTitle in order to provide **uniqueness** to rows inside the table. \n",
    "* There will be **_no clustering columns_** as there's no need for ordering data by a specific column.\n",
    "* The **non-key columns** that hold information relevant to the query will be: **userFirstName, userLastName**."
   ]
  },
  {
   "cell_type": "code",
   "execution_count": 14,
   "metadata": {},
   "outputs": [],
   "source": [
    "# Create table statement\n",
    "query = \"\"\"\n",
    "            CREATE TABLE IF NOT EXISTS users_listening_to_song (\n",
    "                songTitle text,                                \n",
    "                userId int,\n",
    "                userFirstName text,\n",
    "                userLastName text,\n",
    "                PRIMARY KEY ((songTitle, userId))\n",
    "            )\n",
    "        \"\"\"\n",
    "\n",
    "try:\n",
    "    session.execute(query)\n",
    "except Exception as e:\n",
    "    print(e)"
   ]
  },
  {
   "cell_type": "code",
   "execution_count": 15,
   "metadata": {},
   "outputs": [],
   "source": [
    "file = 'event_datafile_new.csv'\n",
    "\n",
    "# Read file\n",
    "with open(file, encoding = 'utf8') as f:\n",
    "    csvreader = csv.reader(f)\n",
    "    next(csvreader) # skip header\n",
    "    # Read line by line\n",
    "    for line in csvreader:\n",
    "        #print(line)\n",
    "# Assign the INSERT statements into the `query` variable\n",
    "        query = \"\"\"\n",
    "                    INSERT INTO users_listening_to_song (\n",
    "                        songTitle,                                        \n",
    "                        userId,\n",
    "                        userFirstName,\n",
    "                        userLastName                  \n",
    "                        )\n",
    "                    VALUES (%s, %s, %s, %s)\n",
    "                \"\"\"\n",
    "        # Assign which column element should be assigned for each column in the INSERT statement.\n",
    "        try:\n",
    "            session.execute(query, (\n",
    "                                    line[9],                                    \n",
    "                                    int(line[10]),\n",
    "                                    line[1],\n",
    "                                    line[4],\n",
    "                                   )\n",
    "                           )\n",
    "        except Exception as e:\n",
    "            print(e)"
   ]
  },
  {
   "cell_type": "code",
   "execution_count": 16,
   "metadata": {},
   "outputs": [
    {
     "name": "stdout",
     "output_type": "stream",
     "text": [
      "Tegan Levine\n",
      "Sara Johnson\n",
      "Jacqueline Lynch\n"
     ]
    }
   ],
   "source": [
    "# Verify the data was entered into the table\n",
    "query = \"\"\"\n",
    "            select userFirstName, userLastName\n",
    "            from users_listening_to_song\n",
    "            where songTitle = 'All Hands Against His Own'\n",
    "            ALLOW FILTERING\n",
    "        \"\"\" \n",
    "#the ALLOW FILTERING clause is used in order to bypass the execution error that prevents the query from returning results.\n",
    "\n",
    "try:\n",
    "    rows = session.execute(query)\n",
    "except Exception as e:\n",
    "    print(e)\n",
    "    \n",
    "for row in rows:\n",
    "    print(row.userfirstname, row.userlastname)"
   ]
  },
  {
   "cell_type": "markdown",
   "metadata": {},
   "source": [
    "### Drop the tables before closing out the sessions"
   ]
  },
  {
   "cell_type": "code",
   "execution_count": 17,
   "metadata": {},
   "outputs": [],
   "source": [
    "# Drop the tables before closing out the sessions\n",
    "for tbl in ('song_details_in_session', 'songs_playlist_in_session', 'users_listening_to_song'):\n",
    "    try:\n",
    "        session.execute('drop table ' + tbl)\n",
    "    except Exception as e:\n",
    "        print(e)"
   ]
  },
  {
   "cell_type": "markdown",
   "metadata": {},
   "source": [
    "### Close the session and cluster connection¶"
   ]
  },
  {
   "cell_type": "code",
   "execution_count": 18,
   "metadata": {},
   "outputs": [],
   "source": [
    "session.shutdown()\n",
    "cluster.shutdown()"
   ]
  }
 ],
 "metadata": {
  "kernelspec": {
   "display_name": "Python 3",
   "language": "python",
   "name": "python3"
  },
  "language_info": {
   "codemirror_mode": {
    "name": "ipython",
    "version": 3
   },
   "file_extension": ".py",
   "mimetype": "text/x-python",
   "name": "python",
   "nbconvert_exporter": "python",
   "pygments_lexer": "ipython3",
   "version": "3.6.3"
  }
 },
 "nbformat": 4,
 "nbformat_minor": 2
}
